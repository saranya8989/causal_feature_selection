{
 "cells": [
  {
   "cell_type": "code",
   "execution_count": 1,
   "id": "c352d17d",
   "metadata": {},
   "outputs": [],
   "source": [
    "# Imports\n",
    "import numpy as np\n",
    "import matplotlib\n",
    "from matplotlib import pyplot as plt\n",
    "%matplotlib inline     \n",
    "## use `%matplotlib notebook` for interactive figures\n",
    "# plt.style.use('ggplot')\n",
    "import sklearn\n",
    "\n",
    "import tigramite\n",
    "from tigramite import data_processing as pp\n",
    "from tigramite.toymodels import structural_causal_processes as toys\n",
    "\n",
    "from tigramite import plotting as tp\n",
    "from tigramite.pcmci import PCMCI\n",
    "from tigramite.independence_tests import ParCorr, GPDC, CMIknn, CMIsymb\n",
    "\n",
    "import pandas as pd\n",
    "import numpy as np"
   ]
  },
  {
   "cell_type": "code",
   "execution_count": 2,
   "id": "548a69d1",
   "metadata": {},
   "outputs": [],
   "source": [
    "def select_links(tau_min, tau_max, parents, children):\n",
    "    \"\"\"\n",
    "    This function selects the causal links that will be tested by\n",
    "    PCMCI. The links are selected such that per each variable in\n",
    "    `children` all `parents` are stablished as causes, and no other\n",
    "    causal relationships exist.\n",
    "    \n",
    "    Assumes `parents` and `children` are disjoint sets, and that all\n",
    "    variables are included in the union of both sets.\n",
    "    \n",
    "    Parameters\n",
    "    ----------\n",
    "    tau_min : int\n",
    "        Minimum time lag to test. Note that zero-lags are undirected.\n",
    "    tau_max : int\n",
    "        Maximum time lag. Must be larger or equal to tau_min.\n",
    "    parents : set of int\n",
    "        List of variables that will be assigned as a parent link.\n",
    "        Assumed to be disjoint with children\n",
    "    children : set of int\n",
    "        List of variables that will be assigned a link from a parent.\n",
    "        Assumed to be disjoint with parents\n",
    "    Returns\n",
    "    -------\n",
    "    selected_links: dict\n",
    "        Dictionary of selected links for Tigramite\n",
    "        \n",
    "    \"\"\"\n",
    "\n",
    "    parents = set(parents)\n",
    "    children = set(children)\n",
    "\n",
    "    selected_links = dict()\n",
    "    # Set the default as all combinations of the selected variables\n",
    "    for var in [*children, *parents]:\n",
    "        if var in children:\n",
    "            # Children can be caused only by parents and by themselves\n",
    "            selected_links[var] = [\n",
    "                (parent, -lag)\n",
    "                for parent in parents\n",
    "                for lag in range(tau_min, tau_max + 1)\n",
    "            ]\n",
    "        else:\n",
    "            selected_links[var] = []\n",
    "\n",
    "    return selected_links"
   ]
  },
  {
   "cell_type": "code",
   "execution_count": 8,
   "id": "d9f06853",
   "metadata": {},
   "outputs": [],
   "source": [
    "path='/work/FAC/FGSE/IDYST/tbeucler/default/saranya/create_ts/outputs/outer/'"
   ]
  },
  {
   "cell_type": "code",
   "execution_count": 9,
   "id": "22ae3b7e",
   "metadata": {},
   "outputs": [],
   "source": [
    "df = pd.read_csv(path+\"outer_all_amphan.csv\",sep=',')"
   ]
  },
  {
   "cell_type": "code",
   "execution_count": 11,
   "id": "965a2f27",
   "metadata": {},
   "outputs": [],
   "source": [
    "df.rename({\"Unnamed: 0\":\"a\"}, axis=\"columns\", inplace=True)\n",
    "df=df.drop('a', axis=1)"
   ]
  },
  {
   "cell_type": "code",
   "execution_count": 18,
   "id": "8ac9a589",
   "metadata": {},
   "outputs": [],
   "source": [
    "varnames=df.columns.values.tolist()"
   ]
  },
  {
   "cell_type": "code",
   "execution_count": 20,
   "id": "c14bb303",
   "metadata": {},
   "outputs": [
    {
     "data": {
      "text/plain": [
       "['time',\n",
       " 'P_min',\n",
       " 'W10_max',\n",
       " 'div200',\n",
       " 'div300',\n",
       " 'div400',\n",
       " 'div500',\n",
       " 'eqt1000',\n",
       " 'eqt200',\n",
       " 'eqt250',\n",
       " 'eqt300',\n",
       " 'eqt400',\n",
       " 'eqt500',\n",
       " 'eqt600',\n",
       " 'eqt700',\n",
       " 'eqt850',\n",
       " 'eqt925',\n",
       " 'sh850_200',\n",
       " 'sh850_250',\n",
       " 'sh925_200',\n",
       " 'sh925_250',\n",
       " 'ws10m',\n",
       " 'wstrss10m',\n",
       " 'u10',\n",
       " 'v10',\n",
       " '2mdewtmp',\n",
       " '2mtmp',\n",
       " 'conv_ppt',\n",
       " 'tot_cld_ice',\n",
       " 'tot_cldwtr',\n",
       " 'tot_cld_rain',\n",
       " 'vi_div_cld_froz_wtr',\n",
       " 'vi_div_cld_liq_wtr',\n",
       " 'vi_div_gpot_flux',\n",
       " 'vi_div_ke_flux',\n",
       " 'vi_div_mass_flux',\n",
       " 'vi_div_moisture_flux',\n",
       " 'vi_div_olr_flux',\n",
       " 'vi_div_tot_enrgy_flux',\n",
       " 'vi_ke',\n",
       " 'vi_pe_inte',\n",
       " 'vi_pe_ie_latentenrgy',\n",
       " 'vi_temp',\n",
       " 'vi_olr',\n",
       " 'vi_tot_enrgy',\n",
       " 'vi_moisture_div',\n",
       " 'cape',\n",
       " 'inst_10m_wnd_gst',\n",
       " 'inst_moisture_flux',\n",
       " 'inst_ssh_flux',\n",
       " 'surfmean_swr_flux',\n",
       " 'surfmean_lhf',\n",
       " 'surfmean_lwr_flux',\n",
       " 'surfmean_shf',\n",
       " 'dwnwrdmean_swr_flux',\n",
       " 'topmean_lwr_flux',\n",
       " 'topmean_swr_flux',\n",
       " 'vimean_moisture_div',\n",
       " 'surf_lhf',\n",
       " 'surf_shf',\n",
       " 'tot_suprcool_liqwtr',\n",
       " 'tot_wtr_vpr',\n",
       " 'mslp',\n",
       " 'conv_rrate',\n",
       " 'ls_rrate',\n",
       " 'mn_conv_prate',\n",
       " 'mn_ls_prate',\n",
       " 'mn_tot_prate',\n",
       " 'sst',\n",
       " 'vort_10',\n",
       " 'vort_20',\n",
       " 'vort_30',\n",
       " 'vort_50',\n",
       " 'vort_70',\n",
       " 'vort_100',\n",
       " 'vort_150',\n",
       " 'vort_200',\n",
       " 'vort_250',\n",
       " 'vort_300',\n",
       " 'vort_400',\n",
       " 'vort_500',\n",
       " 'vort_600',\n",
       " 'vort_700',\n",
       " 'vort_800',\n",
       " 'vort_850',\n",
       " 'vort_900',\n",
       " 'vort_925',\n",
       " 'vort_950',\n",
       " 'vort_975',\n",
       " 'vort_1000',\n",
       " 'rhum_10',\n",
       " 'rhum_20',\n",
       " 'rhum_30',\n",
       " 'rhum_50',\n",
       " 'rhum_70',\n",
       " 'rhum_100',\n",
       " 'rhum_150',\n",
       " 'rhum_200',\n",
       " 'rhum_250',\n",
       " 'rhum_300',\n",
       " 'rhum_400',\n",
       " 'rhum_500',\n",
       " 'rhum_600',\n",
       " 'rhum_700',\n",
       " 'rhum_800',\n",
       " 'rhum_850',\n",
       " 'rhum_900',\n",
       " 'rhum_925',\n",
       " 'rhum_950',\n",
       " 'rhum_975',\n",
       " 'rhum_1000',\n",
       " 'pvor_10',\n",
       " 'pvor_20',\n",
       " 'pvor_30',\n",
       " 'pvor_50',\n",
       " 'pvor_70',\n",
       " 'pvor_100',\n",
       " 'pvor_150',\n",
       " 'pvor_200',\n",
       " 'pvor_250',\n",
       " 'pvor_300',\n",
       " 'pvor_400',\n",
       " 'pvor_500',\n",
       " 'pvor_600',\n",
       " 'pvor_700',\n",
       " 'pvor_800',\n",
       " 'pvor_850',\n",
       " 'pvor_900',\n",
       " 'pvor_925',\n",
       " 'gpot_10',\n",
       " 'gpot_20',\n",
       " 'gpot_30',\n",
       " 'gpot_50',\n",
       " 'gpot_70',\n",
       " 'gpot_100',\n",
       " 'gpot_150',\n",
       " 'gpot_200',\n",
       " 'gpot_250',\n",
       " 'gpot_300',\n",
       " 'gpot_400',\n",
       " 'gpot_500',\n",
       " 'gpot_600',\n",
       " 'gpot_700',\n",
       " 'gpot_800',\n",
       " 'gpot_850',\n",
       " 'gpot_900',\n",
       " 'gpot_925',\n",
       " 'gpot_950',\n",
       " 'gpot_975',\n",
       " 'gpot_1000',\n",
       " 'temp_10',\n",
       " 'temp_20',\n",
       " 'temp_30',\n",
       " 'temp_50',\n",
       " 'temp_70',\n",
       " 'temp_100',\n",
       " 'temp_150',\n",
       " 'temp_200',\n",
       " 'temp_250',\n",
       " 'temp_300',\n",
       " 'temp_400',\n",
       " 'temp_500',\n",
       " 'temp_600',\n",
       " 'temp_700',\n",
       " 'temp_800',\n",
       " 'temp_850',\n",
       " 'temp_900',\n",
       " 'temp_925',\n",
       " 'temp_950',\n",
       " 'temp_975',\n",
       " 'temp_1000',\n",
       " 'vvel_10',\n",
       " 'vvel_20',\n",
       " 'vvel_30',\n",
       " 'vvel_50',\n",
       " 'vvel_70',\n",
       " 'vvel_100',\n",
       " 'vvel_150',\n",
       " 'vvel_200',\n",
       " 'vvel_250',\n",
       " 'vvel_300',\n",
       " 'vvel_400',\n",
       " 'vvel_500',\n",
       " 'vvel_600',\n",
       " 'vvel_700',\n",
       " 'vvel_800',\n",
       " 'vvel_850',\n",
       " 'vvel_900',\n",
       " 'vvel_925']"
      ]
     },
     "execution_count": 20,
     "metadata": {},
     "output_type": "execute_result"
    }
   ],
   "source": [
    "varnames"
   ]
  },
  {
   "cell_type": "code",
   "execution_count": 14,
   "id": "104fad1e",
   "metadata": {},
   "outputs": [
    {
     "data": {
      "text/plain": [
       "(51, 189)"
      ]
     },
     "execution_count": 14,
     "metadata": {},
     "output_type": "execute_result"
    }
   ],
   "source": [
    "storm.shape"
   ]
  },
  {
   "cell_type": "code",
   "execution_count": 15,
   "id": "fee2ef48",
   "metadata": {},
   "outputs": [
    {
     "data": {
      "text/plain": [
       "array([9, 10, 9, 10, 10, 10, 10, 10, 10, 11, 11, 11, 11, 12, 13, 12, 13,\n",
       "       14, 14, 16, 16, 20, 20, 22, 24, 24, 24, 24, 24, 24, 24, 27, 24, 27,\n",
       "       27, 27, 27, 27, 27, 30, 30, 30, 33, 35, 33, 30, 30, 30, 27, 27, 27],\n",
       "      dtype=object)"
      ]
     },
     "execution_count": 15,
     "metadata": {},
     "output_type": "execute_result"
    }
   ],
   "source": [
    "storm[:,2]"
   ]
  },
  {
   "cell_type": "code",
   "execution_count": 21,
   "id": "95ef2ac4",
   "metadata": {},
   "outputs": [],
   "source": [
    "tc=np.empty((51,188))"
   ]
  },
  {
   "cell_type": "code",
   "execution_count": 29,
   "id": "ed4a2e64",
   "metadata": {},
   "outputs": [],
   "source": [
    "tc[:,0]= storm[:,2]\n",
    "tc[:,1]= storm[:,1]\n",
    "tc[:,2:186]=storm[:,3:187]\n",
    "tc[:,187]=storm[:,188]"
   ]
  },
  {
   "cell_type": "code",
   "execution_count": 30,
   "id": "8ece9274",
   "metadata": {},
   "outputs": [
    {
     "data": {
      "text/plain": [
       "array([ 0.01996562,  0.00582355, -0.02061011, -0.03128122,  0.00010586,\n",
       "        0.0074968 , -0.02307711, -0.01058455,  0.01749042,  0.00094566,\n",
       "       -0.02489036, -0.01962531,  0.00016136,  0.01134682, -0.01828143,\n",
       "       -0.00712214,  0.00975008,  0.00759039, -0.02497931, -0.02289604,\n",
       "        0.00588128,  0.01371886, -0.01993024, -0.01427142,  0.01575537,\n",
       "        0.00303249, -0.02338111, -0.02045682,  0.00472898,  0.01457278,\n",
       "       -0.01641051, -0.0046347 ,  0.02331028,  0.00447025, -0.02271121,\n",
       "       -0.01909272,  0.01131312,  0.01577778, -0.01264906, -0.00130119,\n",
       "        0.02448301,  0.00679299, -0.01909981, -0.02305374,  0.00400664,\n",
       "        0.02177111, -0.00924781,  0.00229991,  0.03055884,  0.01089106,\n",
       "       -0.02930009])"
      ]
     },
     "execution_count": 30,
     "metadata": {},
     "output_type": "execute_result"
    }
   ],
   "source": [
    "tc[:,187]"
   ]
  },
  {
   "cell_type": "code",
   "execution_count": 31,
   "id": "92e6da27",
   "metadata": {},
   "outputs": [
    {
     "data": {
      "text/plain": [
       "array([0.0199656168619791, 0.005823548634847, -0.0206101099650065,\n",
       "       -0.0312812169392903, 0.000105857849121, 0.0074968020121256,\n",
       "       -0.02307710647583, -0.010584545135498, 0.0174904187520345,\n",
       "       0.0009456634521484, -0.0248903592427571, -0.0196253140767415,\n",
       "       0.0001613616943359, 0.0113468170166015, -0.0182814280192057,\n",
       "       -0.0071221351623535, 0.0097500801086425, 0.0075903892517089,\n",
       "       -0.0249793052673339, -0.0228960355122884, 0.0058812777201334,\n",
       "       0.0137188593546549, -0.0199302355448404, -0.0142714182535807,\n",
       "       0.0157553672790527, 0.0030324935913085, -0.0233811060587565,\n",
       "       -0.0204568227132161, 0.0047289848327636, 0.0145727793375651,\n",
       "       -0.0164105097452799, -0.0046346982320149, 0.0233102798461914,\n",
       "       0.0044702529907226, -0.0227112134297688, -0.0190927187601725,\n",
       "       0.0113131205240885, 0.0157777786254882, -0.0126490592956542,\n",
       "       -0.0013011932373046, 0.0244830131530761, 0.0067929903666178,\n",
       "       -0.0190998077392578, -0.0230537414550781, 0.0040066401163736,\n",
       "       0.0217711130777994, -0.0092478116353352, 0.0022999127705891,\n",
       "       0.0305588404337565, 0.010891056060791, -0.0293000857035319],\n",
       "      dtype=object)"
      ]
     },
     "execution_count": 31,
     "metadata": {},
     "output_type": "execute_result"
    }
   ],
   "source": []
  },
  {
   "cell_type": "code",
   "execution_count": null,
   "id": "36b8598d",
   "metadata": {},
   "outputs": [],
   "source": []
  }
 ],
 "metadata": {
  "kernelspec": {
   "display_name": "Python 3 (ipykernel)",
   "language": "python",
   "name": "python3"
  },
  "language_info": {
   "codemirror_mode": {
    "name": "ipython",
    "version": 3
   },
   "file_extension": ".py",
   "mimetype": "text/x-python",
   "name": "python",
   "nbconvert_exporter": "python",
   "pygments_lexer": "ipython3",
   "version": "3.8.12"
  }
 },
 "nbformat": 4,
 "nbformat_minor": 5
}
