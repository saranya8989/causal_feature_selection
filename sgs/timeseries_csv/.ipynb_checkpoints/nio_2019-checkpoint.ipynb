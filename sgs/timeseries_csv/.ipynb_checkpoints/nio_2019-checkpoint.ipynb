{
 "cells": [
  {
   "cell_type": "code",
   "execution_count": 1,
   "id": "c9ebb138",
   "metadata": {},
   "outputs": [],
   "source": [
    "# Imports\n",
    "import numpy as np\n",
    "import matplotlib\n",
    "from matplotlib import pyplot as plt\n",
    "%matplotlib inline     \n",
    "## use `%matplotlib notebook` for interactive figures\n",
    "# plt.style.use('ggplot')\n",
    "\n",
    "\n",
    "import tigramite\n",
    "from tigramite import data_processing as pp\n",
    "from tigramite.toymodels import structural_causal_processes as toys\n",
    "\n",
    "from tigramite import plotting as tp\n",
    "from tigramite.pcmci import PCMCI\n",
    "from tigramite.independence_tests import ParCorr, GPDC, CMIknn, CMIsymb\n",
    "\n",
    "import pandas as pd\n",
    "import numpy as np\n",
    "\n",
    "from tigramite.models import Models, Prediction\n",
    "\n",
    "import math\n",
    "import sklearn\n",
    "from sklearn.linear_model import LinearRegression"
   ]
  },
  {
   "cell_type": "code",
   "execution_count": 2,
   "id": "b5d68126",
   "metadata": {},
   "outputs": [],
   "source": [
    "def select_links(tau_min, tau_max, parents, children):\n",
    "    \"\"\"\n",
    "    This function selects the causal links that will be tested by\n",
    "    PCMCI. The links are selected such that per each variable in\n",
    "    `children` all `parents` are stablished as causes, and no other\n",
    "    causal relationships exist.\n",
    "    \n",
    "    Assumes `parents` and `children` are disjoint sets, and that all\n",
    "    variables are included in the union of both sets.\n",
    "    \n",
    "    Parameters\n",
    "    ----------\n",
    "    tau_min : int\n",
    "        Minimum time lag to test. Note that zero-lags are undirected.\n",
    "    tau_max : int\n",
    "        Maximum time lag. Must be larger or equal to tau_min.\n",
    "    parents : set of int\n",
    "        List of variables that will be assigned as a parent link.\n",
    "        Assumed to be disjoint with children\n",
    "    children : set of int\n",
    "        List of variables that will be assigned a link from a parent.\n",
    "        Assumed to be disjoint with parents\n",
    "    Returns\n",
    "    -------\n",
    "    selected_links: dict\n",
    "        Dictionary of selected links for Tigramite\n",
    "        \n",
    "    \"\"\"\n",
    "\n",
    "    parents = set(parents)\n",
    "    children = set(children)\n",
    "\n",
    "    selected_links = dict()\n",
    "    # Set the default as all combinations of the selected variables\n",
    "    for var in [*children, *parents]:\n",
    "        if var in children:\n",
    "            # Children can be caused only by parents and by themselves\n",
    "            selected_links[var] = [\n",
    "                (parent, -lag)\n",
    "                for parent in parents\n",
    "                for lag in range(tau_min, tau_max + 1)\n",
    "            ]\n",
    "        else:\n",
    "            selected_links[var] = []\n",
    "\n",
    "    return selected_links"
   ]
  },
  {
   "cell_type": "code",
   "execution_count": 3,
   "id": "b64aa897",
   "metadata": {},
   "outputs": [],
   "source": [
    "path='/work/FAC/FGSE/IDYST/tbeucler/default/saranya/create_ts/outputs/'"
   ]
  },
  {
   "cell_type": "code",
   "execution_count": 4,
   "id": "4a5819a4",
   "metadata": {},
   "outputs": [],
   "source": [
    "df = pd.read_csv(path+\"timeseries_all_nio_pabuk.csv\",sep=',')\n",
    "df.rename({\"Unnamed: 0\":\"a\"}, axis=\"columns\", inplace=True)\n",
    "df=df.drop('a', axis=1)\n",
    "var_names=df.columns.values.tolist()\n",
    "tc=df.values"
   ]
  },
  {
   "cell_type": "code",
   "execution_count": 6,
   "id": "c5cc6d1b",
   "metadata": {},
   "outputs": [],
   "source": [
    "dataframe = pp.DataFrame(tc, \n",
    "                         datatime = np.arange(len(tc)), \n",
    "                         var_names=var_names)\n",
    "\n",
    "tau_max0 = 16\n",
    "tau_min0 = 1\n",
    "children = [0,1]\n",
    "parents = np.arange(2,270)\n",
    "\n",
    "\n",
    "sel_links = select_links(tau_min0, tau_max0, parents, children)"
   ]
  },
  {
   "cell_type": "code",
   "execution_count": null,
   "id": "cbb3ff6c",
   "metadata": {},
   "outputs": [
    {
     "name": "stdout",
     "output_type": "stream",
     "text": [
      "\n",
      "##\n",
      "## Estimating lagged dependencies \n",
      "##\n",
      "\n",
      "Parameters:\n",
      "\n",
      "independence test = par_corr\n",
      "tau_min = 1\n",
      "tau_max = 16\n"
     ]
    }
   ],
   "source": [
    "parcorr = ParCorr(significance='analytic') #partial correlation\n",
    "pcmci = PCMCI(\n",
    "    dataframe=dataframe, \n",
    "    cond_ind_test=parcorr,\n",
    "    verbosity=1)\n",
    "correlations = pcmci.get_lagged_dependencies(tau_min=tau_min0,tau_max=tau_max0,val_only=True)['val_matrix']"
   ]
  },
  {
   "cell_type": "code",
   "execution_count": null,
   "id": "540fea67",
   "metadata": {},
   "outputs": [],
   "source": [
    "pcmci.verbosity = 1\n",
    "results = pcmci.run_pc_stable(selected_links = sel_links, tau_max=tau_max0, tau_min=tau_min0, pc_alpha=None)"
   ]
  },
  {
   "cell_type": "code",
   "execution_count": null,
   "id": "ab123fed",
   "metadata": {},
   "outputs": [],
   "source": [
    "pcmci.verbosity = 1\n",
    "results = pcmci.run_pcmci(selected_links = sel_links, tau_max=tau_max0, tau_min=tau_min0, pc_alpha=None)\n",
    "\n"
   ]
  },
  {
   "cell_type": "code",
   "execution_count": null,
   "id": "de18da51",
   "metadata": {},
   "outputs": [],
   "source": [
    "q_matrix = pcmci.get_corrected_pvalues(p_matrix=results['p_matrix'],selected_links = sel_links, tau_min=tau_min0,tau_max=tau_max0, fdr_method='fdr_bh')\n",
    "pcmci.print_significant_links(\n",
    "        p_matrix = q_matrix,\n",
    "        val_matrix = results['val_matrix'],\n",
    "        alpha_level = 0.5)\n",
    "graph = pcmci.get_graph_from_pmatrix(p_matrix=q_matrix, alpha_level=0.5,\n",
    "                                     tau_min=tau_min0,tau_max=tau_max0, selected_links=sel_links)\n",
    "results['graph'] = graph\n"
   ]
  },
  {
   "cell_type": "code",
   "execution_count": null,
   "id": "430582c6",
   "metadata": {},
   "outputs": [],
   "source": [
    "fig=plt.rcParams[\"figure.figsize\"] = (20,25)\n",
    "tp.plot_graph(\n",
    "    val_matrix=results['val_matrix'],\n",
    "    graph=results['graph'],\n",
    "    var_names=var_names,\n",
    "    link_colorbar_label='cross-MCI',\n",
    "    node_colorbar_label='auto-MCI',\n",
    "    ); plt.show()\n",
    "plt.savefig('wmax_pabuk_outer_variables.png')"
   ]
  }
 ],
 "metadata": {
  "kernelspec": {
   "display_name": "Python 3 (ipykernel)",
   "language": "python",
   "name": "python3"
  },
  "language_info": {
   "codemirror_mode": {
    "name": "ipython",
    "version": 3
   },
   "file_extension": ".py",
   "mimetype": "text/x-python",
   "name": "python",
   "nbconvert_exporter": "python",
   "pygments_lexer": "ipython3",
   "version": "3.8.12"
  }
 },
 "nbformat": 4,
 "nbformat_minor": 5
}
