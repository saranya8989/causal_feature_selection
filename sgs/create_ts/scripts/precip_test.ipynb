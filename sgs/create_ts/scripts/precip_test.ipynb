{
 "cells": [
  {
   "cell_type": "code",
   "execution_count": 1,
   "id": "51023567",
   "metadata": {},
   "outputs": [],
   "source": [
    "import pandas as pd\n",
    "import numpy as np\n",
    "import xarray as xr\n",
    "\n",
    "%matplotlib inline\n",
    "\n",
    "import cartopy.crs as ccrs\n",
    "import matplotlib.pyplot as plt\n",
    "\n",
    "from scipy.integrate import dblquad"
   ]
  },
  {
   "cell_type": "code",
   "execution_count": 2,
   "id": "c004c7d2",
   "metadata": {},
   "outputs": [],
   "source": [
    "datapath=\"/work/FAC/FGSE/IDYST/tbeucler/default/saranya/Data/ECMWF/ERA5_25kmx3hr/\"\n",
    "target=\"/work/FAC/FGSE/IDYST/tbeucler/default/saranya/create_ts/outputs/targets/\"\n",
    "p1=\"/work/FAC/FGSE/IDYST/tbeucler/default/saranya/create_ts/\""
   ]
  },
  {
   "cell_type": "code",
   "execution_count": 3,
   "id": "15a57492",
   "metadata": {},
   "outputs": [],
   "source": [
    "dm0=xr.open_dataset(datapath+'/slev_vars/svars_2012.nc')\n",
    "dm1=xr.open_dataset(datapath+'/slev_vars/totprec_2011_2020.nc')"
   ]
  },
  {
   "cell_type": "code",
   "execution_count": 386,
   "id": "bb74b725",
   "metadata": {},
   "outputs": [
    {
     "data": {
      "text/plain": [
       "(65, 2)"
      ]
     },
     "execution_count": 386,
     "metadata": {},
     "output_type": "execute_result"
    }
   ],
   "source": [
    "track=pd.read_csv(p1+'tracks_wp/nwp_20121021.csv',delimiter=r\",\")\n",
    "lon1=track['lon'].to_numpy()\n",
    "lat1=track['lat'].to_numpy()\n",
    "pos = arr = np.stack((lat1, lon1), axis=1)\n",
    "pos.shape"
   ]
  },
  {
   "cell_type": "code",
   "execution_count": 387,
   "id": "8674e6c7",
   "metadata": {},
   "outputs": [
    {
     "name": "stdout",
     "output_type": "stream",
     "text": [
      "<class 'pandas.core.series.Series'>\n",
      "RangeIndex: 65 entries, 0 to 64\n",
      "Series name: time\n",
      "Non-Null Count  Dtype \n",
      "--------------  ----- \n",
      "65 non-null     object\n",
      "dtypes: object(1)\n",
      "memory usage: 648.0+ bytes\n"
     ]
    },
    {
     "data": {
      "text/plain": [
       "'2012-10-21:12.00.00'"
      ]
     },
     "execution_count": 387,
     "metadata": {},
     "output_type": "execute_result"
    }
   ],
   "source": [
    "track['time'].info()\n",
    "\n",
    "track['time'][0]\n",
    "\n",
    "#fani dm1.time[928:986]\n",
    "#luban[2222:2291]\n",
    "#gaja 2505:2559\n",
    "#ockhi [2654:2709]\n",
    "#vardah [2722:2772]\n",
    "#kyant [2352:2419]\n",
    "#roanu [1096:1137]\n",
    "#ashoba[1258:1307]\n",
    "#chapala [2396:2449]\n",
    "#megh [2460:2508]\n",
    "#nanauk [1266:1317]\n",
    "#hudhud 2258:2309\n",
    "#nilofar 2364:2437\n",
    "#viyaru 1030:1083\n",
    "#phailin [2236:2279]\n",
    "#lehar [2582:2651]\n",
    "#madi [2704:2765]\n",
    "#keila 2410:2467"
   ]
  },
  {
   "cell_type": "code",
   "execution_count": 388,
   "id": "3a54a59f",
   "metadata": {},
   "outputs": [
    {
     "data": {
      "text/plain": [
       "'2012-10-29:12.00.00'"
      ]
     },
     "execution_count": 388,
     "metadata": {},
     "output_type": "execute_result"
    }
   ],
   "source": [
    "track['time'][64]"
   ]
  },
  {
   "cell_type": "code",
   "execution_count": 389,
   "id": "6bd3224b",
   "metadata": {},
   "outputs": [
    {
     "data": {
      "text/html": [
       "<div><svg style=\"position: absolute; width: 0; height: 0; overflow: hidden\">\n",
       "<defs>\n",
       "<symbol id=\"icon-database\" viewBox=\"0 0 32 32\">\n",
       "<path d=\"M16 0c-8.837 0-16 2.239-16 5v4c0 2.761 7.163 5 16 5s16-2.239 16-5v-4c0-2.761-7.163-5-16-5z\"></path>\n",
       "<path d=\"M16 17c-8.837 0-16-2.239-16-5v6c0 2.761 7.163 5 16 5s16-2.239 16-5v-6c0 2.761-7.163 5-16 5z\"></path>\n",
       "<path d=\"M16 26c-8.837 0-16-2.239-16-5v6c0 2.761 7.163 5 16 5s16-2.239 16-5v-6c0 2.761-7.163 5-16 5z\"></path>\n",
       "</symbol>\n",
       "<symbol id=\"icon-file-text2\" viewBox=\"0 0 32 32\">\n",
       "<path d=\"M28.681 7.159c-0.694-0.947-1.662-2.053-2.724-3.116s-2.169-2.030-3.116-2.724c-1.612-1.182-2.393-1.319-2.841-1.319h-15.5c-1.378 0-2.5 1.121-2.5 2.5v27c0 1.378 1.122 2.5 2.5 2.5h23c1.378 0 2.5-1.122 2.5-2.5v-19.5c0-0.448-0.137-1.23-1.319-2.841zM24.543 5.457c0.959 0.959 1.712 1.825 2.268 2.543h-4.811v-4.811c0.718 0.556 1.584 1.309 2.543 2.268zM28 29.5c0 0.271-0.229 0.5-0.5 0.5h-23c-0.271 0-0.5-0.229-0.5-0.5v-27c0-0.271 0.229-0.5 0.5-0.5 0 0 15.499-0 15.5 0v7c0 0.552 0.448 1 1 1h7v19.5z\"></path>\n",
       "<path d=\"M23 26h-14c-0.552 0-1-0.448-1-1s0.448-1 1-1h14c0.552 0 1 0.448 1 1s-0.448 1-1 1z\"></path>\n",
       "<path d=\"M23 22h-14c-0.552 0-1-0.448-1-1s0.448-1 1-1h14c0.552 0 1 0.448 1 1s-0.448 1-1 1z\"></path>\n",
       "<path d=\"M23 18h-14c-0.552 0-1-0.448-1-1s0.448-1 1-1h14c0.552 0 1 0.448 1 1s-0.448 1-1 1z\"></path>\n",
       "</symbol>\n",
       "</defs>\n",
       "</svg>\n",
       "<style>/* CSS stylesheet for displaying xarray objects in jupyterlab.\n",
       " *\n",
       " */\n",
       "\n",
       ":root {\n",
       "  --xr-font-color0: var(--jp-content-font-color0, rgba(0, 0, 0, 1));\n",
       "  --xr-font-color2: var(--jp-content-font-color2, rgba(0, 0, 0, 0.54));\n",
       "  --xr-font-color3: var(--jp-content-font-color3, rgba(0, 0, 0, 0.38));\n",
       "  --xr-border-color: var(--jp-border-color2, #e0e0e0);\n",
       "  --xr-disabled-color: var(--jp-layout-color3, #bdbdbd);\n",
       "  --xr-background-color: var(--jp-layout-color0, white);\n",
       "  --xr-background-color-row-even: var(--jp-layout-color1, white);\n",
       "  --xr-background-color-row-odd: var(--jp-layout-color2, #eeeeee);\n",
       "}\n",
       "\n",
       "html[theme=dark],\n",
       "body.vscode-dark {\n",
       "  --xr-font-color0: rgba(255, 255, 255, 1);\n",
       "  --xr-font-color2: rgba(255, 255, 255, 0.54);\n",
       "  --xr-font-color3: rgba(255, 255, 255, 0.38);\n",
       "  --xr-border-color: #1F1F1F;\n",
       "  --xr-disabled-color: #515151;\n",
       "  --xr-background-color: #111111;\n",
       "  --xr-background-color-row-even: #111111;\n",
       "  --xr-background-color-row-odd: #313131;\n",
       "}\n",
       "\n",
       ".xr-wrap {\n",
       "  display: block !important;\n",
       "  min-width: 300px;\n",
       "  max-width: 700px;\n",
       "}\n",
       "\n",
       ".xr-text-repr-fallback {\n",
       "  /* fallback to plain text repr when CSS is not injected (untrusted notebook) */\n",
       "  display: none;\n",
       "}\n",
       "\n",
       ".xr-header {\n",
       "  padding-top: 6px;\n",
       "  padding-bottom: 6px;\n",
       "  margin-bottom: 4px;\n",
       "  border-bottom: solid 1px var(--xr-border-color);\n",
       "}\n",
       "\n",
       ".xr-header > div,\n",
       ".xr-header > ul {\n",
       "  display: inline;\n",
       "  margin-top: 0;\n",
       "  margin-bottom: 0;\n",
       "}\n",
       "\n",
       ".xr-obj-type,\n",
       ".xr-array-name {\n",
       "  margin-left: 2px;\n",
       "  margin-right: 10px;\n",
       "}\n",
       "\n",
       ".xr-obj-type {\n",
       "  color: var(--xr-font-color2);\n",
       "}\n",
       "\n",
       ".xr-sections {\n",
       "  padding-left: 0 !important;\n",
       "  display: grid;\n",
       "  grid-template-columns: 150px auto auto 1fr 20px 20px;\n",
       "}\n",
       "\n",
       ".xr-section-item {\n",
       "  display: contents;\n",
       "}\n",
       "\n",
       ".xr-section-item input {\n",
       "  display: none;\n",
       "}\n",
       "\n",
       ".xr-section-item input + label {\n",
       "  color: var(--xr-disabled-color);\n",
       "}\n",
       "\n",
       ".xr-section-item input:enabled + label {\n",
       "  cursor: pointer;\n",
       "  color: var(--xr-font-color2);\n",
       "}\n",
       "\n",
       ".xr-section-item input:enabled + label:hover {\n",
       "  color: var(--xr-font-color0);\n",
       "}\n",
       "\n",
       ".xr-section-summary {\n",
       "  grid-column: 1;\n",
       "  color: var(--xr-font-color2);\n",
       "  font-weight: 500;\n",
       "}\n",
       "\n",
       ".xr-section-summary > span {\n",
       "  display: inline-block;\n",
       "  padding-left: 0.5em;\n",
       "}\n",
       "\n",
       ".xr-section-summary-in:disabled + label {\n",
       "  color: var(--xr-font-color2);\n",
       "}\n",
       "\n",
       ".xr-section-summary-in + label:before {\n",
       "  display: inline-block;\n",
       "  content: '►';\n",
       "  font-size: 11px;\n",
       "  width: 15px;\n",
       "  text-align: center;\n",
       "}\n",
       "\n",
       ".xr-section-summary-in:disabled + label:before {\n",
       "  color: var(--xr-disabled-color);\n",
       "}\n",
       "\n",
       ".xr-section-summary-in:checked + label:before {\n",
       "  content: '▼';\n",
       "}\n",
       "\n",
       ".xr-section-summary-in:checked + label > span {\n",
       "  display: none;\n",
       "}\n",
       "\n",
       ".xr-section-summary,\n",
       ".xr-section-inline-details {\n",
       "  padding-top: 4px;\n",
       "  padding-bottom: 4px;\n",
       "}\n",
       "\n",
       ".xr-section-inline-details {\n",
       "  grid-column: 2 / -1;\n",
       "}\n",
       "\n",
       ".xr-section-details {\n",
       "  display: none;\n",
       "  grid-column: 1 / -1;\n",
       "  margin-bottom: 5px;\n",
       "}\n",
       "\n",
       ".xr-section-summary-in:checked ~ .xr-section-details {\n",
       "  display: contents;\n",
       "}\n",
       "\n",
       ".xr-array-wrap {\n",
       "  grid-column: 1 / -1;\n",
       "  display: grid;\n",
       "  grid-template-columns: 20px auto;\n",
       "}\n",
       "\n",
       ".xr-array-wrap > label {\n",
       "  grid-column: 1;\n",
       "  vertical-align: top;\n",
       "}\n",
       "\n",
       ".xr-preview {\n",
       "  color: var(--xr-font-color3);\n",
       "}\n",
       "\n",
       ".xr-array-preview,\n",
       ".xr-array-data {\n",
       "  padding: 0 5px !important;\n",
       "  grid-column: 2;\n",
       "}\n",
       "\n",
       ".xr-array-data,\n",
       ".xr-array-in:checked ~ .xr-array-preview {\n",
       "  display: none;\n",
       "}\n",
       "\n",
       ".xr-array-in:checked ~ .xr-array-data,\n",
       ".xr-array-preview {\n",
       "  display: inline-block;\n",
       "}\n",
       "\n",
       ".xr-dim-list {\n",
       "  display: inline-block !important;\n",
       "  list-style: none;\n",
       "  padding: 0 !important;\n",
       "  margin: 0;\n",
       "}\n",
       "\n",
       ".xr-dim-list li {\n",
       "  display: inline-block;\n",
       "  padding: 0;\n",
       "  margin: 0;\n",
       "}\n",
       "\n",
       ".xr-dim-list:before {\n",
       "  content: '(';\n",
       "}\n",
       "\n",
       ".xr-dim-list:after {\n",
       "  content: ')';\n",
       "}\n",
       "\n",
       ".xr-dim-list li:not(:last-child):after {\n",
       "  content: ',';\n",
       "  padding-right: 5px;\n",
       "}\n",
       "\n",
       ".xr-has-index {\n",
       "  font-weight: bold;\n",
       "}\n",
       "\n",
       ".xr-var-list,\n",
       ".xr-var-item {\n",
       "  display: contents;\n",
       "}\n",
       "\n",
       ".xr-var-item > div,\n",
       ".xr-var-item label,\n",
       ".xr-var-item > .xr-var-name span {\n",
       "  background-color: var(--xr-background-color-row-even);\n",
       "  margin-bottom: 0;\n",
       "}\n",
       "\n",
       ".xr-var-item > .xr-var-name:hover span {\n",
       "  padding-right: 5px;\n",
       "}\n",
       "\n",
       ".xr-var-list > li:nth-child(odd) > div,\n",
       ".xr-var-list > li:nth-child(odd) > label,\n",
       ".xr-var-list > li:nth-child(odd) > .xr-var-name span {\n",
       "  background-color: var(--xr-background-color-row-odd);\n",
       "}\n",
       "\n",
       ".xr-var-name {\n",
       "  grid-column: 1;\n",
       "}\n",
       "\n",
       ".xr-var-dims {\n",
       "  grid-column: 2;\n",
       "}\n",
       "\n",
       ".xr-var-dtype {\n",
       "  grid-column: 3;\n",
       "  text-align: right;\n",
       "  color: var(--xr-font-color2);\n",
       "}\n",
       "\n",
       ".xr-var-preview {\n",
       "  grid-column: 4;\n",
       "}\n",
       "\n",
       ".xr-var-name,\n",
       ".xr-var-dims,\n",
       ".xr-var-dtype,\n",
       ".xr-preview,\n",
       ".xr-attrs dt {\n",
       "  white-space: nowrap;\n",
       "  overflow: hidden;\n",
       "  text-overflow: ellipsis;\n",
       "  padding-right: 10px;\n",
       "}\n",
       "\n",
       ".xr-var-name:hover,\n",
       ".xr-var-dims:hover,\n",
       ".xr-var-dtype:hover,\n",
       ".xr-attrs dt:hover {\n",
       "  overflow: visible;\n",
       "  width: auto;\n",
       "  z-index: 1;\n",
       "}\n",
       "\n",
       ".xr-var-attrs,\n",
       ".xr-var-data {\n",
       "  display: none;\n",
       "  background-color: var(--xr-background-color) !important;\n",
       "  padding-bottom: 5px !important;\n",
       "}\n",
       "\n",
       ".xr-var-attrs-in:checked ~ .xr-var-attrs,\n",
       ".xr-var-data-in:checked ~ .xr-var-data {\n",
       "  display: block;\n",
       "}\n",
       "\n",
       ".xr-var-data > table {\n",
       "  float: right;\n",
       "}\n",
       "\n",
       ".xr-var-name span,\n",
       ".xr-var-data,\n",
       ".xr-attrs {\n",
       "  padding-left: 25px !important;\n",
       "}\n",
       "\n",
       ".xr-attrs,\n",
       ".xr-var-attrs,\n",
       ".xr-var-data {\n",
       "  grid-column: 1 / -1;\n",
       "}\n",
       "\n",
       "dl.xr-attrs {\n",
       "  padding: 0;\n",
       "  margin: 0;\n",
       "  display: grid;\n",
       "  grid-template-columns: 125px auto;\n",
       "}\n",
       "\n",
       ".xr-attrs dt,\n",
       ".xr-attrs dd {\n",
       "  padding: 0;\n",
       "  margin: 0;\n",
       "  float: left;\n",
       "  padding-right: 10px;\n",
       "  width: auto;\n",
       "}\n",
       "\n",
       ".xr-attrs dt {\n",
       "  font-weight: normal;\n",
       "  grid-column: 1;\n",
       "}\n",
       "\n",
       ".xr-attrs dt:hover span {\n",
       "  display: inline-block;\n",
       "  background: var(--xr-background-color);\n",
       "  padding-right: 10px;\n",
       "}\n",
       "\n",
       ".xr-attrs dd {\n",
       "  grid-column: 2;\n",
       "  white-space: pre-wrap;\n",
       "  word-break: break-all;\n",
       "}\n",
       "\n",
       ".xr-icon-database,\n",
       ".xr-icon-file-text2 {\n",
       "  display: inline-block;\n",
       "  vertical-align: middle;\n",
       "  width: 1em;\n",
       "  height: 1.5em !important;\n",
       "  stroke-width: 0;\n",
       "  stroke: currentColor;\n",
       "  fill: currentColor;\n",
       "}\n",
       "</style><pre class='xr-text-repr-fallback'>&lt;xarray.DataArray &#x27;time&#x27; (time: 65)&gt;\n",
       "array([&#x27;2012-10-21T12:00:00.000000000&#x27;, &#x27;2012-10-21T15:00:00.000000000&#x27;,\n",
       "       &#x27;2012-10-21T18:00:00.000000000&#x27;, &#x27;2012-10-21T21:00:00.000000000&#x27;,\n",
       "       &#x27;2012-10-22T00:00:00.000000000&#x27;, &#x27;2012-10-22T03:00:00.000000000&#x27;,\n",
       "       &#x27;2012-10-22T06:00:00.000000000&#x27;, &#x27;2012-10-22T09:00:00.000000000&#x27;,\n",
       "       &#x27;2012-10-22T12:00:00.000000000&#x27;, &#x27;2012-10-22T15:00:00.000000000&#x27;,\n",
       "       &#x27;2012-10-22T18:00:00.000000000&#x27;, &#x27;2012-10-22T21:00:00.000000000&#x27;,\n",
       "       &#x27;2012-10-23T00:00:00.000000000&#x27;, &#x27;2012-10-23T03:00:00.000000000&#x27;,\n",
       "       &#x27;2012-10-23T06:00:00.000000000&#x27;, &#x27;2012-10-23T09:00:00.000000000&#x27;,\n",
       "       &#x27;2012-10-23T12:00:00.000000000&#x27;, &#x27;2012-10-23T15:00:00.000000000&#x27;,\n",
       "       &#x27;2012-10-23T18:00:00.000000000&#x27;, &#x27;2012-10-23T21:00:00.000000000&#x27;,\n",
       "       &#x27;2012-10-24T00:00:00.000000000&#x27;, &#x27;2012-10-24T03:00:00.000000000&#x27;,\n",
       "       &#x27;2012-10-24T06:00:00.000000000&#x27;, &#x27;2012-10-24T09:00:00.000000000&#x27;,\n",
       "       &#x27;2012-10-24T12:00:00.000000000&#x27;, &#x27;2012-10-24T15:00:00.000000000&#x27;,\n",
       "       &#x27;2012-10-24T18:00:00.000000000&#x27;, &#x27;2012-10-24T21:00:00.000000000&#x27;,\n",
       "       &#x27;2012-10-25T00:00:00.000000000&#x27;, &#x27;2012-10-25T03:00:00.000000000&#x27;,\n",
       "       &#x27;2012-10-25T06:00:00.000000000&#x27;, &#x27;2012-10-25T09:00:00.000000000&#x27;,\n",
       "       &#x27;2012-10-25T12:00:00.000000000&#x27;, &#x27;2012-10-25T15:00:00.000000000&#x27;,\n",
       "       &#x27;2012-10-25T18:00:00.000000000&#x27;, &#x27;2012-10-25T21:00:00.000000000&#x27;,\n",
       "       &#x27;2012-10-26T00:00:00.000000000&#x27;, &#x27;2012-10-26T03:00:00.000000000&#x27;,\n",
       "       &#x27;2012-10-26T06:00:00.000000000&#x27;, &#x27;2012-10-26T09:00:00.000000000&#x27;,\n",
       "       &#x27;2012-10-26T12:00:00.000000000&#x27;, &#x27;2012-10-26T15:00:00.000000000&#x27;,\n",
       "       &#x27;2012-10-26T18:00:00.000000000&#x27;, &#x27;2012-10-26T21:00:00.000000000&#x27;,\n",
       "       &#x27;2012-10-27T00:00:00.000000000&#x27;, &#x27;2012-10-27T03:00:00.000000000&#x27;,\n",
       "       &#x27;2012-10-27T06:00:00.000000000&#x27;, &#x27;2012-10-27T09:00:00.000000000&#x27;,\n",
       "       &#x27;2012-10-27T12:00:00.000000000&#x27;, &#x27;2012-10-27T15:00:00.000000000&#x27;,\n",
       "       &#x27;2012-10-27T18:00:00.000000000&#x27;, &#x27;2012-10-27T21:00:00.000000000&#x27;,\n",
       "       &#x27;2012-10-28T00:00:00.000000000&#x27;, &#x27;2012-10-28T03:00:00.000000000&#x27;,\n",
       "       &#x27;2012-10-28T06:00:00.000000000&#x27;, &#x27;2012-10-28T09:00:00.000000000&#x27;,\n",
       "       &#x27;2012-10-28T12:00:00.000000000&#x27;, &#x27;2012-10-28T15:00:00.000000000&#x27;,\n",
       "       &#x27;2012-10-28T18:00:00.000000000&#x27;, &#x27;2012-10-28T21:00:00.000000000&#x27;,\n",
       "       &#x27;2012-10-29T00:00:00.000000000&#x27;, &#x27;2012-10-29T03:00:00.000000000&#x27;,\n",
       "       &#x27;2012-10-29T06:00:00.000000000&#x27;, &#x27;2012-10-29T09:00:00.000000000&#x27;,\n",
       "       &#x27;2012-10-29T12:00:00.000000000&#x27;], dtype=&#x27;datetime64[ns]&#x27;)\n",
       "Coordinates:\n",
       "  * time     (time) datetime64[ns] 2012-10-21T12:00:00 ... 2012-10-29T12:00:00\n",
       "Attributes:\n",
       "    standard_name:  time\n",
       "    axis:           T</pre><div class='xr-wrap' style='display:none'><div class='xr-header'><div class='xr-obj-type'>xarray.DataArray</div><div class='xr-array-name'>'time'</div><ul class='xr-dim-list'><li><span class='xr-has-index'>time</span>: 65</li></ul></div><ul class='xr-sections'><li class='xr-section-item'><div class='xr-array-wrap'><input id='section-3faac501-16e1-4cbe-a824-b5b0f2a8e1f9' class='xr-array-in' type='checkbox' checked><label for='section-3faac501-16e1-4cbe-a824-b5b0f2a8e1f9' title='Show/hide data repr'><svg class='icon xr-icon-database'><use xlink:href='#icon-database'></use></svg></label><div class='xr-array-preview xr-preview'><span>2012-10-21T12:00:00 2012-10-21T15:00:00 ... 2012-10-29T12:00:00</span></div><div class='xr-array-data'><pre>array([&#x27;2012-10-21T12:00:00.000000000&#x27;, &#x27;2012-10-21T15:00:00.000000000&#x27;,\n",
       "       &#x27;2012-10-21T18:00:00.000000000&#x27;, &#x27;2012-10-21T21:00:00.000000000&#x27;,\n",
       "       &#x27;2012-10-22T00:00:00.000000000&#x27;, &#x27;2012-10-22T03:00:00.000000000&#x27;,\n",
       "       &#x27;2012-10-22T06:00:00.000000000&#x27;, &#x27;2012-10-22T09:00:00.000000000&#x27;,\n",
       "       &#x27;2012-10-22T12:00:00.000000000&#x27;, &#x27;2012-10-22T15:00:00.000000000&#x27;,\n",
       "       &#x27;2012-10-22T18:00:00.000000000&#x27;, &#x27;2012-10-22T21:00:00.000000000&#x27;,\n",
       "       &#x27;2012-10-23T00:00:00.000000000&#x27;, &#x27;2012-10-23T03:00:00.000000000&#x27;,\n",
       "       &#x27;2012-10-23T06:00:00.000000000&#x27;, &#x27;2012-10-23T09:00:00.000000000&#x27;,\n",
       "       &#x27;2012-10-23T12:00:00.000000000&#x27;, &#x27;2012-10-23T15:00:00.000000000&#x27;,\n",
       "       &#x27;2012-10-23T18:00:00.000000000&#x27;, &#x27;2012-10-23T21:00:00.000000000&#x27;,\n",
       "       &#x27;2012-10-24T00:00:00.000000000&#x27;, &#x27;2012-10-24T03:00:00.000000000&#x27;,\n",
       "       &#x27;2012-10-24T06:00:00.000000000&#x27;, &#x27;2012-10-24T09:00:00.000000000&#x27;,\n",
       "       &#x27;2012-10-24T12:00:00.000000000&#x27;, &#x27;2012-10-24T15:00:00.000000000&#x27;,\n",
       "       &#x27;2012-10-24T18:00:00.000000000&#x27;, &#x27;2012-10-24T21:00:00.000000000&#x27;,\n",
       "       &#x27;2012-10-25T00:00:00.000000000&#x27;, &#x27;2012-10-25T03:00:00.000000000&#x27;,\n",
       "       &#x27;2012-10-25T06:00:00.000000000&#x27;, &#x27;2012-10-25T09:00:00.000000000&#x27;,\n",
       "       &#x27;2012-10-25T12:00:00.000000000&#x27;, &#x27;2012-10-25T15:00:00.000000000&#x27;,\n",
       "       &#x27;2012-10-25T18:00:00.000000000&#x27;, &#x27;2012-10-25T21:00:00.000000000&#x27;,\n",
       "       &#x27;2012-10-26T00:00:00.000000000&#x27;, &#x27;2012-10-26T03:00:00.000000000&#x27;,\n",
       "       &#x27;2012-10-26T06:00:00.000000000&#x27;, &#x27;2012-10-26T09:00:00.000000000&#x27;,\n",
       "       &#x27;2012-10-26T12:00:00.000000000&#x27;, &#x27;2012-10-26T15:00:00.000000000&#x27;,\n",
       "       &#x27;2012-10-26T18:00:00.000000000&#x27;, &#x27;2012-10-26T21:00:00.000000000&#x27;,\n",
       "       &#x27;2012-10-27T00:00:00.000000000&#x27;, &#x27;2012-10-27T03:00:00.000000000&#x27;,\n",
       "       &#x27;2012-10-27T06:00:00.000000000&#x27;, &#x27;2012-10-27T09:00:00.000000000&#x27;,\n",
       "       &#x27;2012-10-27T12:00:00.000000000&#x27;, &#x27;2012-10-27T15:00:00.000000000&#x27;,\n",
       "       &#x27;2012-10-27T18:00:00.000000000&#x27;, &#x27;2012-10-27T21:00:00.000000000&#x27;,\n",
       "       &#x27;2012-10-28T00:00:00.000000000&#x27;, &#x27;2012-10-28T03:00:00.000000000&#x27;,\n",
       "       &#x27;2012-10-28T06:00:00.000000000&#x27;, &#x27;2012-10-28T09:00:00.000000000&#x27;,\n",
       "       &#x27;2012-10-28T12:00:00.000000000&#x27;, &#x27;2012-10-28T15:00:00.000000000&#x27;,\n",
       "       &#x27;2012-10-28T18:00:00.000000000&#x27;, &#x27;2012-10-28T21:00:00.000000000&#x27;,\n",
       "       &#x27;2012-10-29T00:00:00.000000000&#x27;, &#x27;2012-10-29T03:00:00.000000000&#x27;,\n",
       "       &#x27;2012-10-29T06:00:00.000000000&#x27;, &#x27;2012-10-29T09:00:00.000000000&#x27;,\n",
       "       &#x27;2012-10-29T12:00:00.000000000&#x27;], dtype=&#x27;datetime64[ns]&#x27;)</pre></div></div></li><li class='xr-section-item'><input id='section-30e72351-9ec3-45f5-9bae-3860206b248d' class='xr-section-summary-in' type='checkbox'  checked><label for='section-30e72351-9ec3-45f5-9bae-3860206b248d' class='xr-section-summary' >Coordinates: <span>(1)</span></label><div class='xr-section-inline-details'></div><div class='xr-section-details'><ul class='xr-var-list'><li class='xr-var-item'><div class='xr-var-name'><span class='xr-has-index'>time</span></div><div class='xr-var-dims'>(time)</div><div class='xr-var-dtype'>datetime64[ns]</div><div class='xr-var-preview xr-preview'>2012-10-21T12:00:00 ... 2012-10-...</div><input id='attrs-7ea32229-b23a-47eb-8756-b11f7258df69' class='xr-var-attrs-in' type='checkbox' ><label for='attrs-7ea32229-b23a-47eb-8756-b11f7258df69' title='Show/Hide attributes'><svg class='icon xr-icon-file-text2'><use xlink:href='#icon-file-text2'></use></svg></label><input id='data-b8c91a50-3b89-4b3b-9c2e-38b7c564c998' class='xr-var-data-in' type='checkbox'><label for='data-b8c91a50-3b89-4b3b-9c2e-38b7c564c998' title='Show/Hide data repr'><svg class='icon xr-icon-database'><use xlink:href='#icon-database'></use></svg></label><div class='xr-var-attrs'><dl class='xr-attrs'><dt><span>standard_name :</span></dt><dd>time</dd><dt><span>axis :</span></dt><dd>T</dd></dl></div><div class='xr-var-data'><pre>array([&#x27;2012-10-21T12:00:00.000000000&#x27;, &#x27;2012-10-21T15:00:00.000000000&#x27;,\n",
       "       &#x27;2012-10-21T18:00:00.000000000&#x27;, &#x27;2012-10-21T21:00:00.000000000&#x27;,\n",
       "       &#x27;2012-10-22T00:00:00.000000000&#x27;, &#x27;2012-10-22T03:00:00.000000000&#x27;,\n",
       "       &#x27;2012-10-22T06:00:00.000000000&#x27;, &#x27;2012-10-22T09:00:00.000000000&#x27;,\n",
       "       &#x27;2012-10-22T12:00:00.000000000&#x27;, &#x27;2012-10-22T15:00:00.000000000&#x27;,\n",
       "       &#x27;2012-10-22T18:00:00.000000000&#x27;, &#x27;2012-10-22T21:00:00.000000000&#x27;,\n",
       "       &#x27;2012-10-23T00:00:00.000000000&#x27;, &#x27;2012-10-23T03:00:00.000000000&#x27;,\n",
       "       &#x27;2012-10-23T06:00:00.000000000&#x27;, &#x27;2012-10-23T09:00:00.000000000&#x27;,\n",
       "       &#x27;2012-10-23T12:00:00.000000000&#x27;, &#x27;2012-10-23T15:00:00.000000000&#x27;,\n",
       "       &#x27;2012-10-23T18:00:00.000000000&#x27;, &#x27;2012-10-23T21:00:00.000000000&#x27;,\n",
       "       &#x27;2012-10-24T00:00:00.000000000&#x27;, &#x27;2012-10-24T03:00:00.000000000&#x27;,\n",
       "       &#x27;2012-10-24T06:00:00.000000000&#x27;, &#x27;2012-10-24T09:00:00.000000000&#x27;,\n",
       "       &#x27;2012-10-24T12:00:00.000000000&#x27;, &#x27;2012-10-24T15:00:00.000000000&#x27;,\n",
       "       &#x27;2012-10-24T18:00:00.000000000&#x27;, &#x27;2012-10-24T21:00:00.000000000&#x27;,\n",
       "       &#x27;2012-10-25T00:00:00.000000000&#x27;, &#x27;2012-10-25T03:00:00.000000000&#x27;,\n",
       "       &#x27;2012-10-25T06:00:00.000000000&#x27;, &#x27;2012-10-25T09:00:00.000000000&#x27;,\n",
       "       &#x27;2012-10-25T12:00:00.000000000&#x27;, &#x27;2012-10-25T15:00:00.000000000&#x27;,\n",
       "       &#x27;2012-10-25T18:00:00.000000000&#x27;, &#x27;2012-10-25T21:00:00.000000000&#x27;,\n",
       "       &#x27;2012-10-26T00:00:00.000000000&#x27;, &#x27;2012-10-26T03:00:00.000000000&#x27;,\n",
       "       &#x27;2012-10-26T06:00:00.000000000&#x27;, &#x27;2012-10-26T09:00:00.000000000&#x27;,\n",
       "       &#x27;2012-10-26T12:00:00.000000000&#x27;, &#x27;2012-10-26T15:00:00.000000000&#x27;,\n",
       "       &#x27;2012-10-26T18:00:00.000000000&#x27;, &#x27;2012-10-26T21:00:00.000000000&#x27;,\n",
       "       &#x27;2012-10-27T00:00:00.000000000&#x27;, &#x27;2012-10-27T03:00:00.000000000&#x27;,\n",
       "       &#x27;2012-10-27T06:00:00.000000000&#x27;, &#x27;2012-10-27T09:00:00.000000000&#x27;,\n",
       "       &#x27;2012-10-27T12:00:00.000000000&#x27;, &#x27;2012-10-27T15:00:00.000000000&#x27;,\n",
       "       &#x27;2012-10-27T18:00:00.000000000&#x27;, &#x27;2012-10-27T21:00:00.000000000&#x27;,\n",
       "       &#x27;2012-10-28T00:00:00.000000000&#x27;, &#x27;2012-10-28T03:00:00.000000000&#x27;,\n",
       "       &#x27;2012-10-28T06:00:00.000000000&#x27;, &#x27;2012-10-28T09:00:00.000000000&#x27;,\n",
       "       &#x27;2012-10-28T12:00:00.000000000&#x27;, &#x27;2012-10-28T15:00:00.000000000&#x27;,\n",
       "       &#x27;2012-10-28T18:00:00.000000000&#x27;, &#x27;2012-10-28T21:00:00.000000000&#x27;,\n",
       "       &#x27;2012-10-29T00:00:00.000000000&#x27;, &#x27;2012-10-29T03:00:00.000000000&#x27;,\n",
       "       &#x27;2012-10-29T06:00:00.000000000&#x27;, &#x27;2012-10-29T09:00:00.000000000&#x27;,\n",
       "       &#x27;2012-10-29T12:00:00.000000000&#x27;], dtype=&#x27;datetime64[ns]&#x27;)</pre></div></li></ul></div></li><li class='xr-section-item'><input id='section-168b6d07-0e67-4266-a30c-b476d65a3e1f' class='xr-section-summary-in' type='checkbox'  checked><label for='section-168b6d07-0e67-4266-a30c-b476d65a3e1f' class='xr-section-summary' >Attributes: <span>(2)</span></label><div class='xr-section-inline-details'></div><div class='xr-section-details'><dl class='xr-attrs'><dt><span>standard_name :</span></dt><dd>time</dd><dt><span>axis :</span></dt><dd>T</dd></dl></div></li></ul></div></div>"
      ],
      "text/plain": [
       "<xarray.DataArray 'time' (time: 65)>\n",
       "array(['2012-10-21T12:00:00.000000000', '2012-10-21T15:00:00.000000000',\n",
       "       '2012-10-21T18:00:00.000000000', '2012-10-21T21:00:00.000000000',\n",
       "       '2012-10-22T00:00:00.000000000', '2012-10-22T03:00:00.000000000',\n",
       "       '2012-10-22T06:00:00.000000000', '2012-10-22T09:00:00.000000000',\n",
       "       '2012-10-22T12:00:00.000000000', '2012-10-22T15:00:00.000000000',\n",
       "       '2012-10-22T18:00:00.000000000', '2012-10-22T21:00:00.000000000',\n",
       "       '2012-10-23T00:00:00.000000000', '2012-10-23T03:00:00.000000000',\n",
       "       '2012-10-23T06:00:00.000000000', '2012-10-23T09:00:00.000000000',\n",
       "       '2012-10-23T12:00:00.000000000', '2012-10-23T15:00:00.000000000',\n",
       "       '2012-10-23T18:00:00.000000000', '2012-10-23T21:00:00.000000000',\n",
       "       '2012-10-24T00:00:00.000000000', '2012-10-24T03:00:00.000000000',\n",
       "       '2012-10-24T06:00:00.000000000', '2012-10-24T09:00:00.000000000',\n",
       "       '2012-10-24T12:00:00.000000000', '2012-10-24T15:00:00.000000000',\n",
       "       '2012-10-24T18:00:00.000000000', '2012-10-24T21:00:00.000000000',\n",
       "       '2012-10-25T00:00:00.000000000', '2012-10-25T03:00:00.000000000',\n",
       "       '2012-10-25T06:00:00.000000000', '2012-10-25T09:00:00.000000000',\n",
       "       '2012-10-25T12:00:00.000000000', '2012-10-25T15:00:00.000000000',\n",
       "       '2012-10-25T18:00:00.000000000', '2012-10-25T21:00:00.000000000',\n",
       "       '2012-10-26T00:00:00.000000000', '2012-10-26T03:00:00.000000000',\n",
       "       '2012-10-26T06:00:00.000000000', '2012-10-26T09:00:00.000000000',\n",
       "       '2012-10-26T12:00:00.000000000', '2012-10-26T15:00:00.000000000',\n",
       "       '2012-10-26T18:00:00.000000000', '2012-10-26T21:00:00.000000000',\n",
       "       '2012-10-27T00:00:00.000000000', '2012-10-27T03:00:00.000000000',\n",
       "       '2012-10-27T06:00:00.000000000', '2012-10-27T09:00:00.000000000',\n",
       "       '2012-10-27T12:00:00.000000000', '2012-10-27T15:00:00.000000000',\n",
       "       '2012-10-27T18:00:00.000000000', '2012-10-27T21:00:00.000000000',\n",
       "       '2012-10-28T00:00:00.000000000', '2012-10-28T03:00:00.000000000',\n",
       "       '2012-10-28T06:00:00.000000000', '2012-10-28T09:00:00.000000000',\n",
       "       '2012-10-28T12:00:00.000000000', '2012-10-28T15:00:00.000000000',\n",
       "       '2012-10-28T18:00:00.000000000', '2012-10-28T21:00:00.000000000',\n",
       "       '2012-10-29T00:00:00.000000000', '2012-10-29T03:00:00.000000000',\n",
       "       '2012-10-29T06:00:00.000000000', '2012-10-29T09:00:00.000000000',\n",
       "       '2012-10-29T12:00:00.000000000'], dtype='datetime64[ns]')\n",
       "Coordinates:\n",
       "  * time     (time) datetime64[ns] 2012-10-21T12:00:00 ... 2012-10-29T12:00:00\n",
       "Attributes:\n",
       "    standard_name:  time\n",
       "    axis:           T"
      ]
     },
     "execution_count": 389,
     "metadata": {},
     "output_type": "execute_result"
    }
   ],
   "source": [
    "dm1.time[2356:2421]"
   ]
  },
  {
   "cell_type": "markdown",
   "id": "d75f36db",
   "metadata": {},
   "source": [
    "##### cld_ice=dm0.var79[1030:1083]\n",
    "cld_liq=dm0.var78[1030:1083]\n",
    "cloud=cld_ice+cld_liq"
   ]
  },
  {
   "cell_type": "code",
   "execution_count": 391,
   "id": "e9ea2931",
   "metadata": {},
   "outputs": [],
   "source": [
    "cld_ice=dm0.var79[2356:2421]\n",
    "cld_liq=dm0.var78[2356:2421]\n",
    "cloud=cld_ice+cld_liq"
   ]
  },
  {
   "cell_type": "code",
   "execution_count": 392,
   "id": "357df7f3",
   "metadata": {},
   "outputs": [],
   "source": [
    "convrr=dm1.var218[2356:2421]\n",
    "lsrr=dm1.var219[2356:2421]\n",
    "precip=convrr+lsrr"
   ]
  },
  {
   "cell_type": "code",
   "execution_count": 393,
   "id": "c5fa0d05",
   "metadata": {},
   "outputs": [],
   "source": [
    "precip_nan=precip.where(precip>0, other='nan')"
   ]
  },
  {
   "cell_type": "code",
   "execution_count": 394,
   "id": "054287af",
   "metadata": {},
   "outputs": [],
   "source": [
    "tc_irad=np.empty((pos.shape[0],4))\n",
    "tc_irad[:,0] = pos[:,0]-5\n",
    "tc_irad[:,1] = pos[:,0]+5\n",
    "tc_irad[:,2] = pos[:,1]-5\n",
    "tc_irad[:,3] = pos[:,1]+5"
   ]
  },
  {
   "cell_type": "code",
   "execution_count": 395,
   "id": "5aae5c8a",
   "metadata": {},
   "outputs": [
    {
     "data": {
      "text/plain": [
       "array([[  1.4    ,  11.4    , 130.     , 140.     ],\n",
       "       [  1.64656,  11.64656, 129.319  , 139.319  ],\n",
       "       [  1.9    ,  11.9    , 128.8    , 138.8    ],\n",
       "       [  2.16733,  12.16733, 128.537  , 138.537  ],\n",
       "       [  2.45   ,  12.45   , 128.35   , 138.35   ],\n",
       "       [  2.74249,  12.74249, 128.026  , 138.026  ],\n",
       "       [  3.05   ,  13.05   , 127.65   , 137.65   ],\n",
       "       [  3.41619,  13.41619, 127.269  , 137.269  ],\n",
       "       [  3.73333,  13.73333, 126.833  , 136.833  ],\n",
       "       [  3.8495 ,  13.8495 , 126.383  , 136.383  ],\n",
       "       [  3.825  ,  13.825  , 125.858  , 135.858  ],\n",
       "       [  3.67207,  13.67207, 125.361  , 135.361  ],\n",
       "       [  3.47333,  13.47333, 124.833  , 134.833  ],\n",
       "       [  3.32631,  13.32631, 124.264  , 134.264  ],\n",
       "       [  3.275  ,  13.275  , 123.75   , 133.75   ],\n",
       "       [  3.3693 ,  13.3693 , 123.331  , 133.331  ],\n",
       "       [  3.55   ,  13.55   , 122.975  , 132.975  ],\n",
       "       [  3.69799,  13.69799, 122.679  , 132.679  ],\n",
       "       [  3.925  ,  13.925  , 122.35   , 132.35   ],\n",
       "       [  4.27808,  14.27808, 121.897  , 131.897  ],\n",
       "       [  4.725  ,  14.725  , 121.35   , 131.35   ],\n",
       "       [  5.2363 ,  15.2363 , 120.733  , 130.733  ],\n",
       "       [  5.725  ,  15.725  , 120.1    , 130.1    ],\n",
       "       [  6.0796 ,  16.0796 , 119.568  , 129.568  ],\n",
       "       [  6.375  ,  16.375  , 119.     , 129.     ],\n",
       "       [  6.6619 ,  16.6619 , 118.283  , 128.283  ],\n",
       "       [  6.975  ,  16.975  , 117.5    , 127.5    ],\n",
       "       [  7.3593 ,  17.3593 , 116.723  , 126.723  ],\n",
       "       [  7.8    ,  17.8    , 115.95   , 125.95   ],\n",
       "       [  8.319  ,  18.319  , 115.218  , 125.218  ],\n",
       "       [  8.775  ,  18.775  , 114.475  , 124.475  ],\n",
       "       [  9.0334 ,  19.0334 , 113.621  , 123.621  ],\n",
       "       [  9.175  ,  19.175  , 112.85   , 122.85   ],\n",
       "       [  9.2875 ,  19.2875 , 112.355  , 122.355  ],\n",
       "       [  9.375  ,  19.375  , 111.925  , 121.925  ],\n",
       "       [  9.48   ,  19.48   , 111.338  , 121.338  ],\n",
       "       [  9.6    ,  19.6    , 110.725  , 120.725  ],\n",
       "       [  9.7236 ,  19.7236 , 110.167  , 120.167  ],\n",
       "       [  9.9    ,  19.9    , 109.625  , 119.625  ],\n",
       "       [ 10.1629 ,  20.1629 , 109.086  , 119.086  ],\n",
       "       [ 10.475  ,  20.475  , 108.525  , 118.525  ],\n",
       "       [ 10.7949 ,  20.7949 , 107.917  , 117.917  ],\n",
       "       [ 11.1    ,  21.1    , 107.275  , 117.275  ],\n",
       "       [ 11.3542 ,  21.3542 , 106.616  , 116.616  ],\n",
       "       [ 11.575  ,  21.575  , 105.95   , 115.95   ],\n",
       "       [ 11.7695 ,  21.7695 , 105.26   , 115.26   ],\n",
       "       [ 11.975  ,  21.975  , 104.65   , 114.65   ],\n",
       "       [ 12.2364 ,  22.2364 , 104.227  , 114.227  ],\n",
       "       [ 12.525  ,  22.525  , 103.85   , 113.85   ],\n",
       "       [ 12.8315 ,  22.8315 , 103.326  , 113.326  ],\n",
       "       [ 13.1    ,  23.1    , 102.85   , 112.85   ],\n",
       "       [ 13.2329 ,  23.2329 , 102.562  , 112.562  ],\n",
       "       [ 13.4    ,  23.4    , 102.375  , 112.375  ],\n",
       "       [ 13.7662 ,  23.7662 , 102.199  , 112.199  ],\n",
       "       [ 14.2    ,  24.2    , 102.05   , 112.05   ],\n",
       "       [ 14.5788 ,  24.5788 , 101.887  , 111.887  ],\n",
       "       [ 14.95   ,  24.95   , 101.75   , 111.75   ],\n",
       "       [ 15.3381 ,  25.3381 , 101.621  , 111.621  ],\n",
       "       [ 15.6867 ,  25.6867 , 101.6    , 111.6    ],\n",
       "       [ 15.9919 ,  25.9919 , 101.78   , 111.78   ],\n",
       "       [ 16.2231 ,  26.2231 , 102.054  , 112.054  ],\n",
       "       [ 16.3491 ,  26.3491 , 102.269  , 112.269  ],\n",
       "       [ 16.4333 ,  26.4333 , 102.467  , 112.467  ],\n",
       "       [ 16.5017 ,  26.5017 , 102.678  , 112.678  ],\n",
       "       [ 16.5667 ,  26.5667 , 102.9    , 112.9    ]])"
      ]
     },
     "execution_count": 395,
     "metadata": {},
     "output_type": "execute_result"
    }
   ],
   "source": [
    "tc_irad"
   ]
  },
  {
   "cell_type": "code",
   "execution_count": 396,
   "id": "a46400ec",
   "metadata": {},
   "outputs": [],
   "source": [
    "ppr=np.zeros((pos.shape[0],40,40))\n",
    "pp=np.zeros((tc_irad.shape[0],))\n",
    "ppm=np.zeros((tc_irad.shape[0],))\n",
    "ppmaskcloud = np.zeros((pos.shape[0],40,40))"
   ]
  },
  {
   "cell_type": "code",
   "execution_count": 397,
   "id": "af61cc2a",
   "metadata": {},
   "outputs": [],
   "source": [
    "for it in range(tc_irad.shape[0]):\n",
    "    latn, lats, lone, lonw = tc_irad[it,:]\n",
    "    ppr[it,:,:]=precip[it,:,:].sel(lat=slice(lats,latn),lon=slice(lone,lonw))[0:40,0:40]\n",
    "    ppmaskcloud[it,:,:]=cloud[it,:,:].sel(lat=slice(lats,latn),lon=slice(lone,lonw))[0:40,0:40]\n",
    "    ppm[it]=np.nanmax(ppr[it,:,:])"
   ]
  },
  {
   "cell_type": "code",
   "execution_count": 398,
   "id": "44cfeaa9",
   "metadata": {},
   "outputs": [],
   "source": [
    "def preproc_integration(array_precip=None,array_cloud=None,cloudmaskvalue=None):\n",
    "    pprm = array_precip.copy().flatten()\n",
    "    pprm[array_cloud.copy().flatten()<cloudmaskvalue] = 0\n",
    "    return pprm.reshape(array_precip.shape)"
   ]
  },
  {
   "cell_type": "code",
   "execution_count": 399,
   "id": "6c910f64",
   "metadata": {},
   "outputs": [
    {
     "data": {
      "image/png": "[encoded data removed]",
      "text/plain": [
       "<Figure size 432x288 with 1 Axes>"
      ]
     },
     "metadata": {
      "needs_background": "light"
     },
     "output_type": "display_data"
    }
   ],
   "source": [
    "cloudmaskvalue = np.nanpercentile(ppmaskcloud[...].flatten(),10)\n",
    "masked_precip = [preproc_integration(ppr[i,...],ppmaskcloud[i,...],cloudmaskvalue) for i in range(ppr.shape[0])]\n",
    "p=(np.trapz(np.trapz(np.asarray(masked_precip),dx=25,axis=1),dx=25,axis=1))\n",
    "plt.plot(np.trapz(np.trapz(np.asarray(masked_precip),dx=25,axis=1),dx=25,axis=1))\n",
    "plt.show()"
   ]
  },
  {
   "cell_type": "code",
   "execution_count": 400,
   "id": "a6250404",
   "metadata": {},
   "outputs": [
    {
     "data": {
      "text/plain": [
       "array([186.72877923, 179.15284261, 233.10670629, 197.01657817,\n",
       "       179.25804481, 146.41752467, 164.29344192, 222.89933637,\n",
       "       197.19362259, 210.55743098, 269.62570846, 300.69326982,\n",
       "       298.72601852, 337.52759919, 382.61989132, 482.93754458,\n",
       "       433.33381414, 453.35145667, 428.76373976, 418.21656749,\n",
       "       366.05063826, 323.97625968, 316.05809927, 348.93292934,\n",
       "       351.90321505, 327.61914656, 326.53005794, 300.21479353,\n",
       "       291.31736606, 306.69869855, 341.70804545, 334.68613401,\n",
       "       312.78857961, 294.06463727, 268.7796019 , 304.72857878,\n",
       "       250.03494695, 287.91695833, 310.18672511, 289.47340325,\n",
       "       257.92581961, 254.67794389, 266.81074873, 283.315368  ,\n",
       "       329.44533974, 318.08344647, 308.29034746, 307.09262937,\n",
       "       284.41211209, 280.89243919, 297.80892655, 353.50836813,\n",
       "       389.7658363 , 401.81983262, 350.40911287, 318.92942265,\n",
       "       306.77881092, 269.14712042, 212.23334596, 204.38252017,\n",
       "       204.80768755, 206.05813712, 187.89324909, 204.38417792,\n",
       "       216.97930992])"
      ]
     },
     "execution_count": 400,
     "metadata": {},
     "output_type": "execute_result"
    }
   ],
   "source": [
    "p"
   ]
  },
  {
   "cell_type": "code",
   "execution_count": 401,
   "id": "5f282211",
   "metadata": {},
   "outputs": [],
   "source": [
    "ppm=ppm*3600 #to convert to mm/hr"
   ]
  },
  {
   "cell_type": "code",
   "execution_count": 402,
   "id": "6979db99",
   "metadata": {},
   "outputs": [
    {
     "data": {
      "image/png": "[encoded data removed]",
      "text/plain": [
       "<Figure size 432x288 with 1 Axes>"
      ]
     },
     "metadata": {
      "needs_background": "light"
     },
     "output_type": "display_data"
    }
   ],
   "source": [
    "plt.plot(ppm)\n",
    "#plt.plot(testm)\n",
    "plt.show()"
   ]
  },
  {
   "cell_type": "code",
   "execution_count": 405,
   "id": "f1716b7e",
   "metadata": {},
   "outputs": [
    {
     "data": {
      "text/plain": [
       "(65,)"
      ]
     },
     "execution_count": 405,
     "metadata": {},
     "output_type": "execute_result"
    }
   ],
   "source": [
    "p.shape"
   ]
  },
  {
   "cell_type": "code",
   "execution_count": 403,
   "id": "7f531aba",
   "metadata": {},
   "outputs": [],
   "source": [
    "df = pd.DataFrame(data=ppm, columns=[\"Prec_max\"])\n",
    "df1 = pd.DataFrame(data=p, columns=[\"Prec_Intg\"])"
   ]
  },
  {
   "cell_type": "code",
   "execution_count": 406,
   "id": "24efea5f",
   "metadata": {},
   "outputs": [],
   "source": [
    "df.to_csv(target+'2012_pratemax_nwp_sontinh.csv')\n",
    "df1.to_csv(target+'2012_integrated_prate_nwp_sontinh.csv')"
   ]
  },
  {
   "cell_type": "code",
   "execution_count": null,
   "id": "bc125cf6",
   "metadata": {},
   "outputs": [],
   "source": []
  },
  {
   "cell_type": "code",
   "execution_count": null,
   "id": "179b366f",
   "metadata": {},
   "outputs": [],
   "source": []
  },
  {
   "cell_type": "code",
   "execution_count": null,
   "id": "daefe476",
   "metadata": {},
   "outputs": [],
   "source": []
  },
  {
   "cell_type": "code",
   "execution_count": null,
   "id": "52a22c00",
   "metadata": {},
   "outputs": [],
   "source": []
  },
  {
   "cell_type": "code",
   "execution_count": null,
   "id": "7219f6c7",
   "metadata": {},
   "outputs": [],
   "source": []
  },
  {
   "cell_type": "code",
   "execution_count": null,
   "id": "a841bee8",
   "metadata": {},
   "outputs": [],
   "source": []
  },
  {
   "cell_type": "code",
   "execution_count": null,
   "id": "ea2e5ce5",
   "metadata": {},
   "outputs": [],
   "source": []
  },
  {
   "cell_type": "code",
   "execution_count": null,
   "id": "65b9e987",
   "metadata": {},
   "outputs": [],
   "source": []
  },
  {
   "cell_type": "code",
   "execution_count": 24,
   "id": "5736839d",
   "metadata": {
    "scrolled": true
   },
   "outputs": [
    {
     "data": {
      "image/png": "[encoded data removed]",
      "text/plain": [
       "<Figure size 432x288 with 2 Axes>"
      ]
     },
     "metadata": {
      "needs_background": "light"
     },
     "output_type": "display_data"
    }
   ],
   "source": [
    "plt.pcolormesh(np.ma.masked_less(ppmaskcloud[15,...],0.05))\n",
    "plt.colorbar()\n",
    "plt.show()"
   ]
  },
  {
   "cell_type": "code",
   "execution_count": 31,
   "id": "aa40f817",
   "metadata": {
    "scrolled": false
   },
   "outputs": [
    {
     "data": {
      "image/png": "[encoded data removed]",
      "text/plain": [
       "<Figure size 432x288 with 2 Axes>"
      ]
     },
     "metadata": {
      "needs_background": "light"
     },
     "output_type": "display_data"
    }
   ],
   "source": [
    "plt.pcolormesh(np.ma.masked_where(ppmaskcloud[15,...]<0.062,ppr[15,...]))\n",
    "plt.colorbar()\n",
    "plt.show()"
   ]
  },
  {
   "cell_type": "code",
   "execution_count": null,
   "id": "c198d71f",
   "metadata": {},
   "outputs": [],
   "source": [
    "cloudmaskvalue = np.nanpercentile(ppmaskcloud[...].flatten(),10)\n",
    "testm = [np.mean(ppr[i,...][~np.ma.masked_where(ppmaskcloud[i,...]<cloudmaskvalue,ppr[i,...]).mask]) for i in range(ppr.shape[0])]"
   ]
  },
  {
   "cell_type": "code",
   "execution_count": null,
   "id": "051a1fbb",
   "metadata": {},
   "outputs": [],
   "source": [
    "plt.plot(np.trapz(np.trapz(ppr,dx=25,axis=1),dx=25,axis=1))\n",
    "plt.plot(np.trapz(np.trapz(np.asarray(masked_precip),dx=25,axis=1),dx=25,axis=1))\n",
    "plt.show()"
   ]
  },
  {
   "cell_type": "code",
   "execution_count": null,
   "id": "3597d64b",
   "metadata": {},
   "outputs": [],
   "source": [
    "pp=pp*86400 #to convert to mm/day"
   ]
  },
  {
   "cell_type": "code",
   "execution_count": null,
   "id": "b87a9c6f",
   "metadata": {},
   "outputs": [],
   "source": [
    "np.nanpercentile(cloud[15,280:360,240:500],10)"
   ]
  },
  {
   "cell_type": "code",
   "execution_count": null,
   "id": "b8e99257",
   "metadata": {},
   "outputs": [],
   "source": [
    "cloud[15,280:360,240:500].plot()"
   ]
  },
  {
   "cell_type": "code",
   "execution_count": null,
   "id": "d77cd8af",
   "metadata": {},
   "outputs": [],
   "source": [
    "import matplotlib.pyplot as plt\n",
    "plt.pcolormesh(np.ma.masked_less(precip[15,280:360,240:500],0))\n",
    "plt.show()"
   ]
  },
  {
   "cell_type": "code",
   "execution_count": null,
   "id": "7a819c5b",
   "metadata": {},
   "outputs": [],
   "source": [
    "plt.pcolormesh(np.ma.masked_less(cloud[15,280:360,240:500],0.006958),cmap='magma')\n",
    "plt.colorbar()\n",
    "plt.show()"
   ]
  }
 ],
 "metadata": {
  "kernelspec": {
   "display_name": "Python 3 (ipykernel)",
   "language": "python",
   "name": "python3"
  },
  "language_info": {
   "codemirror_mode": {
    "name": "ipython",
    "version": 3
   },
   "file_extension": ".py",
   "mimetype": "text/x-python",
   "name": "python",
   "nbconvert_exporter": "python",
   "pygments_lexer": "ipython3",
   "version": "3.8.12"
  }
 },
 "nbformat": 4,
 "nbformat_minor": 5
}
