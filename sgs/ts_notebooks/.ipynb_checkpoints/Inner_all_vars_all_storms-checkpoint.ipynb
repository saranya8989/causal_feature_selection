{
 "cells": [
  {
   "cell_type": "code",
   "execution_count": 1,
   "id": "95b4e56c",
   "metadata": {},
   "outputs": [],
   "source": [
    "from tqdm.auto import tqdm \n",
    "import pandas as pd\n",
    "import numpy as np\n",
    "import xarray as xr\n",
    "import netCDF4 as nf\n",
    "from netCDF4 import Dataset\n",
    "%matplotlib inline\n",
    "import glob\n",
    "import cartopy.crs as ccrs\n",
    "import matplotlib.pyplot as plt"
   ]
  },
  {
   "cell_type": "code",
   "execution_count": 2,
   "id": "5bf47798",
   "metadata": {},
   "outputs": [],
   "source": [
    "datapath=\"/work/FAC/FGSE/IDYST/tbeucler/default/saranya/Data/ECMWF/ERA5_25kmx3hr/\"\n",
    "path=\"/work/FAC/FGSE/IDYST/tbeucler/default/saranya/causal/besttracks/\"\n",
    "output=\"/work/FAC/FGSE/IDYST/tbeucler/default/saranya/causal/create_ts/outputs/\"\n",
    "target=\"/work/FAC/FGSE/IDYST/tbeucler/default/saranya/causal/create_ts/outputs/targets/\""
   ]
  },
  {
   "cell_type": "code",
   "execution_count": 3,
   "id": "de0d5c4c-1a90-47e6-8d59-d0a9b0df22a2",
   "metadata": {},
   "outputs": [
    {
     "name": "stdout",
     "output_type": "stream",
     "text": [
      "2001_wp_storms.csv  2005_wp_storms.csv\t2009_wp_storms.csv  all\r\n",
      "2002_wp_storms.csv  2006_wp_storms.csv\t2010_wp_storms.csv  nio\r\n",
      "2003_wp_storms.csv  2007_wp_storms.csv\t2020_nh_storms.csv  wp\r\n",
      "2004_wp_storms.csv  2008_wp_storms.csv\t2021_nh_storms.csv\r\n"
     ]
    }
   ],
   "source": [
    "!ls /work/FAC/FGSE/IDYST/tbeucler/default/saranya/causal/besttracks/"
   ]
  },
  {
   "cell_type": "markdown",
   "id": "9500480c-4063-49f4-bd8e-c2573aadc87b",
   "metadata": {},
   "source": [
    "### Read tracks"
   ]
  },
  {
   "cell_type": "code",
   "execution_count": 4,
   "id": "b4912ced",
   "metadata": {},
   "outputs": [],
   "source": [
    "track = sorted(glob.glob(path+'*2001*.csv'))"
   ]
  },
  {
   "cell_type": "code",
   "execution_count": 5,
   "id": "e1c2d95b",
   "metadata": {},
   "outputs": [],
   "source": [
    "tracksDF = pd.read_csv(track[0])"
   ]
  },
  {
   "cell_type": "code",
   "execution_count": 6,
   "id": "f4e73073-155e-46ee-9400-853d5ba84a89",
   "metadata": {},
   "outputs": [
    {
     "data": {
      "text/plain": [
       "array(['CIMARON', 'CHEBI', 'UTOR', 'KONG-REY', 'TORAJI', 'MAN-YI',\n",
       "       'PABUK', 'WUTIP', 'FITOW', 'DANAS', 'NARI', 'VIPA', 'FRANCISCO',\n",
       "       'LEKIMA', 'KROSA', 'HAIYAN', 'PODUL', 'LINGLING', 'FAXAI'],\n",
       "      dtype=object)"
      ]
     },
     "execution_count": 6,
     "metadata": {},
     "output_type": "execute_result"
    }
   ],
   "source": [
    "tracksDF['name'].unique()"
   ]
  },
  {
   "cell_type": "markdown",
   "id": "7b5c32fc-c764-48cf-a222-f4e402ed4e3d",
   "metadata": {},
   "source": [
    "### Extract time series"
   ]
  },
  {
   "cell_type": "code",
   "execution_count": 7,
   "id": "cb496656",
   "metadata": {},
   "outputs": [],
   "source": [
    "def largearea_withpres(dataset=None,invar=None,indices=None,tc_irad=None):\n",
    "    ds = xr.Dataset(\n",
    "    data_vars=dict(variable=([\"time\",\"plev\",\"lat\",\"lon\"], invar)),#mysvar[0])),\n",
    "    coords=dict(lat=([\"lat\"], dataset.lat.data),lon=([\"lon\"], dataset.lon.data),time=([\"time\"], np.linspace(0,len(indices)-1,len(indices))),\n",
    "               plev=([\"plev\"],dataset.plev.data)),\n",
    "    attrs=dict(description=\"coords with matrices\"),)\n",
    "    \n",
    "    LATN,LATS,LONE,LONW = tc_irad[0,:]\n",
    "    testsmall = ds['variable'][0,0,:,:].sel(lat=slice(LATS,LATN),lon=slice(LONE,LONW))\n",
    "    if testsmall.shape[0]<testsmall.shape[1]:\n",
    "        rgspt = int(testsmall.shape[0])\n",
    "    else:\n",
    "        rgspt = int(testsmall.shape[1])\n",
    "    rgspt=16\n",
    "    var_out=np.zeros((len(indices),len(dataset.plev.data),rgspt,rgspt))\n",
    "    del testsmall\n",
    "    \n",
    "    for it in range(len(indices)):\n",
    "        latn, lats, lone, lonw = tc_irad[it,:]\n",
    "        for ip in range(len(dm1.plev.data)):\n",
    "            try:\n",
    "                var_out[it,ip,:,:]=ds['variable'][it,ip,:,:].sel(lat=slice(lats,latn),lon=slice(lone,lonw))\n",
    "            except:\n",
    "                var_out[it,ip,:,:]=ds['variable'][it,ip,:,:].sel(lat=slice(lats,latn),lon=slice(lone,lonw))[0:rgspt,0:rgspt]\n",
    "    return var_out  "
   ]
  },
  {
   "cell_type": "code",
   "execution_count": 8,
   "id": "57a82e7b",
   "metadata": {},
   "outputs": [],
   "source": [
    "##########function############\n",
    "def output_indices(TCtrack=None,ERA5date=None,ERA5hour=None):\n",
    "    allindices = []\n",
    "    for timeidx in range(len(TCtrack)):#len(track['time'])):\n",
    "        datetrack,hourtrack = TCtrack['time'][timeidx].split(':')[0],TCtrack['time'][timeidx].split(':')[1][0:2]\n",
    "        ####################################################################################################\n",
    "        # Find the indices in ERA5 data with the same date as track\n",
    "        ####################################################################################################\n",
    "        dateind = []\n",
    "        for ind,obj in enumerate(ERA5date):\n",
    "            if obj==datetrack:\n",
    "                dateind.append(ind)\n",
    "        del ind,obj\n",
    "        hourind = []\n",
    "        hourextract = ERA5hour[int(np.min(np.asarray(dateind))):int(np.max(np.asarray(dateind)))+1]\n",
    "        for ind,obj in enumerate(hourextract):\n",
    "            if obj==hourtrack:            \n",
    "                hourind.append(ind)\n",
    "        allindices.append((int(np.min(np.asarray(dateind))),int(hourind[0])))\n",
    "    return allindices\n",
    "\n",
    "def extract_var(dataset=None,var='var138',indices=None):\n",
    "    extractedvar = []\n",
    "    for i in (range(len(indices))):\n",
    "        realindex = indices[i][0]+indices[i][1]\n",
    "        extractedvar.append(dataset[var][int(realindex),...].data)\n",
    "    return np.asarray(extractedvar)\n",
    "\n",
    "def smallarea(dataset=None,invar=None,indices=None,tc_irad=None):\n",
    "    if len(invar.shape) != 3:\n",
    "        invar = np.squeeze(invar)\n",
    "    ds = xr.Dataset(\n",
    "    data_vars=dict(variable=([\"time\",\"lat\",\"lon\"], invar)),#mysvar[0])),\n",
    "    coords=dict(lat=([\"lat\"], dataset.lat.data),lon=([\"lon\"], dataset.lon.data),time=([\"time\"], np.linspace(0,len(indices)-1,len(indices)))),\n",
    "    attrs=dict(description=\"coords with matrices\"),)\n",
    "    \n",
    "    LATN,LATS,LONE,LONW = tc_irad[0,:]\n",
    "    testsmall = ds['variable'][0,:,:].sel(lat=slice(LATS,LATN),lon=slice(LONE,LONW))\n",
    "    if testsmall.shape[0]<testsmall.shape[1]:\n",
    "        rgspt = int(testsmall.shape[0])\n",
    "    else:\n",
    "        rgspt = int(testsmall.shape[1])\n",
    "    rgspt=16\n",
    "    var_out=np.zeros((len(indices),rgspt,rgspt))\n",
    "    del testsmall\n",
    "    \n",
    "    for it in range(len(indices)):\n",
    "        latn, lats, lone, lonw = tc_irad[it,:]\n",
    "        try:\n",
    "            var_out[it,:,:]=ds['variable'][it,:,:].sel(lat=slice(lats,latn),lon=slice(lone,lonw))\n",
    "        except:\n",
    "            var_out[it,:,:]=ds['variable'][it,:,:].sel(lat=slice(lats,latn),lon=slice(lone,lonw))[0:rgspt,0:rgspt]\n",
    "    return var_out\n",
    "\n",
    "def largearea_withpres(dataset=None,invar=None,indices=None,tc_irad=None):\n",
    "    ds = xr.Dataset(\n",
    "    data_vars=dict(variable=([\"time\",\"plev\",\"lat\",\"lon\"], invar)),#mysvar[0])),\n",
    "    coords=dict(lat=([\"lat\"], dataset.lat.data),lon=([\"lon\"], dataset.lon.data),time=([\"time\"], np.linspace(0,len(indices)-1,len(indices))),\n",
    "               plev=([\"plev\"],dataset.plev.data)),\n",
    "    attrs=dict(description=\"coords with matrices\"),)\n",
    "    \n",
    "    LATN,LATS,LONE,LONW = tc_irad[0,:]\n",
    "    testsmall = ds['variable'][0,0,:,:].sel(lat=slice(LATS,LATN),lon=slice(LONE,LONW))\n",
    "    if testsmall.shape[0]<testsmall.shape[1]:\n",
    "        rgspt = int(testsmall.shape[0])\n",
    "    else:\n",
    "        rgspt = int(testsmall.shape[1])\n",
    "    rgspt=16\n",
    "    var_out=np.zeros((len(indices),len(dataset.plev.data),rgspt,rgspt))\n",
    "    del testsmall\n",
    "    \n",
    "    for it in range(len(indices)):\n",
    "        latn, lats, lone, lonw = tc_irad[it,:]\n",
    "        for ip in range(len(dm1.plev.data)):\n",
    "            try:\n",
    "                var_out[it,ip,:,:]=ds['variable'][it,ip,:,:].sel(lat=slice(lats,latn),lon=slice(lone,lonw))\n",
    "            except:\n",
    "                var_out[it,ip,:,:]=ds['variable'][it,ip,:,:].sel(lat=slice(lats,latn),lon=slice(lone,lonw))[0:rgspt,0:rgspt]\n",
    "    return var_out  "
   ]
  },
  {
   "cell_type": "code",
   "execution_count": 9,
   "id": "4cc6c695-6bd5-4f27-8966-b6f4b938c9fa",
   "metadata": {},
   "outputs": [],
   "source": [
    "stormnames = list(tracksDF['name'].unique())"
   ]
  },
  {
   "cell_type": "code",
   "execution_count": 10,
   "id": "16c3081d-9960-4b0b-bd10-e75ea0216a82",
   "metadata": {
    "collapsed": true,
    "jupyter": {
     "outputs_hidden": true
    },
    "tags": []
   },
   "outputs": [
    {
     "data": {
      "text/plain": [
       "['2001-05-05',\n",
       " '2001-05-05',\n",
       " '2001-05-05',\n",
       " '2001-05-05',\n",
       " '2001-05-05',\n",
       " '2001-05-05',\n",
       " '2001-05-05',\n",
       " '2001-05-05',\n",
       " '2001-05-06',\n",
       " '2001-05-06',\n",
       " '2001-05-06',\n",
       " '2001-05-06',\n",
       " '2001-05-06',\n",
       " '2001-05-06',\n",
       " '2001-05-06',\n",
       " '2001-05-06',\n",
       " '2001-05-07',\n",
       " '2001-05-07',\n",
       " '2001-05-07',\n",
       " '2001-05-07',\n",
       " '2001-05-07',\n",
       " '2001-05-07',\n",
       " '2001-05-07',\n",
       " '2001-05-07',\n",
       " '2001-05-08',\n",
       " '2001-05-08',\n",
       " '2001-05-08',\n",
       " '2001-05-08',\n",
       " '2001-05-08',\n",
       " '2001-05-08',\n",
       " '2001-05-08',\n",
       " '2001-05-08',\n",
       " '2001-05-09',\n",
       " '2001-05-09',\n",
       " '2001-05-09',\n",
       " '2001-05-09',\n",
       " '2001-05-09',\n",
       " '2001-05-09',\n",
       " '2001-05-09',\n",
       " '2001-05-09',\n",
       " '2001-05-10',\n",
       " '2001-05-10',\n",
       " '2001-05-10',\n",
       " '2001-05-10',\n",
       " '2001-05-10',\n",
       " '2001-05-10',\n",
       " '2001-05-10',\n",
       " '2001-05-10',\n",
       " '2001-05-11',\n",
       " '2001-05-11',\n",
       " '2001-05-11',\n",
       " '2001-05-11',\n",
       " '2001-05-11',\n",
       " '2001-05-11',\n",
       " '2001-05-11',\n",
       " '2001-05-11',\n",
       " '2001-05-12',\n",
       " '2001-05-12',\n",
       " '2001-05-12',\n",
       " '2001-05-12',\n",
       " '2001-05-12',\n",
       " '2001-05-12',\n",
       " '2001-05-12',\n",
       " '2001-05-12',\n",
       " '2001-05-13',\n",
       " '2001-05-13',\n",
       " '2001-05-13',\n",
       " '2001-05-13',\n",
       " '2001-05-13',\n",
       " '2001-05-13',\n",
       " '2001-05-13',\n",
       " '2001-05-13',\n",
       " '2001-05-14',\n",
       " '2001-05-14',\n",
       " '2001-05-14',\n",
       " '2001-05-14',\n",
       " '2001-05-14',\n",
       " '2001-05-14',\n",
       " '2001-05-14',\n",
       " '2001-05-14',\n",
       " '2001-05-15',\n",
       " '2001-05-15',\n",
       " '2001-05-15',\n",
       " '2001-05-15',\n",
       " '2001-05-15']"
      ]
     },
     "execution_count": 10,
     "metadata": {},
     "output_type": "execute_result"
    }
   ],
   "source": [
    "[str(tracksDF[tracksDF['name']==stormnames[0]].time[i]).split(':')[0] for i in range(len(tracksDF[tracksDF['name']==stormnames[0]].time))]"
   ]
  },
  {
   "cell_type": "code",
   "execution_count": 11,
   "id": "6d4fce5d",
   "metadata": {
    "tags": []
   },
   "outputs": [],
   "source": [
    "#for dm1 files functions\n",
    "def make_timeseries_step1(TCname=None,era5_date=None,era5_hour=None):\n",
    "    track=tracksDF[tracksDF['name']==TCname].reset_index()\n",
    "    lon1=track['lon'].to_numpy()\n",
    "    lat1=track['lat'].to_numpy()\n",
    "    pos = np.stack((lat1, lon1), axis=1)\n",
    "    ###########################################################################\n",
    "    indices_store = output_indices(track,era5_date,era5_hour)\n",
    "    ###########################################################################\n",
    "    tc_irad=np.empty((len(indices_store),4))\n",
    "    tc_irad[:,0] = pos[:,0]-2\n",
    "    tc_irad[:,1] = pos[:,0]+2\n",
    "    tc_irad[:,2] = pos[:,1]-2\n",
    "    tc_irad[:,3] = pos[:,1]+2\n",
    "    return pos,indices_store,tc_irad\n",
    "\n",
    "def make_timeseries_step3(dm1=None,pvarname=None,pvardict=None,indices_store=None):\n",
    "    ts_pdict = {}\n",
    "    for ind,obj in (enumerate(pvarname)):\n",
    "        pvarTS_store = []\n",
    "        for plevv in range(len(dm1.plev.data)):\n",
    "            tempvar = pvardict[pvarname[ind]][:,plevv,...]\n",
    "            tempts = [tempvar[i,...].flatten() for i in range(len(indices_store))]\n",
    "            tempTSERIES = [np.nanmean(obj) for obj in tempts]\n",
    "            pvarTS_store.append(tempTSERIES)\n",
    "        ts_pdict[pvarname[ind]] = np.asarray(pvarTS_store).transpose()\n",
    "    return ts_pdict"
   ]
  },
  {
   "cell_type": "code",
   "execution_count": 12,
   "id": "1324e5bc-c6f1-4b86-9739-25de70e0dbc2",
   "metadata": {},
   "outputs": [],
   "source": [
    "def readyear_automatic(year=None):\n",
    "    dm2 = xr.open_dataset(datapath+'/slev_vars/radvars_'+str(year)+'.nc')\n",
    "    #tracklist = sorted(glob.glob('/work/FAC/FGSE/IDYST/tbeucler/default/saranya/causal/besttracks/nio/*_'+str(year)+'*'))\n",
    "    era5_date = [str(dm2.time[i].data).split('T')[0] for i in range(len(dm2.time))]\n",
    "    era5_hour = [str(dm2.time[i].data).split('T')[1][0:2] for i in range(len(dm2.time))]\n",
    "    return dm2,era5_date,era5_hour\n",
    "\n",
    "dm2,era5_date,era5_hour = readyear_automatic(2001)"
   ]
  },
  {
   "cell_type": "code",
   "execution_count": 13,
   "id": "f2598000-6aed-43d3-9cef-51179517f6cb",
   "metadata": {
    "tags": []
   },
   "outputs": [
    {
     "data": {
      "application/vnd.jupyter.widget-view+json": {
       "model_id": "a92226a48ad042f1adef9402eaa07377",
       "version_major": 2,
       "version_minor": 0
      },
      "text/plain": [
       "  0%|          | 0/19 [00:00<?, ?it/s]"
      ]
     },
     "metadata": {},
     "output_type": "display_data"
    }
   ],
   "source": [
    "TCrl_ts = []\n",
    "for TCname in tqdm(stormnames):\n",
    "    ###########################################################################\n",
    "    pos,indices_store,tc_irad = make_timeseries_step1(TCname=TCname,era5_date=era5_date,era5_hour=era5_hour)\n",
    "    ###########################################################################\n",
    "    mysvar = [extract_var(dataset=dm2,var=obj,indices=indices_store) for obj in (list(dm2.keys()))]\n",
    "    ###########################################################################\n",
    "    smallsvarout = [smallarea(dm2,mysvar[i],indices_store,tc_irad) for i in (range(len(mysvar)))]\n",
    "    svarname = ['cape','inst_10m_wnd_gst','inst_moisture_flux','inst_ssh_flux','surfmean_swr_flux','surfmean_lhf',\\\n",
    "           'surfmean_lwr_flux','surfmean_shf','dwnwrdmean_swr_flux','topmean_lwr_flux','topmean_swr_flux',\\\n",
    "           'vimean_moisture_div','surf_lhf','surf_shf','tot_suprcool_liqwtr','tot_wtr_vpr']\n",
    "    svardict = {varnameobj:varobj for (varnameobj,varobj) in zip(svarname,smallsvarout)}\n",
    "    \n",
    "    #############################################################################################\n",
    "\n",
    "    tsdict = {}\n",
    "    for ind,obj in (enumerate(svarname)):\n",
    "        tslist = [svardict[svarname[ind]][i,...].flatten() for i in range(len(indices_store))]\n",
    "        tsdict[svarname[ind]] = [np.nanmean(obj) for obj in tslist]\n",
    "    #############################################################################################\n",
    "    TCrl_ts.append(tsdict)"
   ]
  },
  {
   "cell_type": "code",
   "execution_count": 14,
   "id": "32f9b652",
   "metadata": {},
   "outputs": [],
   "source": [
    "storeTCdicts = {}\n",
    "for ind in range(len(TCrl_ts)):\n",
    "    storeTCdicts[stormnames[ind]] = pd.DataFrame.from_dict(TCrl_ts[ind])"
   ]
  },
  {
   "cell_type": "code",
   "execution_count": 17,
   "id": "841204da-9880-4dda-b324-1d7353ed7ccb",
   "metadata": {},
   "outputs": [],
   "source": [
    "for ind,obj in enumerate(stormnames):\n",
    "    storeTCdicts[obj].to_csv(output+'2001_radvar_wpac_'+str(obj)+'.csv')"
   ]
  },
  {
   "cell_type": "code",
   "execution_count": 18,
   "id": "b63aa4d2-aa0c-494c-8de4-6fed5437f7ab",
   "metadata": {},
   "outputs": [
    {
     "data": {
      "text/html": [
       "<div>\n",
       "<style scoped>\n",
       "    .dataframe tbody tr th:only-of-type {\n",
       "        vertical-align: middle;\n",
       "    }\n",
       "\n",
       "    .dataframe tbody tr th {\n",
       "        vertical-align: top;\n",
       "    }\n",
       "\n",
       "    .dataframe thead th {\n",
       "        text-align: right;\n",
       "    }\n",
       "</style>\n",
       "<table border=\"1\" class=\"dataframe\">\n",
       "  <thead>\n",
       "    <tr style=\"text-align: right;\">\n",
       "      <th></th>\n",
       "      <th>cape</th>\n",
       "      <th>inst_10m_wnd_gst</th>\n",
       "      <th>inst_moisture_flux</th>\n",
       "      <th>inst_ssh_flux</th>\n",
       "      <th>surfmean_swr_flux</th>\n",
       "      <th>surfmean_lhf</th>\n",
       "      <th>surfmean_lwr_flux</th>\n",
       "      <th>surfmean_shf</th>\n",
       "      <th>dwnwrdmean_swr_flux</th>\n",
       "      <th>topmean_lwr_flux</th>\n",
       "      <th>topmean_swr_flux</th>\n",
       "      <th>vimean_moisture_div</th>\n",
       "      <th>surf_lhf</th>\n",
       "      <th>surf_shf</th>\n",
       "      <th>tot_suprcool_liqwtr</th>\n",
       "      <th>tot_wtr_vpr</th>\n",
       "    </tr>\n",
       "  </thead>\n",
       "  <tbody>\n",
       "    <tr>\n",
       "      <th>0</th>\n",
       "      <td>883.338867</td>\n",
       "      <td>10.102961</td>\n",
       "      <td>-7.413886e-05</td>\n",
       "      <td>-16.392639</td>\n",
       "      <td>245.591797</td>\n",
       "      <td>-185.526917</td>\n",
       "      <td>-45.713074</td>\n",
       "      <td>-23.923401</td>\n",
       "      <td>1083.254883</td>\n",
       "      <td>-192.363037</td>\n",
       "      <td>730.198853</td>\n",
       "      <td>-0.000173</td>\n",
       "      <td>-667900.50</td>\n",
       "      <td>-86122.00</td>\n",
       "      <td>0.052676</td>\n",
       "      <td>56.458645</td>\n",
       "    </tr>\n",
       "    <tr>\n",
       "      <th>1</th>\n",
       "      <td>1054.769531</td>\n",
       "      <td>10.231113</td>\n",
       "      <td>-7.373909e-05</td>\n",
       "      <td>-17.575745</td>\n",
       "      <td>267.407837</td>\n",
       "      <td>-187.904419</td>\n",
       "      <td>-42.975037</td>\n",
       "      <td>-25.359314</td>\n",
       "      <td>1302.749634</td>\n",
       "      <td>-189.341125</td>\n",
       "      <td>836.731812</td>\n",
       "      <td>-0.000229</td>\n",
       "      <td>-676456.25</td>\n",
       "      <td>-91294.25</td>\n",
       "      <td>0.069586</td>\n",
       "      <td>56.726631</td>\n",
       "    </tr>\n",
       "    <tr>\n",
       "      <th>2</th>\n",
       "      <td>1084.255859</td>\n",
       "      <td>9.603219</td>\n",
       "      <td>-6.892055e-05</td>\n",
       "      <td>-21.338989</td>\n",
       "      <td>114.018311</td>\n",
       "      <td>-167.277710</td>\n",
       "      <td>-39.428802</td>\n",
       "      <td>-23.898743</td>\n",
       "      <td>868.304077</td>\n",
       "      <td>-182.241180</td>\n",
       "      <td>483.241699</td>\n",
       "      <td>-0.000345</td>\n",
       "      <td>-602197.75</td>\n",
       "      <td>-86039.50</td>\n",
       "      <td>0.084331</td>\n",
       "      <td>57.332806</td>\n",
       "    </tr>\n",
       "    <tr>\n",
       "      <th>3</th>\n",
       "      <td>887.247070</td>\n",
       "      <td>10.069493</td>\n",
       "      <td>-6.863687e-05</td>\n",
       "      <td>-21.867615</td>\n",
       "      <td>2.796814</td>\n",
       "      <td>-172.520874</td>\n",
       "      <td>-39.703125</td>\n",
       "      <td>-22.582336</td>\n",
       "      <td>62.085083</td>\n",
       "      <td>-191.341797</td>\n",
       "      <td>29.032837</td>\n",
       "      <td>-0.000226</td>\n",
       "      <td>-621071.00</td>\n",
       "      <td>-81297.25</td>\n",
       "      <td>0.090999</td>\n",
       "      <td>57.607422</td>\n",
       "    </tr>\n",
       "    <tr>\n",
       "      <th>4</th>\n",
       "      <td>600.291992</td>\n",
       "      <td>10.565636</td>\n",
       "      <td>-7.582645e-05</td>\n",
       "      <td>-24.384705</td>\n",
       "      <td>0.000000</td>\n",
       "      <td>-173.713867</td>\n",
       "      <td>-40.397980</td>\n",
       "      <td>-22.250793</td>\n",
       "      <td>0.000000</td>\n",
       "      <td>-192.716492</td>\n",
       "      <td>0.000000</td>\n",
       "      <td>-0.000236</td>\n",
       "      <td>-625373.00</td>\n",
       "      <td>-80102.00</td>\n",
       "      <td>0.113448</td>\n",
       "      <td>56.678677</td>\n",
       "    </tr>\n",
       "    <tr>\n",
       "      <th>...</th>\n",
       "      <td>...</td>\n",
       "      <td>...</td>\n",
       "      <td>...</td>\n",
       "      <td>...</td>\n",
       "      <td>...</td>\n",
       "      <td>...</td>\n",
       "      <td>...</td>\n",
       "      <td>...</td>\n",
       "      <td>...</td>\n",
       "      <td>...</td>\n",
       "      <td>...</td>\n",
       "      <td>...</td>\n",
       "      <td>...</td>\n",
       "      <td>...</td>\n",
       "      <td>...</td>\n",
       "      <td>...</td>\n",
       "    </tr>\n",
       "    <tr>\n",
       "      <th>104</th>\n",
       "      <td>8.227539</td>\n",
       "      <td>5.232723</td>\n",
       "      <td>-1.171051e-06</td>\n",
       "      <td>1.282166</td>\n",
       "      <td>19.828857</td>\n",
       "      <td>-2.770264</td>\n",
       "      <td>-10.762665</td>\n",
       "      <td>1.678711</td>\n",
       "      <td>1049.212769</td>\n",
       "      <td>-234.706207</td>\n",
       "      <td>477.706543</td>\n",
       "      <td>0.000074</td>\n",
       "      <td>-9973.00</td>\n",
       "      <td>6044.50</td>\n",
       "      <td>0.116570</td>\n",
       "      <td>22.985594</td>\n",
       "    </tr>\n",
       "    <tr>\n",
       "      <th>105</th>\n",
       "      <td>8.879883</td>\n",
       "      <td>3.542082</td>\n",
       "      <td>-5.891197e-07</td>\n",
       "      <td>1.127563</td>\n",
       "      <td>40.219788</td>\n",
       "      <td>-1.445374</td>\n",
       "      <td>-12.263443</td>\n",
       "      <td>1.098694</td>\n",
       "      <td>953.962646</td>\n",
       "      <td>-240.884796</td>\n",
       "      <td>460.463257</td>\n",
       "      <td>0.000115</td>\n",
       "      <td>-5203.75</td>\n",
       "      <td>3955.00</td>\n",
       "      <td>0.089603</td>\n",
       "      <td>22.064371</td>\n",
       "    </tr>\n",
       "    <tr>\n",
       "      <th>106</th>\n",
       "      <td>7.482422</td>\n",
       "      <td>2.739073</td>\n",
       "      <td>-2.682500e-07</td>\n",
       "      <td>0.964539</td>\n",
       "      <td>25.965576</td>\n",
       "      <td>-0.710876</td>\n",
       "      <td>-16.903687</td>\n",
       "      <td>0.858521</td>\n",
       "      <td>470.326294</td>\n",
       "      <td>-248.341614</td>\n",
       "      <td>234.111450</td>\n",
       "      <td>0.000116</td>\n",
       "      <td>-2561.50</td>\n",
       "      <td>3093.00</td>\n",
       "      <td>0.041146</td>\n",
       "      <td>21.153482</td>\n",
       "    </tr>\n",
       "    <tr>\n",
       "      <th>107</th>\n",
       "      <td>4.551758</td>\n",
       "      <td>2.716689</td>\n",
       "      <td>4.880712e-08</td>\n",
       "      <td>0.822632</td>\n",
       "      <td>0.000000</td>\n",
       "      <td>0.019958</td>\n",
       "      <td>-17.213684</td>\n",
       "      <td>0.884583</td>\n",
       "      <td>0.048950</td>\n",
       "      <td>-251.257782</td>\n",
       "      <td>0.026978</td>\n",
       "      <td>0.000083</td>\n",
       "      <td>73.25</td>\n",
       "      <td>3181.75</td>\n",
       "      <td>0.045861</td>\n",
       "      <td>20.975996</td>\n",
       "    </tr>\n",
       "    <tr>\n",
       "      <th>108</th>\n",
       "      <td>3.626465</td>\n",
       "      <td>3.734886</td>\n",
       "      <td>-5.855109e-07</td>\n",
       "      <td>-0.123291</td>\n",
       "      <td>0.000000</td>\n",
       "      <td>-0.000854</td>\n",
       "      <td>-13.167694</td>\n",
       "      <td>0.841858</td>\n",
       "      <td>0.000000</td>\n",
       "      <td>-251.556549</td>\n",
       "      <td>0.000000</td>\n",
       "      <td>0.000071</td>\n",
       "      <td>-2.25</td>\n",
       "      <td>3029.50</td>\n",
       "      <td>0.032555</td>\n",
       "      <td>20.312859</td>\n",
       "    </tr>\n",
       "  </tbody>\n",
       "</table>\n",
       "<p>109 rows × 16 columns</p>\n",
       "</div>"
      ],
      "text/plain": [
       "            cape  inst_10m_wnd_gst  inst_moisture_flux  inst_ssh_flux  \\\n",
       "0     883.338867         10.102961       -7.413886e-05     -16.392639   \n",
       "1    1054.769531         10.231113       -7.373909e-05     -17.575745   \n",
       "2    1084.255859          9.603219       -6.892055e-05     -21.338989   \n",
       "3     887.247070         10.069493       -6.863687e-05     -21.867615   \n",
       "4     600.291992         10.565636       -7.582645e-05     -24.384705   \n",
       "..           ...               ...                 ...            ...   \n",
       "104     8.227539          5.232723       -1.171051e-06       1.282166   \n",
       "105     8.879883          3.542082       -5.891197e-07       1.127563   \n",
       "106     7.482422          2.739073       -2.682500e-07       0.964539   \n",
       "107     4.551758          2.716689        4.880712e-08       0.822632   \n",
       "108     3.626465          3.734886       -5.855109e-07      -0.123291   \n",
       "\n",
       "     surfmean_swr_flux  surfmean_lhf  surfmean_lwr_flux  surfmean_shf  \\\n",
       "0           245.591797   -185.526917         -45.713074    -23.923401   \n",
       "1           267.407837   -187.904419         -42.975037    -25.359314   \n",
       "2           114.018311   -167.277710         -39.428802    -23.898743   \n",
       "3             2.796814   -172.520874         -39.703125    -22.582336   \n",
       "4             0.000000   -173.713867         -40.397980    -22.250793   \n",
       "..                 ...           ...                ...           ...   \n",
       "104          19.828857     -2.770264         -10.762665      1.678711   \n",
       "105          40.219788     -1.445374         -12.263443      1.098694   \n",
       "106          25.965576     -0.710876         -16.903687      0.858521   \n",
       "107           0.000000      0.019958         -17.213684      0.884583   \n",
       "108           0.000000     -0.000854         -13.167694      0.841858   \n",
       "\n",
       "     dwnwrdmean_swr_flux  topmean_lwr_flux  topmean_swr_flux  \\\n",
       "0            1083.254883       -192.363037        730.198853   \n",
       "1            1302.749634       -189.341125        836.731812   \n",
       "2             868.304077       -182.241180        483.241699   \n",
       "3              62.085083       -191.341797         29.032837   \n",
       "4               0.000000       -192.716492          0.000000   \n",
       "..                   ...               ...               ...   \n",
       "104          1049.212769       -234.706207        477.706543   \n",
       "105           953.962646       -240.884796        460.463257   \n",
       "106           470.326294       -248.341614        234.111450   \n",
       "107             0.048950       -251.257782          0.026978   \n",
       "108             0.000000       -251.556549          0.000000   \n",
       "\n",
       "     vimean_moisture_div   surf_lhf  surf_shf  tot_suprcool_liqwtr  \\\n",
       "0              -0.000173 -667900.50 -86122.00             0.052676   \n",
       "1              -0.000229 -676456.25 -91294.25             0.069586   \n",
       "2              -0.000345 -602197.75 -86039.50             0.084331   \n",
       "3              -0.000226 -621071.00 -81297.25             0.090999   \n",
       "4              -0.000236 -625373.00 -80102.00             0.113448   \n",
       "..                   ...        ...       ...                  ...   \n",
       "104             0.000074   -9973.00   6044.50             0.116570   \n",
       "105             0.000115   -5203.75   3955.00             0.089603   \n",
       "106             0.000116   -2561.50   3093.00             0.041146   \n",
       "107             0.000083      73.25   3181.75             0.045861   \n",
       "108             0.000071      -2.25   3029.50             0.032555   \n",
       "\n",
       "     tot_wtr_vpr  \n",
       "0      56.458645  \n",
       "1      56.726631  \n",
       "2      57.332806  \n",
       "3      57.607422  \n",
       "4      56.678677  \n",
       "..           ...  \n",
       "104    22.985594  \n",
       "105    22.064371  \n",
       "106    21.153482  \n",
       "107    20.975996  \n",
       "108    20.312859  \n",
       "\n",
       "[109 rows x 16 columns]"
      ]
     },
     "execution_count": 18,
     "metadata": {},
     "output_type": "execute_result"
    }
   ],
   "source": [
    "pd.DataFrame.from_dict(TCrl_ts[3])"
   ]
  },
  {
   "cell_type": "code",
   "execution_count": 19,
   "id": "d2f06bfe",
   "metadata": {},
   "outputs": [],
   "source": [
    "def readyear_automatic(year=None):\n",
    "    dm2 = xr.open_mfdataset([datapath+'/prate/prates_'+str(year)+'.nc',datapath+'/mslp/mslp_'+str(year)+'.nc',datapath+'/sst/sst_'+str(year)+'.nc'])\n",
    "    #tracklist = sorted(glob.glob('/work/FAC/FGSE/IDYST/tbeucler/default/saranya/causal/besttracks/nio/*_'+str(year)+'*'))\n",
    "    #era5_date = [str(dm2.time[i].data).split('T')[0] for i in range(len(dm2.time))]\n",
    "    #era5_hour = [str(dm2.time[i].data).split('T')[1][0:2] for i in range(len(dm2.time))]\n",
    "    return dm2#,era5_date,era5_hour\n",
    "\n",
    "dm2 = readyear_automatic(2001)"
   ]
  },
  {
   "cell_type": "code",
   "execution_count": 20,
   "id": "9672229e",
   "metadata": {
    "tags": []
   },
   "outputs": [
    {
     "data": {
      "application/vnd.jupyter.widget-view+json": {
       "model_id": "beee616c7453404cbda9a1051cdbd04f",
       "version_major": 2,
       "version_minor": 0
      },
      "text/plain": [
       "  0%|          | 0/19 [00:00<?, ?it/s]"
      ]
     },
     "metadata": {},
     "output_type": "display_data"
    },
    {
     "name": "stderr",
     "output_type": "stream",
     "text": [
      "/tmp/ipykernel_2236766/1920006894.py:21: RuntimeWarning: Mean of empty slice\n",
      "  tsdict[svarname[ind]] = [np.nanmean(obj) for obj in tslist]\n",
      "/tmp/ipykernel_2236766/1920006894.py:21: RuntimeWarning: Mean of empty slice\n",
      "  tsdict[svarname[ind]] = [np.nanmean(obj) for obj in tslist]\n"
     ]
    }
   ],
   "source": [
    "TCpr_ts = []\n",
    "for TCname in tqdm(stormnames):\n",
    "    ###########################################################################\n",
    "    pos,indices_store,tc_irad = make_timeseries_step1(TCname=TCname,era5_date=era5_date,era5_hour=era5_hour)\n",
    "    ###########################################################################\n",
    "    mysvar = [extract_var(dataset=dm2,var=obj,indices=indices_store) for obj in (list(dm2.keys()))]\n",
    "\n",
    "    ################################################################################################\n",
    "    \n",
    "    smallsvarout = [smallarea(dm2,mysvar[i],indices_store,tc_irad) for i in (range(len(mysvar)))]\n",
    "    \n",
    "    svarname = ['mn_mslp','conv_rrate','ls_rrate','mn_conv_prate','mn_ls_prate','mn_tot_prate','sst']\n",
    "    \n",
    "    svardict = {varnameobj:varobj for (varnameobj,varobj) in zip(svarname,smallsvarout)}\n",
    "    \n",
    "    ##################################################################################################\n",
    "    #############################################################################################\n",
    "    tsdict = {}\n",
    "    for ind,obj in (enumerate(svarname)):\n",
    "        tslist = [svardict[svarname[ind]][i,...].flatten() for i in range(len(indices_store))]\n",
    "        tsdict[svarname[ind]] = [np.nanmean(obj) for obj in tslist]\n",
    "    #############################################################################################\n",
    "    TCpr_ts.append(tsdict)"
   ]
  },
  {
   "cell_type": "code",
   "execution_count": 21,
   "id": "3686fdcb",
   "metadata": {},
   "outputs": [],
   "source": [
    "storeTCdicts = {}\n",
    "for ind in range(len(TCrl_ts)):\n",
    "    storeTCdicts[stormnames[ind]] = pd.DataFrame.from_dict(TCpr_ts[ind])"
   ]
  },
  {
   "cell_type": "code",
   "execution_count": 22,
   "id": "fe8d7c6f",
   "metadata": {},
   "outputs": [],
   "source": [
    "for ind,obj in enumerate(stormnames):\n",
    "    storeTCdicts[obj].to_csv(output+'2001_presstvar_wpac_'+str(obj)+'.csv')"
   ]
  },
  {
   "cell_type": "code",
   "execution_count": 23,
   "id": "d02a093f",
   "metadata": {},
   "outputs": [
    {
     "data": {
      "text/html": [
       "<div>\n",
       "<style scoped>\n",
       "    .dataframe tbody tr th:only-of-type {\n",
       "        vertical-align: middle;\n",
       "    }\n",
       "\n",
       "    .dataframe tbody tr th {\n",
       "        vertical-align: top;\n",
       "    }\n",
       "\n",
       "    .dataframe thead th {\n",
       "        text-align: right;\n",
       "    }\n",
       "</style>\n",
       "<table border=\"1\" class=\"dataframe\">\n",
       "  <thead>\n",
       "    <tr style=\"text-align: right;\">\n",
       "      <th></th>\n",
       "      <th>mn_mslp</th>\n",
       "      <th>conv_rrate</th>\n",
       "      <th>ls_rrate</th>\n",
       "      <th>mn_conv_prate</th>\n",
       "      <th>mn_ls_prate</th>\n",
       "      <th>mn_tot_prate</th>\n",
       "      <th>sst</th>\n",
       "    </tr>\n",
       "  </thead>\n",
       "  <tbody>\n",
       "    <tr>\n",
       "      <th>0</th>\n",
       "      <td>101175.258789</td>\n",
       "      <td>1.063687e-04</td>\n",
       "      <td>0.000034</td>\n",
       "      <td>1.202242e-04</td>\n",
       "      <td>0.000028</td>\n",
       "      <td>0.000148</td>\n",
       "      <td>303.164810</td>\n",
       "    </tr>\n",
       "    <tr>\n",
       "      <th>1</th>\n",
       "      <td>101163.461914</td>\n",
       "      <td>1.076567e-04</td>\n",
       "      <td>0.000070</td>\n",
       "      <td>1.051333e-04</td>\n",
       "      <td>0.000056</td>\n",
       "      <td>0.000161</td>\n",
       "      <td>303.083912</td>\n",
       "    </tr>\n",
       "    <tr>\n",
       "      <th>2</th>\n",
       "      <td>101161.645508</td>\n",
       "      <td>2.005887e-04</td>\n",
       "      <td>0.000126</td>\n",
       "      <td>1.766048e-04</td>\n",
       "      <td>0.000122</td>\n",
       "      <td>0.000299</td>\n",
       "      <td>302.891510</td>\n",
       "    </tr>\n",
       "    <tr>\n",
       "      <th>3</th>\n",
       "      <td>101293.477539</td>\n",
       "      <td>1.429664e-04</td>\n",
       "      <td>0.000112</td>\n",
       "      <td>1.528892e-04</td>\n",
       "      <td>0.000113</td>\n",
       "      <td>0.000266</td>\n",
       "      <td>302.813347</td>\n",
       "    </tr>\n",
       "    <tr>\n",
       "      <th>4</th>\n",
       "      <td>101368.746094</td>\n",
       "      <td>1.493478e-04</td>\n",
       "      <td>0.000100</td>\n",
       "      <td>1.216219e-04</td>\n",
       "      <td>0.000098</td>\n",
       "      <td>0.000220</td>\n",
       "      <td>302.710056</td>\n",
       "    </tr>\n",
       "    <tr>\n",
       "      <th>...</th>\n",
       "      <td>...</td>\n",
       "      <td>...</td>\n",
       "      <td>...</td>\n",
       "      <td>...</td>\n",
       "      <td>...</td>\n",
       "      <td>...</td>\n",
       "      <td>...</td>\n",
       "    </tr>\n",
       "    <tr>\n",
       "      <th>104</th>\n",
       "      <td>101535.535156</td>\n",
       "      <td>1.217239e-06</td>\n",
       "      <td>0.000025</td>\n",
       "      <td>9.806827e-07</td>\n",
       "      <td>0.000024</td>\n",
       "      <td>0.000025</td>\n",
       "      <td>281.118599</td>\n",
       "    </tr>\n",
       "    <tr>\n",
       "      <th>105</th>\n",
       "      <td>101585.680664</td>\n",
       "      <td>8.912757e-07</td>\n",
       "      <td>0.000035</td>\n",
       "      <td>1.049601e-06</td>\n",
       "      <td>0.000040</td>\n",
       "      <td>0.000041</td>\n",
       "      <td>281.081696</td>\n",
       "    </tr>\n",
       "    <tr>\n",
       "      <th>106</th>\n",
       "      <td>101614.391602</td>\n",
       "      <td>4.544854e-07</td>\n",
       "      <td>0.000010</td>\n",
       "      <td>6.291084e-07</td>\n",
       "      <td>0.000020</td>\n",
       "      <td>0.000020</td>\n",
       "      <td>281.048134</td>\n",
       "    </tr>\n",
       "    <tr>\n",
       "      <th>107</th>\n",
       "      <td>101735.382812</td>\n",
       "      <td>1.071021e-08</td>\n",
       "      <td>0.000004</td>\n",
       "      <td>8.381903e-09</td>\n",
       "      <td>0.000005</td>\n",
       "      <td>0.000005</td>\n",
       "      <td>281.004757</td>\n",
       "    </tr>\n",
       "    <tr>\n",
       "      <th>108</th>\n",
       "      <td>101863.439453</td>\n",
       "      <td>3.725290e-09</td>\n",
       "      <td>0.000003</td>\n",
       "      <td>1.862645e-09</td>\n",
       "      <td>0.000004</td>\n",
       "      <td>0.000004</td>\n",
       "      <td>281.028126</td>\n",
       "    </tr>\n",
       "  </tbody>\n",
       "</table>\n",
       "<p>109 rows × 7 columns</p>\n",
       "</div>"
      ],
      "text/plain": [
       "           mn_mslp    conv_rrate  ls_rrate  mn_conv_prate  mn_ls_prate  \\\n",
       "0    101175.258789  1.063687e-04  0.000034   1.202242e-04     0.000028   \n",
       "1    101163.461914  1.076567e-04  0.000070   1.051333e-04     0.000056   \n",
       "2    101161.645508  2.005887e-04  0.000126   1.766048e-04     0.000122   \n",
       "3    101293.477539  1.429664e-04  0.000112   1.528892e-04     0.000113   \n",
       "4    101368.746094  1.493478e-04  0.000100   1.216219e-04     0.000098   \n",
       "..             ...           ...       ...            ...          ...   \n",
       "104  101535.535156  1.217239e-06  0.000025   9.806827e-07     0.000024   \n",
       "105  101585.680664  8.912757e-07  0.000035   1.049601e-06     0.000040   \n",
       "106  101614.391602  4.544854e-07  0.000010   6.291084e-07     0.000020   \n",
       "107  101735.382812  1.071021e-08  0.000004   8.381903e-09     0.000005   \n",
       "108  101863.439453  3.725290e-09  0.000003   1.862645e-09     0.000004   \n",
       "\n",
       "     mn_tot_prate         sst  \n",
       "0        0.000148  303.164810  \n",
       "1        0.000161  303.083912  \n",
       "2        0.000299  302.891510  \n",
       "3        0.000266  302.813347  \n",
       "4        0.000220  302.710056  \n",
       "..            ...         ...  \n",
       "104      0.000025  281.118599  \n",
       "105      0.000041  281.081696  \n",
       "106      0.000020  281.048134  \n",
       "107      0.000005  281.004757  \n",
       "108      0.000004  281.028126  \n",
       "\n",
       "[109 rows x 7 columns]"
      ]
     },
     "execution_count": 23,
     "metadata": {},
     "output_type": "execute_result"
    }
   ],
   "source": [
    "pd.DataFrame.from_dict(TCpr_ts[3])"
   ]
  },
  {
   "cell_type": "code",
   "execution_count": 24,
   "id": "6d89c993",
   "metadata": {},
   "outputs": [],
   "source": [
    "def readyear_automatic(year=None):\n",
    "    dm2=xr.open_dataset(datapath+'/slev_vars/svars_'+str(year)+'.nc') #tracklist = sorted(glob.glob('/work/FAC/FGSE/IDYST/tbeucler/default/saranya/causal/besttracks/nio/*_'+str(year)+'*'))\n",
    "    era5_date = [str(dm2.time[i].data).split('T')[0] for i in range(len(dm2.time))]\n",
    "    era5_hour = [str(dm2.time[i].data).split('T')[1][0:2] for i in range(len(dm2.time))]\n",
    "    return dm2,era5_date,era5_hour\n",
    "\n",
    "dm2,era5_date,era5_hour = readyear_automatic(2001)"
   ]
  },
  {
   "cell_type": "code",
   "execution_count": 25,
   "id": "0348e489",
   "metadata": {
    "tags": []
   },
   "outputs": [
    {
     "data": {
      "application/vnd.jupyter.widget-view+json": {
       "model_id": "bceb2e9d80ba43b0b212f2c6825dc2f7",
       "version_major": 2,
       "version_minor": 0
      },
      "text/plain": [
       "  0%|          | 0/19 [00:00<?, ?it/s]"
      ]
     },
     "metadata": {},
     "output_type": "display_data"
    },
    {
     "data": {
      "application/vnd.jupyter.widget-view+json": {
       "model_id": "7a3c81519ec54713a443e0e5b4ef4016",
       "version_major": 2,
       "version_minor": 0
      },
      "text/plain": [
       "0it [00:00, ?it/s]"
      ]
     },
     "metadata": {},
     "output_type": "display_data"
    },
    {
     "data": {
      "application/vnd.jupyter.widget-view+json": {
       "model_id": "3466b7ecd5fa4309a3ae2bd8ba946811",
       "version_major": 2,
       "version_minor": 0
      },
      "text/plain": [
       "0it [00:00, ?it/s]"
      ]
     },
     "metadata": {},
     "output_type": "display_data"
    },
    {
     "data": {
      "application/vnd.jupyter.widget-view+json": {
       "model_id": "03efe4e261b9452a9fc1405a1c4fd763",
       "version_major": 2,
       "version_minor": 0
      },
      "text/plain": [
       "0it [00:00, ?it/s]"
      ]
     },
     "metadata": {},
     "output_type": "display_data"
    },
    {
     "data": {
      "application/vnd.jupyter.widget-view+json": {
       "model_id": "3e26a44038a84f67bf8053c3d973fa08",
       "version_major": 2,
       "version_minor": 0
      },
      "text/plain": [
       "0it [00:00, ?it/s]"
      ]
     },
     "metadata": {},
     "output_type": "display_data"
    },
    {
     "data": {
      "application/vnd.jupyter.widget-view+json": {
       "model_id": "fd14fcd9b6ec49e284e616e2f1cc94e1",
       "version_major": 2,
       "version_minor": 0
      },
      "text/plain": [
       "0it [00:00, ?it/s]"
      ]
     },
     "metadata": {},
     "output_type": "display_data"
    },
    {
     "data": {
      "application/vnd.jupyter.widget-view+json": {
       "model_id": "8c2e1eb137d04568beafa1f7ab171faf",
       "version_major": 2,
       "version_minor": 0
      },
      "text/plain": [
       "0it [00:00, ?it/s]"
      ]
     },
     "metadata": {},
     "output_type": "display_data"
    },
    {
     "data": {
      "application/vnd.jupyter.widget-view+json": {
       "model_id": "c6904ebc2026446db7b9f7d4feaa9d80",
       "version_major": 2,
       "version_minor": 0
      },
      "text/plain": [
       "0it [00:00, ?it/s]"
      ]
     },
     "metadata": {},
     "output_type": "display_data"
    },
    {
     "data": {
      "application/vnd.jupyter.widget-view+json": {
       "model_id": "f463e267a5cd49718158f0be899e755d",
       "version_major": 2,
       "version_minor": 0
      },
      "text/plain": [
       "0it [00:00, ?it/s]"
      ]
     },
     "metadata": {},
     "output_type": "display_data"
    },
    {
     "data": {
      "application/vnd.jupyter.widget-view+json": {
       "model_id": "fadf4d97a6f340df89567bc23a5cb742",
       "version_major": 2,
       "version_minor": 0
      },
      "text/plain": [
       "0it [00:00, ?it/s]"
      ]
     },
     "metadata": {},
     "output_type": "display_data"
    },
    {
     "data": {
      "application/vnd.jupyter.widget-view+json": {
       "model_id": "884c6ff46c2546bd99a559699d75f257",
       "version_major": 2,
       "version_minor": 0
      },
      "text/plain": [
       "0it [00:00, ?it/s]"
      ]
     },
     "metadata": {},
     "output_type": "display_data"
    },
    {
     "data": {
      "application/vnd.jupyter.widget-view+json": {
       "model_id": "9cf8c9d7a196463b87cb386fc2e85f26",
       "version_major": 2,
       "version_minor": 0
      },
      "text/plain": [
       "0it [00:00, ?it/s]"
      ]
     },
     "metadata": {},
     "output_type": "display_data"
    },
    {
     "data": {
      "application/vnd.jupyter.widget-view+json": {
       "model_id": "c94ffc9516fd4ae1989f10567cf1b831",
       "version_major": 2,
       "version_minor": 0
      },
      "text/plain": [
       "0it [00:00, ?it/s]"
      ]
     },
     "metadata": {},
     "output_type": "display_data"
    },
    {
     "data": {
      "application/vnd.jupyter.widget-view+json": {
       "model_id": "327216a7870841b48efccce818e69b03",
       "version_major": 2,
       "version_minor": 0
      },
      "text/plain": [
       "0it [00:00, ?it/s]"
      ]
     },
     "metadata": {},
     "output_type": "display_data"
    },
    {
     "data": {
      "application/vnd.jupyter.widget-view+json": {
       "model_id": "f806ba0217134ec6817260ed5871bb5c",
       "version_major": 2,
       "version_minor": 0
      },
      "text/plain": [
       "0it [00:00, ?it/s]"
      ]
     },
     "metadata": {},
     "output_type": "display_data"
    },
    {
     "data": {
      "application/vnd.jupyter.widget-view+json": {
       "model_id": "8b401d711c0a4bf6946b203a9ba9e488",
       "version_major": 2,
       "version_minor": 0
      },
      "text/plain": [
       "0it [00:00, ?it/s]"
      ]
     },
     "metadata": {},
     "output_type": "display_data"
    },
    {
     "data": {
      "application/vnd.jupyter.widget-view+json": {
       "model_id": "fba7b1d1f0f6477ea742ad33b4a62209",
       "version_major": 2,
       "version_minor": 0
      },
      "text/plain": [
       "0it [00:00, ?it/s]"
      ]
     },
     "metadata": {},
     "output_type": "display_data"
    },
    {
     "data": {
      "application/vnd.jupyter.widget-view+json": {
       "model_id": "93421853c0b24d9ba8663d37ac39c257",
       "version_major": 2,
       "version_minor": 0
      },
      "text/plain": [
       "0it [00:00, ?it/s]"
      ]
     },
     "metadata": {},
     "output_type": "display_data"
    },
    {
     "data": {
      "application/vnd.jupyter.widget-view+json": {
       "model_id": "d9f3f0254b40408ba817034e5d036884",
       "version_major": 2,
       "version_minor": 0
      },
      "text/plain": [
       "0it [00:00, ?it/s]"
      ]
     },
     "metadata": {},
     "output_type": "display_data"
    },
    {
     "data": {
      "application/vnd.jupyter.widget-view+json": {
       "model_id": "cfbe7606a1d24af2971e9b17f6646782",
       "version_major": 2,
       "version_minor": 0
      },
      "text/plain": [
       "0it [00:00, ?it/s]"
      ]
     },
     "metadata": {},
     "output_type": "display_data"
    }
   ],
   "source": [
    "TCsl_ts = []\n",
    "for TCname in tqdm(stormnames):\n",
    "    ###########################################################################\n",
    "    pos,indices_store,tc_irad = make_timeseries_step1(TCname=TCname,era5_date=era5_date,era5_hour=era5_hour)\n",
    "    ###########################################################################\n",
    "    mysvar = [extract_var(dataset=dm2,var=obj,indices=indices_store) for obj in (list(dm2.keys()))]\n",
    "    ###########################################################################\n",
    "    ################################################################################################\n",
    "    \n",
    "    smallsvarout = [smallarea(dm2,mysvar[i],indices_store,tc_irad) for i in (range(len(mysvar)))]\n",
    "    \n",
    "    svarname = ['u10','v10','2mdewtmp','2mtmp','conv_ppt','tot_cld_ice',\\\n",
    "           'tot_cldwtr','tot_cld_rain','vi_div_cld_froz_wtr','vi_div_cld_liq_wtr','vi_div_gpot_flux',\\\n",
    "           'vi_div_ke_flux','vi_div_mass_flux','vi_div_moisture_flux','vi_div_olr_flux','vi_div_tot_enrgy_flux',\\\n",
    "           'vi_ke','vi_pe_inte','vi_pe_ie_latentenrgy','vi_temp','vi_olr','vi_tot_enrgy','vi_moisture_div']\n",
    "    svardict = {varnameobj:varobj for (varnameobj,varobj) in zip(svarname,smallsvarout)}\n",
    "    \n",
    "    ##################################################################################################\n",
    "    #############################################################################################\n",
    "    tsdict = {}\n",
    "    for ind,obj in tqdm(enumerate(svarname)):\n",
    "        tslist = [svardict[svarname[ind]][i,...].flatten() for i in range(len(indices_store))]\n",
    "        tsdict[svarname[ind]] = [np.nanmean(obj) for obj in tslist]\n",
    "    #############################################################################################\n",
    "    TCsl_ts.append(tsdict)"
   ]
  },
  {
   "cell_type": "code",
   "execution_count": 26,
   "id": "7659c9bd",
   "metadata": {},
   "outputs": [],
   "source": [
    "storeTCdicts = {}\n",
    "for ind in range(len(TCrl_ts)):\n",
    "    storeTCdicts[stormnames[ind]] = pd.DataFrame.from_dict(TCsl_ts[ind])"
   ]
  },
  {
   "cell_type": "code",
   "execution_count": 27,
   "id": "eed34d0d",
   "metadata": {},
   "outputs": [],
   "source": [
    "for ind,obj in enumerate(stormnames):\n",
    "    storeTCdicts[obj].to_csv(output+'2001_slvars_wpac_'+str(obj)+'.csv')"
   ]
  },
  {
   "cell_type": "code",
   "execution_count": 28,
   "id": "5a9b3f97-39d9-46a4-9440-89713682e515",
   "metadata": {},
   "outputs": [],
   "source": [
    "#for dm1 files functions\n",
    "def make_timeseries_step1(TCname=None,era5_date=None,era5_hour=None):\n",
    "    track=tracksDF[tracksDF['name']==TCname].reset_index()\n",
    "    lon1=track['lon'].to_numpy()\n",
    "    lat1=track['lat'].to_numpy()\n",
    "    pos = np.stack((lat1, lon1), axis=1)\n",
    "    ###########################################################################\n",
    "    indices_store = output_indices(track,era5_date,era5_hour)\n",
    "    ###########################################################################\n",
    "    tc_irad=np.empty((len(indices_store),4))\n",
    "    tc_irad[:,0] = pos[:,0]-2\n",
    "    tc_irad[:,1] = pos[:,0]+2\n",
    "    tc_irad[:,2] = pos[:,1]-2\n",
    "    tc_irad[:,3] = pos[:,1]+2\n",
    "    return pos,indices_store,tc_irad\n",
    "\n",
    "def make_timeseries_step3(dm1=None,pvarname=None,pvardict=None,indices_store=None):\n",
    "    ts_pdict = {}\n",
    "    for ind,obj in (enumerate(pvarname)):\n",
    "        pvarTS_store = []\n",
    "        for plevv in range(len(dm1.plev.data)):\n",
    "            tempvar = pvardict[pvarname[ind]][:,plevv,...]\n",
    "            tempts = [tempvar[i,...].flatten() for i in range(len(indices_store))]\n",
    "            tempTSERIES = [np.nanmean(obj) for obj in tempts]\n",
    "            pvarTS_store.append(tempTSERIES)\n",
    "        ts_pdict[pvarname[ind]] = np.asarray(pvarTS_store).transpose()\n",
    "    return ts_pdict"
   ]
  },
  {
   "cell_type": "code",
   "execution_count": 29,
   "id": "b1705d65",
   "metadata": {},
   "outputs": [],
   "source": [
    "dm1=xr.open_dataset(datapath+'/vor/vor_2001.nc')"
   ]
  },
  {
   "cell_type": "code",
   "execution_count": 30,
   "id": "cd024dec",
   "metadata": {
    "tags": []
   },
   "outputs": [
    {
     "data": {
      "application/vnd.jupyter.widget-view+json": {
       "model_id": "7f1f1fe8782646f5a3ece7063d405462",
       "version_major": 2,
       "version_minor": 0
      },
      "text/plain": [
       "  0%|          | 0/19 [00:00<?, ?it/s]"
      ]
     },
     "metadata": {},
     "output_type": "display_data"
    }
   ],
   "source": [
    "#For vars with 21 vertical levels vorticity humidity file##################\n",
    "TCv_ts = []\n",
    "\n",
    "for TCname in tqdm(stormnames):\n",
    "    ############################################################################\n",
    "    pos,indices_store,tc_irad = make_timeseries_step1(TCname=TCname,era5_date=era5_date,era5_hour=era5_hour)\n",
    "    ###########################################################################\n",
    "    mypvar = [extract_var(dataset=dm1,var=obj,indices=indices_store) for obj in (list(dm1.keys()))]\n",
    "    ###########################################################################\n",
    "    smallpvarout = [largearea_withpres(dm1,mypvar[i],indices_store,tc_irad) for i in (range(len(mypvar)))]    \n",
    "    pvarname = ['vor']\n",
    "    pvardict = {varnameobj:varobj for (varnameobj,varobj) in zip(pvarname,smallpvarout)}\n",
    "    #############################################################################################\n",
    "    ts_pdict = {}\n",
    "    for ind,obj in (enumerate(pvarname)):\n",
    "        pvarTS_store = []\n",
    "        for plevv in range(len(dm1.plev.data)):\n",
    "            tempvar = pvardict[pvarname[ind]][:,plevv,...]\n",
    "            tempts = [tempvar[i,...].flatten() for i in range(len(indices_store))]\n",
    "            tempTSERIES = [np.nanmean(obj) for obj in tempts]\n",
    "            pvarTS_store.append(tempTSERIES)\n",
    "        ts_pdict[pvarname[ind]] = np.asarray(pvarTS_store).transpose()\n",
    "    #############################################################################################\n",
    "    #############################################################################################\n",
    "    TCv_ts.append(ts_pdict)"
   ]
  },
  {
   "cell_type": "code",
   "execution_count": 31,
   "id": "66ac6596",
   "metadata": {},
   "outputs": [],
   "source": [
    "dm1=xr.open_dataset(datapath+'/rhum/rhum_2001.nc')"
   ]
  },
  {
   "cell_type": "code",
   "execution_count": 32,
   "id": "0e711b18",
   "metadata": {},
   "outputs": [
    {
     "data": {
      "application/vnd.jupyter.widget-view+json": {
       "model_id": "c07f5654fce748a0a77a9a76c56f2509",
       "version_major": 2,
       "version_minor": 0
      },
      "text/plain": [
       "  0%|          | 0/19 [00:00<?, ?it/s]"
      ]
     },
     "metadata": {},
     "output_type": "display_data"
    }
   ],
   "source": [
    "TCrh_ts = []\n",
    "\n",
    "for TCname in tqdm(stormnames):\n",
    "    ############################################################################\n",
    "    pos,indices_store,tc_irad = make_timeseries_step1(TCname=TCname,era5_date=era5_date,era5_hour=era5_hour)\n",
    "    ###########################################################################\n",
    "    mypvar = [extract_var(dataset=dm1,var=obj,indices=indices_store) for obj in (list(dm1.keys()))]\n",
    "    ###########################################################################\n",
    "    smallpvarout = [largearea_withpres(dm1,mypvar[i],indices_store,tc_irad) for i in (range(len(mypvar)))]    \n",
    "    pvarname = ['rhum']\n",
    "    pvardict = {varnameobj:varobj for (varnameobj,varobj) in zip(pvarname,smallpvarout)}\n",
    "    #############################################################################################\n",
    "    ts_pdict = {}\n",
    "    for ind,obj in (enumerate(pvarname)):\n",
    "        pvarTS_store = []\n",
    "        for plevv in range(len(dm1.plev.data)):\n",
    "            tempvar = pvardict[pvarname[ind]][:,plevv,...]\n",
    "            tempts = [tempvar[i,...].flatten() for i in range(len(indices_store))]\n",
    "            tempTSERIES = [np.nanmean(obj) for obj in tempts]\n",
    "            pvarTS_store.append(tempTSERIES)\n",
    "        ts_pdict[pvarname[ind]] = np.asarray(pvarTS_store).transpose()\n",
    "    #############################################################################################\n",
    "    #############################################################################################\n",
    "    TCrh_ts.append(ts_pdict)"
   ]
  },
  {
   "cell_type": "code",
   "execution_count": 33,
   "id": "2a16f20c",
   "metadata": {},
   "outputs": [],
   "source": [
    "dm1=xr.open_dataset(datapath+'/pvor/pvor_2001.nc')"
   ]
  },
  {
   "cell_type": "code",
   "execution_count": 34,
   "id": "21d1a3be",
   "metadata": {},
   "outputs": [
    {
     "data": {
      "application/vnd.jupyter.widget-view+json": {
       "model_id": "e372c8092eb445689af1c56018d7f817",
       "version_major": 2,
       "version_minor": 0
      },
      "text/plain": [
       "  0%|          | 0/19 [00:00<?, ?it/s]"
      ]
     },
     "metadata": {},
     "output_type": "display_data"
    }
   ],
   "source": [
    "#potential vorticity\n",
    "TCp2_ts = []\n",
    "\n",
    "for TCname in tqdm(stormnames):\n",
    "    ############################################################################\n",
    "    pos,indices_store,tc_irad = make_timeseries_step1(TCname=TCname,era5_date=era5_date,era5_hour=era5_hour)\n",
    "    ###########################################################################\n",
    "    mypvar = [extract_var(dataset=dm1,var=obj,indices=indices_store) for obj in (list(dm1.keys()))]\n",
    "    ###########################################################################\n",
    "    smallpvarout = [largearea_withpres(dm1,mypvar[i],indices_store,tc_irad) for i in (range(len(mypvar)))]    \n",
    "    pvarname = ['pvor']\n",
    "    pvardict = {varnameobj:varobj for (varnameobj,varobj) in zip(pvarname,smallpvarout)}\n",
    "    #############################################################################################\n",
    "    ts_pdict = {}\n",
    "    for ind,obj in (enumerate(pvarname)):\n",
    "        pvarTS_store = []\n",
    "        for plevv in range(len(dm1.plev.data)):\n",
    "            tempvar = pvardict[pvarname[ind]][:,plevv,...]\n",
    "            tempts = [tempvar[i,...].flatten() for i in range(len(indices_store))]\n",
    "            tempTSERIES = [np.nanmean(obj) for obj in tempts]\n",
    "            pvarTS_store.append(tempTSERIES)\n",
    "        ts_pdict[pvarname[ind]] = np.asarray(pvarTS_store).transpose()\n",
    "    #############################################################################################\n",
    "    TCp2_ts.append(ts_pdict)"
   ]
  },
  {
   "cell_type": "code",
   "execution_count": 35,
   "id": "67bc18a7",
   "metadata": {},
   "outputs": [],
   "source": [
    "dm1=xr.open_dataset(datapath+'/div/div_2001.nc')"
   ]
  },
  {
   "cell_type": "code",
   "execution_count": 36,
   "id": "ca17b8cd",
   "metadata": {},
   "outputs": [
    {
     "data": {
      "application/vnd.jupyter.widget-view+json": {
       "model_id": "901ade7e8a034e10a3b6b049cae0cb40",
       "version_major": 2,
       "version_minor": 0
      },
      "text/plain": [
       "  0%|          | 0/19 [00:00<?, ?it/s]"
      ]
     },
     "metadata": {},
     "output_type": "display_data"
    }
   ],
   "source": [
    "#divergence\n",
    "TCd_ts = []\n",
    "for TCname in tqdm(stormnames):\n",
    "    ############################################################################\n",
    "    pos,indices_store,tc_irad = make_timeseries_step1(TCname=TCname,era5_date=era5_date,era5_hour=era5_hour)\n",
    "    ###########################################################################\n",
    "    mypvar = [extract_var(dataset=dm1,var=obj,indices=indices_store) for obj in (list(dm1.keys()))]\n",
    "    ###########################################################################\n",
    "    smallpvarout = [largearea_withpres(dm1,mypvar[i],indices_store,tc_irad) for i in (range(len(mypvar)))]    \n",
    "    pvarname = ['div']\n",
    "    pvardict = {varnameobj:varobj for (varnameobj,varobj) in zip(pvarname,smallpvarout)}\n",
    "    #############################################################################################\n",
    "    ts_pdict = {}\n",
    "    for ind,obj in (enumerate(pvarname)):\n",
    "        pvarTS_store = []\n",
    "        for plevv in range(len(dm1.plev.data)):\n",
    "            tempvar = pvardict[pvarname[ind]][:,plevv,...]\n",
    "            tempts = [tempvar[i,...].flatten() for i in range(len(indices_store))]\n",
    "            tempTSERIES = [np.nanmean(obj) for obj in tempts]\n",
    "            pvarTS_store.append(tempTSERIES)\n",
    "        ts_pdict[pvarname[ind]] = np.asarray(pvarTS_store).transpose()\n",
    "\n",
    "    #############################################################################################\n",
    "    TCd_ts.append(ts_pdict)"
   ]
  },
  {
   "cell_type": "code",
   "execution_count": 37,
   "id": "1eead177",
   "metadata": {},
   "outputs": [],
   "source": [
    "pilv=[str(int(obj)) for obj in dm1.plev.data/100]"
   ]
  },
  {
   "cell_type": "code",
   "execution_count": 38,
   "id": "542a11af",
   "metadata": {},
   "outputs": [
    {
     "data": {
      "text/plain": [
       "['50',\n",
       " '100',\n",
       " '200',\n",
       " '250',\n",
       " '300',\n",
       " '400',\n",
       " '500',\n",
       " '600',\n",
       " '700',\n",
       " '800',\n",
       " '850',\n",
       " '925',\n",
       " '1000']"
      ]
     },
     "execution_count": 38,
     "metadata": {},
     "output_type": "execute_result"
    }
   ],
   "source": [
    "pilv"
   ]
  },
  {
   "cell_type": "code",
   "execution_count": 99,
   "id": "e11cd98e",
   "metadata": {},
   "outputs": [],
   "source": [
    "tempdivdict0 = {'div_'+plv[i]:TCd_ts[0]['indiv'][:,i] for i in range(13)}"
   ]
  },
  {
   "cell_type": "code",
   "execution_count": 101,
   "id": "a84c9374",
   "metadata": {},
   "outputs": [],
   "source": [
    "div_21=pd.DataFrame.from_dict(tempdivdict0)\n",
    "#eqt_21=pd.DataFrame.from_dict(TCeqt_ts[0])"
   ]
  },
  {
   "cell_type": "code",
   "execution_count": 102,
   "id": "27caccd7",
   "metadata": {},
   "outputs": [
    {
     "data": {
      "text/html": [
       "<div>\n",
       "<style scoped>\n",
       "    .dataframe tbody tr th:only-of-type {\n",
       "        vertical-align: middle;\n",
       "    }\n",
       "\n",
       "    .dataframe tbody tr th {\n",
       "        vertical-align: top;\n",
       "    }\n",
       "\n",
       "    .dataframe thead th {\n",
       "        text-align: right;\n",
       "    }\n",
       "</style>\n",
       "<table border=\"1\" class=\"dataframe\">\n",
       "  <thead>\n",
       "    <tr style=\"text-align: right;\">\n",
       "      <th></th>\n",
       "      <th>div_50</th>\n",
       "      <th>div_100</th>\n",
       "      <th>div_200</th>\n",
       "      <th>div_250</th>\n",
       "      <th>div_300</th>\n",
       "      <th>div_400</th>\n",
       "      <th>div_500</th>\n",
       "      <th>div_600</th>\n",
       "      <th>div_700</th>\n",
       "      <th>div_800</th>\n",
       "      <th>div_850</th>\n",
       "      <th>div_925</th>\n",
       "      <th>div_1000</th>\n",
       "    </tr>\n",
       "  </thead>\n",
       "  <tbody>\n",
       "    <tr>\n",
       "      <th>0</th>\n",
       "      <td>-0.000004</td>\n",
       "      <td>-1.983432e-05</td>\n",
       "      <td>0.000040</td>\n",
       "      <td>0.000003</td>\n",
       "      <td>-0.000003</td>\n",
       "      <td>-9.703042e-06</td>\n",
       "      <td>-2.086820e-05</td>\n",
       "      <td>-0.000015</td>\n",
       "      <td>6.536720e-08</td>\n",
       "      <td>3.927620e-06</td>\n",
       "      <td>9.286450e-07</td>\n",
       "      <td>-0.000005</td>\n",
       "      <td>-4.185131e-06</td>\n",
       "    </tr>\n",
       "    <tr>\n",
       "      <th>1</th>\n",
       "      <td>-0.000005</td>\n",
       "      <td>-9.397219e-06</td>\n",
       "      <td>0.000041</td>\n",
       "      <td>0.000011</td>\n",
       "      <td>0.000004</td>\n",
       "      <td>-8.702918e-06</td>\n",
       "      <td>-2.511602e-05</td>\n",
       "      <td>-0.000016</td>\n",
       "      <td>4.503876e-06</td>\n",
       "      <td>4.741712e-06</td>\n",
       "      <td>-5.925540e-08</td>\n",
       "      <td>-0.000005</td>\n",
       "      <td>-8.495990e-07</td>\n",
       "    </tr>\n",
       "    <tr>\n",
       "      <th>2</th>\n",
       "      <td>0.000003</td>\n",
       "      <td>-1.139863e-05</td>\n",
       "      <td>0.000041</td>\n",
       "      <td>0.000013</td>\n",
       "      <td>0.000006</td>\n",
       "      <td>-1.246994e-05</td>\n",
       "      <td>-1.901499e-05</td>\n",
       "      <td>-0.000009</td>\n",
       "      <td>5.122623e-06</td>\n",
       "      <td>-8.995412e-07</td>\n",
       "      <td>-3.426336e-06</td>\n",
       "      <td>-0.000006</td>\n",
       "      <td>-3.165100e-06</td>\n",
       "    </tr>\n",
       "    <tr>\n",
       "      <th>3</th>\n",
       "      <td>0.000002</td>\n",
       "      <td>-2.402591e-05</td>\n",
       "      <td>0.000038</td>\n",
       "      <td>0.000020</td>\n",
       "      <td>0.000009</td>\n",
       "      <td>-1.478021e-05</td>\n",
       "      <td>-1.763820e-05</td>\n",
       "      <td>-0.000005</td>\n",
       "      <td>4.852016e-06</td>\n",
       "      <td>-2.853107e-06</td>\n",
       "      <td>-5.287351e-06</td>\n",
       "      <td>-0.000006</td>\n",
       "      <td>-1.135864e-06</td>\n",
       "    </tr>\n",
       "    <tr>\n",
       "      <th>4</th>\n",
       "      <td>0.000013</td>\n",
       "      <td>-2.332439e-05</td>\n",
       "      <td>0.000041</td>\n",
       "      <td>0.000036</td>\n",
       "      <td>0.000014</td>\n",
       "      <td>-1.081871e-05</td>\n",
       "      <td>-1.335621e-05</td>\n",
       "      <td>-0.000005</td>\n",
       "      <td>-3.062945e-06</td>\n",
       "      <td>-7.042079e-06</td>\n",
       "      <td>-7.961644e-06</td>\n",
       "      <td>-0.000007</td>\n",
       "      <td>1.363223e-07</td>\n",
       "    </tr>\n",
       "    <tr>\n",
       "      <th>...</th>\n",
       "      <td>...</td>\n",
       "      <td>...</td>\n",
       "      <td>...</td>\n",
       "      <td>...</td>\n",
       "      <td>...</td>\n",
       "      <td>...</td>\n",
       "      <td>...</td>\n",
       "      <td>...</td>\n",
       "      <td>...</td>\n",
       "      <td>...</td>\n",
       "      <td>...</td>\n",
       "      <td>...</td>\n",
       "      <td>...</td>\n",
       "    </tr>\n",
       "    <tr>\n",
       "      <th>80</th>\n",
       "      <td>0.000003</td>\n",
       "      <td>1.923181e-06</td>\n",
       "      <td>-0.000020</td>\n",
       "      <td>0.000005</td>\n",
       "      <td>0.000009</td>\n",
       "      <td>-1.149124e-05</td>\n",
       "      <td>1.454540e-05</td>\n",
       "      <td>0.000002</td>\n",
       "      <td>-4.081288e-06</td>\n",
       "      <td>8.702744e-06</td>\n",
       "      <td>7.940806e-06</td>\n",
       "      <td>-0.000003</td>\n",
       "      <td>-2.788485e-05</td>\n",
       "    </tr>\n",
       "    <tr>\n",
       "      <th>81</th>\n",
       "      <td>-0.000003</td>\n",
       "      <td>9.576906e-06</td>\n",
       "      <td>-0.000023</td>\n",
       "      <td>-0.000007</td>\n",
       "      <td>0.000005</td>\n",
       "      <td>-7.817172e-06</td>\n",
       "      <td>1.396728e-05</td>\n",
       "      <td>0.000001</td>\n",
       "      <td>-6.428454e-07</td>\n",
       "      <td>1.385133e-05</td>\n",
       "      <td>7.485622e-06</td>\n",
       "      <td>-0.000001</td>\n",
       "      <td>-2.571975e-05</td>\n",
       "    </tr>\n",
       "    <tr>\n",
       "      <th>82</th>\n",
       "      <td>-0.000003</td>\n",
       "      <td>6.084447e-06</td>\n",
       "      <td>0.000002</td>\n",
       "      <td>-0.000009</td>\n",
       "      <td>0.000006</td>\n",
       "      <td>-6.004120e-06</td>\n",
       "      <td>3.696710e-06</td>\n",
       "      <td>-0.000003</td>\n",
       "      <td>-3.684137e-06</td>\n",
       "      <td>8.417061e-06</td>\n",
       "      <td>6.029266e-06</td>\n",
       "      <td>0.000012</td>\n",
       "      <td>-1.486973e-05</td>\n",
       "    </tr>\n",
       "    <tr>\n",
       "      <th>83</th>\n",
       "      <td>0.000002</td>\n",
       "      <td>4.689209e-07</td>\n",
       "      <td>0.000010</td>\n",
       "      <td>-0.000003</td>\n",
       "      <td>0.000005</td>\n",
       "      <td>1.199078e-08</td>\n",
       "      <td>-7.335329e-07</td>\n",
       "      <td>-0.000007</td>\n",
       "      <td>-5.676935e-06</td>\n",
       "      <td>-4.216563e-07</td>\n",
       "      <td>3.892928e-06</td>\n",
       "      <td>0.000019</td>\n",
       "      <td>-9.688549e-06</td>\n",
       "    </tr>\n",
       "    <tr>\n",
       "      <th>84</th>\n",
       "      <td>-0.000004</td>\n",
       "      <td>6.157905e-06</td>\n",
       "      <td>0.000007</td>\n",
       "      <td>-0.000002</td>\n",
       "      <td>-0.000012</td>\n",
       "      <td>5.930080e-06</td>\n",
       "      <td>-9.947689e-07</td>\n",
       "      <td>-0.000009</td>\n",
       "      <td>-2.022309e-06</td>\n",
       "      <td>-5.572103e-06</td>\n",
       "      <td>3.645779e-06</td>\n",
       "      <td>0.000017</td>\n",
       "      <td>-3.471738e-06</td>\n",
       "    </tr>\n",
       "  </tbody>\n",
       "</table>\n",
       "<p>85 rows × 13 columns</p>\n",
       "</div>"
      ],
      "text/plain": [
       "      div_50       div_100   div_200   div_250   div_300       div_400  \\\n",
       "0  -0.000004 -1.983432e-05  0.000040  0.000003 -0.000003 -9.703042e-06   \n",
       "1  -0.000005 -9.397219e-06  0.000041  0.000011  0.000004 -8.702918e-06   \n",
       "2   0.000003 -1.139863e-05  0.000041  0.000013  0.000006 -1.246994e-05   \n",
       "3   0.000002 -2.402591e-05  0.000038  0.000020  0.000009 -1.478021e-05   \n",
       "4   0.000013 -2.332439e-05  0.000041  0.000036  0.000014 -1.081871e-05   \n",
       "..       ...           ...       ...       ...       ...           ...   \n",
       "80  0.000003  1.923181e-06 -0.000020  0.000005  0.000009 -1.149124e-05   \n",
       "81 -0.000003  9.576906e-06 -0.000023 -0.000007  0.000005 -7.817172e-06   \n",
       "82 -0.000003  6.084447e-06  0.000002 -0.000009  0.000006 -6.004120e-06   \n",
       "83  0.000002  4.689209e-07  0.000010 -0.000003  0.000005  1.199078e-08   \n",
       "84 -0.000004  6.157905e-06  0.000007 -0.000002 -0.000012  5.930080e-06   \n",
       "\n",
       "         div_500   div_600       div_700       div_800       div_850  \\\n",
       "0  -2.086820e-05 -0.000015  6.536720e-08  3.927620e-06  9.286450e-07   \n",
       "1  -2.511602e-05 -0.000016  4.503876e-06  4.741712e-06 -5.925540e-08   \n",
       "2  -1.901499e-05 -0.000009  5.122623e-06 -8.995412e-07 -3.426336e-06   \n",
       "3  -1.763820e-05 -0.000005  4.852016e-06 -2.853107e-06 -5.287351e-06   \n",
       "4  -1.335621e-05 -0.000005 -3.062945e-06 -7.042079e-06 -7.961644e-06   \n",
       "..           ...       ...           ...           ...           ...   \n",
       "80  1.454540e-05  0.000002 -4.081288e-06  8.702744e-06  7.940806e-06   \n",
       "81  1.396728e-05  0.000001 -6.428454e-07  1.385133e-05  7.485622e-06   \n",
       "82  3.696710e-06 -0.000003 -3.684137e-06  8.417061e-06  6.029266e-06   \n",
       "83 -7.335329e-07 -0.000007 -5.676935e-06 -4.216563e-07  3.892928e-06   \n",
       "84 -9.947689e-07 -0.000009 -2.022309e-06 -5.572103e-06  3.645779e-06   \n",
       "\n",
       "     div_925      div_1000  \n",
       "0  -0.000005 -4.185131e-06  \n",
       "1  -0.000005 -8.495990e-07  \n",
       "2  -0.000006 -3.165100e-06  \n",
       "3  -0.000006 -1.135864e-06  \n",
       "4  -0.000007  1.363223e-07  \n",
       "..       ...           ...  \n",
       "80 -0.000003 -2.788485e-05  \n",
       "81 -0.000001 -2.571975e-05  \n",
       "82  0.000012 -1.486973e-05  \n",
       "83  0.000019 -9.688549e-06  \n",
       "84  0.000017 -3.471738e-06  \n",
       "\n",
       "[85 rows x 13 columns]"
      ]
     },
     "execution_count": 102,
     "metadata": {},
     "output_type": "execute_result"
    }
   ],
   "source": [
    "div_21"
   ]
  },
  {
   "cell_type": "code",
   "execution_count": 39,
   "id": "ddf6a7a5",
   "metadata": {},
   "outputs": [],
   "source": [
    "dm1=xr.open_dataset(datapath+'/gpot/gpot_2001.nc')"
   ]
  },
  {
   "cell_type": "code",
   "execution_count": 40,
   "id": "3c2abd75",
   "metadata": {},
   "outputs": [
    {
     "data": {
      "application/vnd.jupyter.widget-view+json": {
       "model_id": "90bdc04a2d6243039c7577994396f618",
       "version_major": 2,
       "version_minor": 0
      },
      "text/plain": [
       "  0%|          | 0/19 [00:00<?, ?it/s]"
      ]
     },
     "metadata": {},
     "output_type": "display_data"
    }
   ],
   "source": [
    "#geopotential\n",
    "TCgp_ts = []\n",
    "for TCname in tqdm(stormnames):\n",
    "    ############################################################################\n",
    "    pos,indices_store,tc_irad = make_timeseries_step1(TCname=TCname,era5_date=era5_date,era5_hour=era5_hour)\n",
    "    ###########################################################################\n",
    "    mypvar = [extract_var(dataset=dm1,var=obj,indices=indices_store) for obj in (list(dm1.keys()))]\n",
    "    ###########################################################################\n",
    "    smallpvarout = [largearea_withpres(dm1,mypvar[i],indices_store,tc_irad) for i in (range(len(mypvar)))]    \n",
    "    pvarname = ['gpot']\n",
    "    pvardict = {varnameobj:varobj for (varnameobj,varobj) in zip(pvarname,smallpvarout)}\n",
    "    #############################################################################################\n",
    "    ts_pdict = {}\n",
    "    for ind,obj in (enumerate(pvarname)):\n",
    "        pvarTS_store = []\n",
    "        for plevv in range(len(dm1.plev.data)):\n",
    "            tempvar = pvardict[pvarname[ind]][:,plevv,...]\n",
    "            tempts = [tempvar[i,...].flatten() for i in range(len(indices_store))]\n",
    "            tempTSERIES = [np.nanmean(obj) for obj in tempts]\n",
    "            pvarTS_store.append(tempTSERIES)\n",
    "        ts_pdict[pvarname[ind]] = np.asarray(pvarTS_store).transpose()\n",
    "    #############################################################################################\n",
    "    TCgp_ts.append(ts_pdict)"
   ]
  },
  {
   "cell_type": "code",
   "execution_count": 41,
   "id": "a70e3007",
   "metadata": {},
   "outputs": [],
   "source": [
    "dm1=xr.open_dataset(datapath+'/tlevs/tlevs_2001.nc')"
   ]
  },
  {
   "cell_type": "code",
   "execution_count": 42,
   "id": "ff3da54a",
   "metadata": {},
   "outputs": [
    {
     "data": {
      "application/vnd.jupyter.widget-view+json": {
       "model_id": "ec0c61a35cdc46c98ab49d44e1061c1f",
       "version_major": 2,
       "version_minor": 0
      },
      "text/plain": [
       "  0%|          | 0/19 [00:00<?, ?it/s]"
      ]
     },
     "metadata": {},
     "output_type": "display_data"
    }
   ],
   "source": [
    "#temperature levels\n",
    "TCtl_ts = []\n",
    "for TCname in tqdm(stormnames):\n",
    "    ############################################################################\n",
    "    pos,indices_store,tc_irad = make_timeseries_step1(TCname=TCname,era5_date=era5_date,era5_hour=era5_hour)\n",
    "    ###########################################################################\n",
    "    mypvar = [extract_var(dataset=dm1,var=obj,indices=indices_store) for obj in (list(dm1.keys()))]\n",
    "    ###########################################################################\n",
    "    smallpvarout = [largearea_withpres(dm1,mypvar[i],indices_store,tc_irad) for i in (range(len(mypvar)))]    \n",
    "    pvarname = ['temp']\n",
    "    pvardict = {varnameobj:varobj for (varnameobj,varobj) in zip(pvarname,smallpvarout)}\n",
    "    #############################################################################################\n",
    "    ts_pdict = {}\n",
    "    for ind,obj in (enumerate(pvarname)):\n",
    "        pvarTS_store = []\n",
    "        for plevv in range(len(dm1.plev.data)):\n",
    "            tempvar = pvardict[pvarname[ind]][:,plevv,...]\n",
    "            tempts = [tempvar[i,...].flatten() for i in range(len(indices_store))]\n",
    "            tempTSERIES = [np.nanmean(obj) for obj in tempts]\n",
    "            pvarTS_store.append(tempTSERIES)\n",
    "        ts_pdict[pvarname[ind]] = np.asarray(pvarTS_store).transpose()\n",
    "    #############################################################################################\n",
    "    TCtl_ts.append(ts_pdict)"
   ]
  },
  {
   "cell_type": "code",
   "execution_count": 44,
   "id": "be115071",
   "metadata": {},
   "outputs": [],
   "source": [
    "dm1=xr.open_dataset(datapath+'/vvel/w_wnd_2001.nc')"
   ]
  },
  {
   "cell_type": "code",
   "execution_count": 45,
   "id": "05fe0398",
   "metadata": {},
   "outputs": [
    {
     "data": {
      "application/vnd.jupyter.widget-view+json": {
       "model_id": "6d682aa0236a49a9850b039cdfb223be",
       "version_major": 2,
       "version_minor": 0
      },
      "text/plain": [
       "  0%|          | 0/19 [00:00<?, ?it/s]"
      ]
     },
     "metadata": {},
     "output_type": "display_data"
    }
   ],
   "source": [
    "#Vertical velocity\n",
    "TCvv_ts = []\n",
    "for TCname in tqdm(stormnames):\n",
    "    ###########################################################################\n",
    "    pos,indices_store,tc_irad = make_timeseries_step1(TCname=TCname,era5_date=era5_date,era5_hour=era5_hour)\n",
    "    ###########################################################################\n",
    "    mypvar = [extract_var(dataset=dm1,var=obj,indices=indices_store) for obj in (list(dm1.keys()))]\n",
    "    ###########################################################################\n",
    "    smallpvarout = [largearea_withpres(dm1,mypvar[i],indices_store,tc_irad) for i in (range(len(mypvar)))]    \n",
    "    pvarname = ['vvel']\n",
    "    pvardict = {varnameobj:varobj for (varnameobj,varobj) in zip(pvarname,smallpvarout)}\n",
    "    \n",
    "    ts_pdict = make_timeseries_step3(dm1=dm1,pvarname=pvarname,pvardict=pvardict,indices_store=indices_store)\n",
    "    #############################################################################################\n",
    "    TCvv_ts.append(ts_pdict)"
   ]
  },
  {
   "cell_type": "code",
   "execution_count": 46,
   "id": "6be9f972",
   "metadata": {},
   "outputs": [],
   "source": [
    "plv = [str(int(obj)) for obj in dm1.plev.data/100]"
   ]
  },
  {
   "cell_type": "code",
   "execution_count": null,
   "id": "8b5b8734",
   "metadata": {},
   "outputs": [],
   "source": []
  },
  {
   "cell_type": "code",
   "execution_count": 47,
   "id": "83814dee",
   "metadata": {},
   "outputs": [],
   "source": [
    "dx=xr.open_dataset(datapath+'/tlevs/tlevs_2021.nc')"
   ]
  },
  {
   "cell_type": "code",
   "execution_count": null,
   "id": "d85ba0af",
   "metadata": {},
   "outputs": [],
   "source": []
  },
  {
   "cell_type": "code",
   "execution_count": 48,
   "id": "c9418396",
   "metadata": {},
   "outputs": [],
   "source": [
    "plev=[str(int(obj)) for obj in dx.plev.data/100]"
   ]
  },
  {
   "cell_type": "code",
   "execution_count": 50,
   "id": "bdaca644",
   "metadata": {},
   "outputs": [
    {
     "data": {
      "text/plain": [
       "['10',\n",
       " '20',\n",
       " '30',\n",
       " '50',\n",
       " '70',\n",
       " '100',\n",
       " '150',\n",
       " '200',\n",
       " '250',\n",
       " '300',\n",
       " '400',\n",
       " '500',\n",
       " '600',\n",
       " '700',\n",
       " '850',\n",
       " '925',\n",
       " '975',\n",
       " '1000']"
      ]
     },
     "execution_count": 50,
     "metadata": {},
     "output_type": "execute_result"
    }
   ],
   "source": [
    "plv"
   ]
  },
  {
   "cell_type": "code",
   "execution_count": 52,
   "id": "5ade34e5-ebe3-4f6d-946f-a386724ec39c",
   "metadata": {},
   "outputs": [
    {
     "data": {
      "text/plain": [
       "(18, 13, 21, (85, 21))"
      ]
     },
     "execution_count": 52,
     "metadata": {},
     "output_type": "execute_result"
    }
   ],
   "source": [
    "len(plv),len(pilv),len(plev),TCgp_ts[0]['gpot'].shape"
   ]
  },
  {
   "cell_type": "code",
   "execution_count": 74,
   "id": "cc993512-e995-4a9f-8e8b-897c12f84822",
   "metadata": {},
   "outputs": [],
   "source": [
    "def create_pandadict(gpotdict=None,tempdict=None,vveldict=None,gpotlv=plev,templv=plev,vvellv=plv):\n",
    "    tempgpotdict = {'gpot_'+gpotlv[i]:gpotdict['gpot'][:,i] for i in range(gpotdict['gpot'].shape[1])}\n",
    "    temptempdict = {'temp_'+templv[i]:tempdict['temp'][:,i] for i in range(tempdict['temp'].shape[1])}\n",
    "    tempvveldict = {'vvel_'+vvellv[i]:vveldict['vvel'][:,i] for i in range(vveldict['vvel'].shape[1])}   \n",
    "    #dict1 = {**tempvortdict} # change this later\n",
    "    dict2 = {**tempgpotdict}\n",
    "    dict3 = {**temptempdict,**tempvveldict}\n",
    "    #combine1={**dict1,**dict2} # change this later\n",
    "    #alldict = {**combine1,**dict3} # change this later\n",
    "    alldict= {**dict2,**dict3}\n",
    "    return alldict"
   ]
  },
  {
   "cell_type": "code",
   "execution_count": 85,
   "id": "c8aef1b8",
   "metadata": {},
   "outputs": [],
   "source": [
    "def create_pandadict(divdict=None,vordict=None,rhdict=None,gpotdict=None,tempdict=None,vveldict=None,divlv=pilv,vorlv=plev,\\\n",
    "                     rhlev=plev,gpotlv=plev,templv=plev,vvellv=plv):\n",
    "    tempdivdict = {'div_'+divlv[i]:divdict['div'][:,i] for i in range(divdict['div'].shape[1])}\n",
    "    tempvordict = {'vor_'+vorlv[i]:vordict['vor'][:,i] for i in range(vordict['vor'].shape[1])}\n",
    "    temprhdict = {'rh_'+rhlev[i]:rhdict['rhum'][:,i] for i in range(rhdict['rhum'].shape[1])}\n",
    "    tempgpotdict = {'gpot_'+gpotlv[i]:gpotdict['gpot'][:,i] for i in range(gpotdict['gpot'].shape[1])}\n",
    "    temptempdict = {'temp_'+templv[i]:tempdict['temp'][:,i] for i in range(tempdict['temp'].shape[1])}\n",
    "    tempvveldict = {'vvel_'+vvellv[i]:vveldict['vvel'][:,i] for i in range(vveldict['vvel'].shape[1])}   \n",
    "    dict1 = {**tempdivdict,**tempvordict} # change this later\n",
    "    dict2 = {**temprhdict,**tempgpotdict}\n",
    "    dict3 = {**temptempdict,**tempvveldict}\n",
    "    combine1={**dict1,**dict2} # change this later\n",
    "    alldict = {**combine1,**dict3} # change this later\n",
    "    #alldict= {**dict2,**dict3}\n",
    "    return alldict"
   ]
  },
  {
   "cell_type": "code",
   "execution_count": 86,
   "id": "78d9b4e2-268d-4697-953e-acec28a63a50",
   "metadata": {
    "tags": []
   },
   "outputs": [],
   "source": [
    "storeTCdicts = {}\n",
    "for ind in range(len(TCp2_ts)):\n",
    "    storeTCdicts[stormnames[ind]] = pd.DataFrame.from_dict(create_pandadict(divdict=TCd_ts[ind],vordict=TCv_ts[ind],\\\n",
    "                                                                            rhdict=TCrh_ts[ind],gpotdict=TCgp_ts[ind],\\\n",
    "                                                                            tempdict=TCtl_ts[ind],vveldict=TCvv_ts[ind]))"
   ]
  },
  {
   "cell_type": "code",
   "execution_count": 89,
   "id": "ca43c70e",
   "metadata": {},
   "outputs": [],
   "source": [
    "for ind,obj in enumerate(stormnames):\n",
    "    storeTCdicts[obj].to_csv(output+'2001_innerlevs_wpac_'+str(obj)+'.csv')"
   ]
  },
  {
   "cell_type": "code",
   "execution_count": null,
   "id": "bd52c765-3ab0-4c27-8284-a5e0803681e7",
   "metadata": {},
   "outputs": [],
   "source": []
  },
  {
   "cell_type": "code",
   "execution_count": null,
   "id": "5064aa7a",
   "metadata": {},
   "outputs": [],
   "source": []
  },
  {
   "cell_type": "code",
   "execution_count": null,
   "id": "bf97986b",
   "metadata": {},
   "outputs": [],
   "source": []
  },
  {
   "cell_type": "code",
   "execution_count": null,
   "id": "7e043a4f",
   "metadata": {},
   "outputs": [],
   "source": []
  },
  {
   "cell_type": "code",
   "execution_count": 90,
   "id": "23eae186",
   "metadata": {},
   "outputs": [
    {
     "ename": "KeyError",
     "evalue": "'vort'",
     "output_type": "error",
     "traceback": [
      "\u001b[0;31m---------------------------------------------------------------------------\u001b[0m",
      "\u001b[0;31mKeyError\u001b[0m                                  Traceback (most recent call last)",
      "Input \u001b[0;32mIn [90]\u001b[0m, in \u001b[0;36m<module>\u001b[0;34m\u001b[0m\n\u001b[1;32m      1\u001b[0m \u001b[38;5;66;03m#TCp_ts[0]['vort']stands for the vorticity of the first storm and vort again contains 21 pressure levels.\u001b[39;00m\n\u001b[1;32m      2\u001b[0m \u001b[38;5;66;03m#preslv = [str(int(obj)) for obj in dm1.plev.data/100]\u001b[39;00m\n\u001b[0;32m----> 4\u001b[0m tempvortdict \u001b[38;5;241m=\u001b[39m {\u001b[38;5;124m'\u001b[39m\u001b[38;5;124mvort_\u001b[39m\u001b[38;5;124m'\u001b[39m\u001b[38;5;241m+\u001b[39mplev[i]:TCv_ts[\u001b[38;5;241m0\u001b[39m][\u001b[38;5;124m'\u001b[39m\u001b[38;5;124mvort\u001b[39m\u001b[38;5;124m'\u001b[39m][:,i] \u001b[38;5;28;01mfor\u001b[39;00m i \u001b[38;5;129;01min\u001b[39;00m \u001b[38;5;28mrange\u001b[39m(\u001b[38;5;241m21\u001b[39m)} \u001b[38;5;66;03m# add this later\u001b[39;00m\n\u001b[1;32m      5\u001b[0m temprhumdict \u001b[38;5;241m=\u001b[39m {\u001b[38;5;124m'\u001b[39m\u001b[38;5;124mrhum_\u001b[39m\u001b[38;5;124m'\u001b[39m\u001b[38;5;241m+\u001b[39mplev[i]:TCv_ts[\u001b[38;5;241m0\u001b[39m][\u001b[38;5;124m'\u001b[39m\u001b[38;5;124mrhum\u001b[39m\u001b[38;5;124m'\u001b[39m][:,i] \u001b[38;5;28;01mfor\u001b[39;00m i \u001b[38;5;129;01min\u001b[39;00m \u001b[38;5;28mrange\u001b[39m(\u001b[38;5;241m21\u001b[39m)} \u001b[38;5;66;03m# add this later\u001b[39;00m\n\u001b[1;32m      6\u001b[0m temppvordict \u001b[38;5;241m=\u001b[39m {\u001b[38;5;124m'\u001b[39m\u001b[38;5;124mpvor_\u001b[39m\u001b[38;5;124m'\u001b[39m\u001b[38;5;241m+\u001b[39mpreslv[i]:TCp2_ts[\u001b[38;5;241m0\u001b[39m][\u001b[38;5;124m'\u001b[39m\u001b[38;5;124mpvor\u001b[39m\u001b[38;5;124m'\u001b[39m][:,i] \u001b[38;5;28;01mfor\u001b[39;00m i \u001b[38;5;129;01min\u001b[39;00m \u001b[38;5;28mrange\u001b[39m(\u001b[38;5;241m18\u001b[39m)}\n",
      "Input \u001b[0;32mIn [90]\u001b[0m, in \u001b[0;36m<dictcomp>\u001b[0;34m(.0)\u001b[0m\n\u001b[1;32m      1\u001b[0m \u001b[38;5;66;03m#TCp_ts[0]['vort']stands for the vorticity of the first storm and vort again contains 21 pressure levels.\u001b[39;00m\n\u001b[1;32m      2\u001b[0m \u001b[38;5;66;03m#preslv = [str(int(obj)) for obj in dm1.plev.data/100]\u001b[39;00m\n\u001b[0;32m----> 4\u001b[0m tempvortdict \u001b[38;5;241m=\u001b[39m {\u001b[38;5;124m'\u001b[39m\u001b[38;5;124mvort_\u001b[39m\u001b[38;5;124m'\u001b[39m\u001b[38;5;241m+\u001b[39mplev[i]:\u001b[43mTCv_ts\u001b[49m\u001b[43m[\u001b[49m\u001b[38;5;241;43m0\u001b[39;49m\u001b[43m]\u001b[49m\u001b[43m[\u001b[49m\u001b[38;5;124;43m'\u001b[39;49m\u001b[38;5;124;43mvort\u001b[39;49m\u001b[38;5;124;43m'\u001b[39;49m\u001b[43m]\u001b[49m[:,i] \u001b[38;5;28;01mfor\u001b[39;00m i \u001b[38;5;129;01min\u001b[39;00m \u001b[38;5;28mrange\u001b[39m(\u001b[38;5;241m21\u001b[39m)} \u001b[38;5;66;03m# add this later\u001b[39;00m\n\u001b[1;32m      5\u001b[0m temprhumdict \u001b[38;5;241m=\u001b[39m {\u001b[38;5;124m'\u001b[39m\u001b[38;5;124mrhum_\u001b[39m\u001b[38;5;124m'\u001b[39m\u001b[38;5;241m+\u001b[39mplev[i]:TCv_ts[\u001b[38;5;241m0\u001b[39m][\u001b[38;5;124m'\u001b[39m\u001b[38;5;124mrhum\u001b[39m\u001b[38;5;124m'\u001b[39m][:,i] \u001b[38;5;28;01mfor\u001b[39;00m i \u001b[38;5;129;01min\u001b[39;00m \u001b[38;5;28mrange\u001b[39m(\u001b[38;5;241m21\u001b[39m)} \u001b[38;5;66;03m# add this later\u001b[39;00m\n\u001b[1;32m      6\u001b[0m temppvordict \u001b[38;5;241m=\u001b[39m {\u001b[38;5;124m'\u001b[39m\u001b[38;5;124mpvor_\u001b[39m\u001b[38;5;124m'\u001b[39m\u001b[38;5;241m+\u001b[39mpreslv[i]:TCp2_ts[\u001b[38;5;241m0\u001b[39m][\u001b[38;5;124m'\u001b[39m\u001b[38;5;124mpvor\u001b[39m\u001b[38;5;124m'\u001b[39m][:,i] \u001b[38;5;28;01mfor\u001b[39;00m i \u001b[38;5;129;01min\u001b[39;00m \u001b[38;5;28mrange\u001b[39m(\u001b[38;5;241m18\u001b[39m)}\n",
      "\u001b[0;31mKeyError\u001b[0m: 'vort'"
     ]
    }
   ],
   "source": [
    "#TCp_ts[0]['vort']stands for the vorticity of the first storm and vort again contains 21 pressure levels.\n",
    "#preslv = [str(int(obj)) for obj in dm1.plev.data/100]\n",
    "\n",
    "tempvortdict = {'vort_'+plev[i]:TCv_ts[0]['vort'][:,i] for i in range(21)} # add this later\n",
    "temprhumdict = {'rhum_'+plev[i]:TCv_ts[0]['rhum'][:,i] for i in range(21)} # add this later\n",
    "temppvordict = {'pvor_'+preslv[i]:TCp2_ts[0]['pvor'][:,i] for i in range(18)}\n",
    "tempgpotdict = {'gpot_'+plv[i]:TCgp_ts[0]['gpot'][:,i] for i in range(20)}\n",
    "temptempdict = {'temp_'+plev[i]:TCtl_ts[0]['temp'][:,i] for i in range(21)}\n",
    "tempvveldict = {'vvel_'+preslv[i]:TCvv_ts[0]['vvel'][:,i] for i in range(18)}\n",
    "dict1 = {**tempvortdict,**temprhumdict}\n",
    "dict2 = {**temppvordict,**tempgpotdict}\n",
    "dict3 = {**temptempdict,**tempvveldict}\n",
    "combine1={**dict1,**dict2}\n",
    "alldict = {**combine1,**dict3}\n",
    "#pts2020_amphan=pd.DataFrame.from_dict(plvdict)"
   ]
  },
  {
   "cell_type": "code",
   "execution_count": 31,
   "id": "7a18d688",
   "metadata": {},
   "outputs": [],
   "source": [
    "plev_2021=pd.DataFrame.from_dict(alldict)"
   ]
  },
  {
   "cell_type": "code",
   "execution_count": 67,
   "id": "6ce2b27b",
   "metadata": {},
   "outputs": [],
   "source": [
    "ts_gul21=pd.concat([div_21,eqt_21,sl2021,rad2021,pr2021,plev_2021], axis=1, join='inner')"
   ]
  },
  {
   "cell_type": "code",
   "execution_count": 68,
   "id": "b2ddc557",
   "metadata": {},
   "outputs": [
    {
     "data": {
      "text/html": [
       "<div>\n",
       "<style scoped>\n",
       "    .dataframe tbody tr th:only-of-type {\n",
       "        vertical-align: middle;\n",
       "    }\n",
       "\n",
       "    .dataframe tbody tr th {\n",
       "        vertical-align: top;\n",
       "    }\n",
       "\n",
       "    .dataframe thead th {\n",
       "        text-align: right;\n",
       "    }\n",
       "</style>\n",
       "<table border=\"1\" class=\"dataframe\">\n",
       "  <thead>\n",
       "    <tr style=\"text-align: right;\">\n",
       "      <th></th>\n",
       "      <th>div_50</th>\n",
       "      <th>div_100</th>\n",
       "      <th>div_200</th>\n",
       "      <th>div_250</th>\n",
       "      <th>div_300</th>\n",
       "      <th>div_400</th>\n",
       "      <th>div_500</th>\n",
       "      <th>div_600</th>\n",
       "      <th>div_700</th>\n",
       "      <th>div_800</th>\n",
       "      <th>...</th>\n",
       "      <th>vvel_250</th>\n",
       "      <th>vvel_300</th>\n",
       "      <th>vvel_400</th>\n",
       "      <th>vvel_500</th>\n",
       "      <th>vvel_600</th>\n",
       "      <th>vvel_700</th>\n",
       "      <th>vvel_850</th>\n",
       "      <th>vvel_925</th>\n",
       "      <th>vvel_975</th>\n",
       "      <th>vvel_1000</th>\n",
       "    </tr>\n",
       "  </thead>\n",
       "  <tbody>\n",
       "    <tr>\n",
       "      <th>0</th>\n",
       "      <td>-1.470139e-05</td>\n",
       "      <td>-2.004806e-05</td>\n",
       "      <td>0.000018</td>\n",
       "      <td>1.717859e-05</td>\n",
       "      <td>1.207291e-05</td>\n",
       "      <td>8.906121e-06</td>\n",
       "      <td>-1.034816e-06</td>\n",
       "      <td>7.125200e-07</td>\n",
       "      <td>-3.069406e-06</td>\n",
       "      <td>-4.832400e-06</td>\n",
       "      <td>...</td>\n",
       "      <td>-0.179325</td>\n",
       "      <td>-0.259124</td>\n",
       "      <td>-0.360181</td>\n",
       "      <td>-0.382818</td>\n",
       "      <td>-0.385455</td>\n",
       "      <td>-0.363965</td>\n",
       "      <td>-0.295342</td>\n",
       "      <td>-0.182406</td>\n",
       "      <td>-0.074252</td>\n",
       "      <td>-0.017509</td>\n",
       "    </tr>\n",
       "    <tr>\n",
       "      <th>1</th>\n",
       "      <td>-2.488989e-05</td>\n",
       "      <td>-5.881069e-06</td>\n",
       "      <td>0.000022</td>\n",
       "      <td>1.001521e-05</td>\n",
       "      <td>7.239578e-06</td>\n",
       "      <td>-2.546585e-06</td>\n",
       "      <td>2.435117e-06</td>\n",
       "      <td>-5.611917e-06</td>\n",
       "      <td>-5.518668e-07</td>\n",
       "      <td>-1.899782e-06</td>\n",
       "      <td>...</td>\n",
       "      <td>-0.201773</td>\n",
       "      <td>-0.238356</td>\n",
       "      <td>-0.244928</td>\n",
       "      <td>-0.229633</td>\n",
       "      <td>-0.239007</td>\n",
       "      <td>-0.181803</td>\n",
       "      <td>-0.169252</td>\n",
       "      <td>-0.119534</td>\n",
       "      <td>-0.056306</td>\n",
       "      <td>-0.018626</td>\n",
       "    </tr>\n",
       "    <tr>\n",
       "      <th>2</th>\n",
       "      <td>-5.774957e-06</td>\n",
       "      <td>-1.693203e-06</td>\n",
       "      <td>0.000016</td>\n",
       "      <td>3.927038e-06</td>\n",
       "      <td>-8.301693e-06</td>\n",
       "      <td>-1.514552e-05</td>\n",
       "      <td>-1.117820e-06</td>\n",
       "      <td>2.739776e-06</td>\n",
       "      <td>-5.193695e-06</td>\n",
       "      <td>6.410002e-06</td>\n",
       "      <td>...</td>\n",
       "      <td>-0.151920</td>\n",
       "      <td>-0.137368</td>\n",
       "      <td>-0.016568</td>\n",
       "      <td>0.070683</td>\n",
       "      <td>0.044295</td>\n",
       "      <td>0.076153</td>\n",
       "      <td>0.026839</td>\n",
       "      <td>-0.005580</td>\n",
       "      <td>0.007360</td>\n",
       "      <td>0.018210</td>\n",
       "    </tr>\n",
       "    <tr>\n",
       "      <th>3</th>\n",
       "      <td>-4.540430e-06</td>\n",
       "      <td>5.546259e-06</td>\n",
       "      <td>0.000010</td>\n",
       "      <td>9.460666e-06</td>\n",
       "      <td>-8.159375e-06</td>\n",
       "      <td>-6.259594e-06</td>\n",
       "      <td>-4.779082e-06</td>\n",
       "      <td>1.751061e-06</td>\n",
       "      <td>-1.289300e-07</td>\n",
       "      <td>5.345559e-06</td>\n",
       "      <td>...</td>\n",
       "      <td>-0.156391</td>\n",
       "      <td>-0.158884</td>\n",
       "      <td>-0.086677</td>\n",
       "      <td>-0.047792</td>\n",
       "      <td>-0.028524</td>\n",
       "      <td>-0.031328</td>\n",
       "      <td>-0.089968</td>\n",
       "      <td>-0.073317</td>\n",
       "      <td>-0.020160</td>\n",
       "      <td>0.013664</td>\n",
       "    </tr>\n",
       "    <tr>\n",
       "      <th>4</th>\n",
       "      <td>1.277926e-05</td>\n",
       "      <td>2.870103e-06</td>\n",
       "      <td>0.000009</td>\n",
       "      <td>5.408539e-06</td>\n",
       "      <td>-6.243528e-06</td>\n",
       "      <td>6.831135e-06</td>\n",
       "      <td>1.678709e-07</td>\n",
       "      <td>1.325330e-06</td>\n",
       "      <td>7.220078e-07</td>\n",
       "      <td>1.140637e-06</td>\n",
       "      <td>...</td>\n",
       "      <td>-0.165562</td>\n",
       "      <td>-0.165935</td>\n",
       "      <td>-0.179049</td>\n",
       "      <td>-0.213646</td>\n",
       "      <td>-0.220336</td>\n",
       "      <td>-0.232739</td>\n",
       "      <td>-0.245793</td>\n",
       "      <td>-0.176871</td>\n",
       "      <td>-0.078091</td>\n",
       "      <td>-0.024020</td>\n",
       "    </tr>\n",
       "    <tr>\n",
       "      <th>...</th>\n",
       "      <td>...</td>\n",
       "      <td>...</td>\n",
       "      <td>...</td>\n",
       "      <td>...</td>\n",
       "      <td>...</td>\n",
       "      <td>...</td>\n",
       "      <td>...</td>\n",
       "      <td>...</td>\n",
       "      <td>...</td>\n",
       "      <td>...</td>\n",
       "      <td>...</td>\n",
       "      <td>...</td>\n",
       "      <td>...</td>\n",
       "      <td>...</td>\n",
       "      <td>...</td>\n",
       "      <td>...</td>\n",
       "      <td>...</td>\n",
       "      <td>...</td>\n",
       "      <td>...</td>\n",
       "      <td>...</td>\n",
       "      <td>...</td>\n",
       "    </tr>\n",
       "    <tr>\n",
       "      <th>76</th>\n",
       "      <td>-3.872090e-06</td>\n",
       "      <td>-4.878500e-06</td>\n",
       "      <td>0.000037</td>\n",
       "      <td>4.795962e-06</td>\n",
       "      <td>8.417992e-07</td>\n",
       "      <td>4.533329e-06</td>\n",
       "      <td>-4.068715e-07</td>\n",
       "      <td>-1.222652e-05</td>\n",
       "      <td>-2.529082e-05</td>\n",
       "      <td>-1.379685e-05</td>\n",
       "      <td>...</td>\n",
       "      <td>-0.332974</td>\n",
       "      <td>-0.345632</td>\n",
       "      <td>-0.376871</td>\n",
       "      <td>-0.417450</td>\n",
       "      <td>-0.363439</td>\n",
       "      <td>-0.170226</td>\n",
       "      <td>0.073287</td>\n",
       "      <td>0.059968</td>\n",
       "      <td>0.022831</td>\n",
       "      <td>0.031646</td>\n",
       "    </tr>\n",
       "    <tr>\n",
       "      <th>77</th>\n",
       "      <td>1.046498e-05</td>\n",
       "      <td>-6.112386e-07</td>\n",
       "      <td>0.000041</td>\n",
       "      <td>8.770730e-07</td>\n",
       "      <td>-3.539375e-06</td>\n",
       "      <td>3.801601e-06</td>\n",
       "      <td>-2.524524e-06</td>\n",
       "      <td>-1.678348e-05</td>\n",
       "      <td>-3.209530e-05</td>\n",
       "      <td>-1.239870e-05</td>\n",
       "      <td>...</td>\n",
       "      <td>-0.463555</td>\n",
       "      <td>-0.455450</td>\n",
       "      <td>-0.437432</td>\n",
       "      <td>-0.476495</td>\n",
       "      <td>-0.402014</td>\n",
       "      <td>-0.120978</td>\n",
       "      <td>0.123721</td>\n",
       "      <td>0.091201</td>\n",
       "      <td>0.027067</td>\n",
       "      <td>0.026226</td>\n",
       "    </tr>\n",
       "    <tr>\n",
       "      <th>78</th>\n",
       "      <td>-3.096648e-07</td>\n",
       "      <td>-5.463196e-06</td>\n",
       "      <td>0.000052</td>\n",
       "      <td>1.734338e-05</td>\n",
       "      <td>-3.813999e-06</td>\n",
       "      <td>3.948808e-06</td>\n",
       "      <td>-9.298674e-06</td>\n",
       "      <td>-3.250362e-05</td>\n",
       "      <td>-2.863479e-05</td>\n",
       "      <td>-9.745010e-06</td>\n",
       "      <td>...</td>\n",
       "      <td>-0.633262</td>\n",
       "      <td>-0.663047</td>\n",
       "      <td>-0.619403</td>\n",
       "      <td>-0.636304</td>\n",
       "      <td>-0.430235</td>\n",
       "      <td>-0.075319</td>\n",
       "      <td>0.126537</td>\n",
       "      <td>0.079193</td>\n",
       "      <td>0.016556</td>\n",
       "      <td>0.001574</td>\n",
       "    </tr>\n",
       "    <tr>\n",
       "      <th>79</th>\n",
       "      <td>3.144261e-06</td>\n",
       "      <td>-1.742784e-05</td>\n",
       "      <td>0.000044</td>\n",
       "      <td>1.299020e-05</td>\n",
       "      <td>-1.123449e-05</td>\n",
       "      <td>-4.185305e-06</td>\n",
       "      <td>-1.553120e-05</td>\n",
       "      <td>-2.349971e-05</td>\n",
       "      <td>-1.744000e-05</td>\n",
       "      <td>4.005851e-07</td>\n",
       "      <td>...</td>\n",
       "      <td>-0.388316</td>\n",
       "      <td>-0.391463</td>\n",
       "      <td>-0.256868</td>\n",
       "      <td>-0.165840</td>\n",
       "      <td>0.070560</td>\n",
       "      <td>0.315451</td>\n",
       "      <td>0.356788</td>\n",
       "      <td>0.221411</td>\n",
       "      <td>0.084055</td>\n",
       "      <td>0.041359</td>\n",
       "    </tr>\n",
       "    <tr>\n",
       "      <th>80</th>\n",
       "      <td>-3.384193e-07</td>\n",
       "      <td>-8.378294e-06</td>\n",
       "      <td>0.000032</td>\n",
       "      <td>6.530317e-06</td>\n",
       "      <td>-8.087722e-06</td>\n",
       "      <td>7.246272e-07</td>\n",
       "      <td>-1.445104e-05</td>\n",
       "      <td>-2.099917e-05</td>\n",
       "      <td>-1.772260e-05</td>\n",
       "      <td>5.969312e-06</td>\n",
       "      <td>...</td>\n",
       "      <td>-0.188751</td>\n",
       "      <td>-0.189928</td>\n",
       "      <td>-0.124838</td>\n",
       "      <td>-0.054407</td>\n",
       "      <td>0.154492</td>\n",
       "      <td>0.347481</td>\n",
       "      <td>0.344084</td>\n",
       "      <td>0.203439</td>\n",
       "      <td>0.065261</td>\n",
       "      <td>0.019004</td>\n",
       "    </tr>\n",
       "  </tbody>\n",
       "</table>\n",
       "<p>81 rows × 190 columns</p>\n",
       "</div>"
      ],
      "text/plain": [
       "          div_50       div_100   div_200       div_250       div_300  \\\n",
       "0  -1.470139e-05 -2.004806e-05  0.000018  1.717859e-05  1.207291e-05   \n",
       "1  -2.488989e-05 -5.881069e-06  0.000022  1.001521e-05  7.239578e-06   \n",
       "2  -5.774957e-06 -1.693203e-06  0.000016  3.927038e-06 -8.301693e-06   \n",
       "3  -4.540430e-06  5.546259e-06  0.000010  9.460666e-06 -8.159375e-06   \n",
       "4   1.277926e-05  2.870103e-06  0.000009  5.408539e-06 -6.243528e-06   \n",
       "..           ...           ...       ...           ...           ...   \n",
       "76 -3.872090e-06 -4.878500e-06  0.000037  4.795962e-06  8.417992e-07   \n",
       "77  1.046498e-05 -6.112386e-07  0.000041  8.770730e-07 -3.539375e-06   \n",
       "78 -3.096648e-07 -5.463196e-06  0.000052  1.734338e-05 -3.813999e-06   \n",
       "79  3.144261e-06 -1.742784e-05  0.000044  1.299020e-05 -1.123449e-05   \n",
       "80 -3.384193e-07 -8.378294e-06  0.000032  6.530317e-06 -8.087722e-06   \n",
       "\n",
       "         div_400       div_500       div_600       div_700       div_800  ...  \\\n",
       "0   8.906121e-06 -1.034816e-06  7.125200e-07 -3.069406e-06 -4.832400e-06  ...   \n",
       "1  -2.546585e-06  2.435117e-06 -5.611917e-06 -5.518668e-07 -1.899782e-06  ...   \n",
       "2  -1.514552e-05 -1.117820e-06  2.739776e-06 -5.193695e-06  6.410002e-06  ...   \n",
       "3  -6.259594e-06 -4.779082e-06  1.751061e-06 -1.289300e-07  5.345559e-06  ...   \n",
       "4   6.831135e-06  1.678709e-07  1.325330e-06  7.220078e-07  1.140637e-06  ...   \n",
       "..           ...           ...           ...           ...           ...  ...   \n",
       "76  4.533329e-06 -4.068715e-07 -1.222652e-05 -2.529082e-05 -1.379685e-05  ...   \n",
       "77  3.801601e-06 -2.524524e-06 -1.678348e-05 -3.209530e-05 -1.239870e-05  ...   \n",
       "78  3.948808e-06 -9.298674e-06 -3.250362e-05 -2.863479e-05 -9.745010e-06  ...   \n",
       "79 -4.185305e-06 -1.553120e-05 -2.349971e-05 -1.744000e-05  4.005851e-07  ...   \n",
       "80  7.246272e-07 -1.445104e-05 -2.099917e-05 -1.772260e-05  5.969312e-06  ...   \n",
       "\n",
       "    vvel_250  vvel_300  vvel_400  vvel_500  vvel_600  vvel_700  vvel_850  \\\n",
       "0  -0.179325 -0.259124 -0.360181 -0.382818 -0.385455 -0.363965 -0.295342   \n",
       "1  -0.201773 -0.238356 -0.244928 -0.229633 -0.239007 -0.181803 -0.169252   \n",
       "2  -0.151920 -0.137368 -0.016568  0.070683  0.044295  0.076153  0.026839   \n",
       "3  -0.156391 -0.158884 -0.086677 -0.047792 -0.028524 -0.031328 -0.089968   \n",
       "4  -0.165562 -0.165935 -0.179049 -0.213646 -0.220336 -0.232739 -0.245793   \n",
       "..       ...       ...       ...       ...       ...       ...       ...   \n",
       "76 -0.332974 -0.345632 -0.376871 -0.417450 -0.363439 -0.170226  0.073287   \n",
       "77 -0.463555 -0.455450 -0.437432 -0.476495 -0.402014 -0.120978  0.123721   \n",
       "78 -0.633262 -0.663047 -0.619403 -0.636304 -0.430235 -0.075319  0.126537   \n",
       "79 -0.388316 -0.391463 -0.256868 -0.165840  0.070560  0.315451  0.356788   \n",
       "80 -0.188751 -0.189928 -0.124838 -0.054407  0.154492  0.347481  0.344084   \n",
       "\n",
       "    vvel_925  vvel_975  vvel_1000  \n",
       "0  -0.182406 -0.074252  -0.017509  \n",
       "1  -0.119534 -0.056306  -0.018626  \n",
       "2  -0.005580  0.007360   0.018210  \n",
       "3  -0.073317 -0.020160   0.013664  \n",
       "4  -0.176871 -0.078091  -0.024020  \n",
       "..       ...       ...        ...  \n",
       "76  0.059968  0.022831   0.031646  \n",
       "77  0.091201  0.027067   0.026226  \n",
       "78  0.079193  0.016556   0.001574  \n",
       "79  0.221411  0.084055   0.041359  \n",
       "80  0.203439  0.065261   0.019004  \n",
       "\n",
       "[81 rows x 190 columns]"
      ]
     },
     "execution_count": 68,
     "metadata": {},
     "output_type": "execute_result"
    }
   ],
   "source": [
    "ts_gul21"
   ]
  },
  {
   "cell_type": "code",
   "execution_count": 69,
   "id": "1b105ed6",
   "metadata": {},
   "outputs": [],
   "source": [
    "ts_gul21.to_csv(output+'inner/inner_nio_20210924.csv')"
   ]
  },
  {
   "cell_type": "code",
   "execution_count": 56,
   "id": "2a03cbaa",
   "metadata": {},
   "outputs": [],
   "source": []
  },
  {
   "cell_type": "code",
   "execution_count": null,
   "id": "4f636a33",
   "metadata": {},
   "outputs": [],
   "source": []
  }
 ],
 "metadata": {
  "kernelspec": {
   "display_name": "Python 3 (ipykernel)",
   "language": "python",
   "name": "python3"
  },
  "language_info": {
   "codemirror_mode": {
    "name": "ipython",
    "version": 3
   },
   "file_extension": ".py",
   "mimetype": "text/x-python",
   "name": "python",
   "nbconvert_exporter": "python",
   "pygments_lexer": "ipython3",
   "version": "3.8.12"
  }
 },
 "nbformat": 4,
 "nbformat_minor": 5
}
