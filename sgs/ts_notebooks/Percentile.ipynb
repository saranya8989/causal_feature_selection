{
 "cells": [
  {
   "cell_type": "code",
   "execution_count": 2,
   "id": "5eeb0ba7",
   "metadata": {},
   "outputs": [],
   "source": [
    "import numpy as np\n",
    "from xgrads import CtlDescriptor\n",
    "from xgrads import open_CtlDataset\n",
    "import xarray as xr\n",
    "from matplotlib import pyplot as plt\n",
    "%matplotlib inline"
   ]
  },
  {
   "cell_type": "code",
   "execution_count": 3,
   "id": "66953b5d",
   "metadata": {},
   "outputs": [
    {
     "name": "stdout",
     "output_type": "stream",
     "text": [
      "annularsh_ERA5_2017.ctl     kotal_final_ERA5_2017.ctl\n",
      "annularsh_ERA5_2017.dat     kotal_final_ERA5_2017.dat\n",
      "gpi_pars_ERA5_2017.ctl\t    kotal_index_2017_1122_ens.bin\n",
      "gpi_pars_ERA5_2017.dat\t    kotal_index_2017_1122_ens.ctl\n",
      "igpp_ERA5_2017.ctl\t    kotal_index_2017_1129_ens.bin\n",
      "igpp_ERA5_2017.dat\t    kotal_index_2017_1129_ens.ctl\n",
      "igpp_imd_2017_1122_ens.bin  kotal_vars_ERA5_2017.ctl\n",
      "igpp_imd_2017_1122_ens.ctl  kotal_vars_ERA5_2017.dat\n",
      "igpp_imd_2017_1129_ens.bin  newgpi_variables_2017.ctl\n",
      "igpp_imd_2017_1129_ens.ctl  newgpi_variables_2017.dat\n",
      "igpp_imd_2017_1206_ens.bin  Percentile.ipynb\n",
      "igpp_imd_2017_1206_ens.ctl\n",
      "/media/saranya/DAEA17D6EA17ADAF/Data/Data_Aaditya/jupyter\n"
     ]
    }
   ],
   "source": [
    "!ls\n",
    "!pwd"
   ]
  },
  {
   "cell_type": "code",
   "execution_count": 5,
   "id": "4e4083bb",
   "metadata": {},
   "outputs": [],
   "source": [
    "path='/media/saranya/DAEA17D6EA17ADAF/Data/Data_Aaditya/jupyter/'\n",
    "d_igpp = open_CtlDataset(path+'igpp_ERA5_2017.ctl')\n",
    "d_kgpp = open_CtlDataset(path+'kotal_final_ERA5_2017.ctl')\n",
    "ic1_igpp = open_CtlDataset(path+'igpp_imd_2017_1122_ens.ctl')\n",
    "ic2_igpp = open_CtlDataset(path+'igpp_imd_2017_1129_ens.ctl')\n",
    "ic1_kgpp = open_CtlDataset(path+'kotal_index_2017_1122_ens.ctl')\n",
    "ic2_kgpp = open_CtlDataset(path+'kotal_index_2017_1129_ens.ctl')"
   ]
  },
  {
   "cell_type": "code",
   "execution_count": 6,
   "id": "ff7a1d92",
   "metadata": {},
   "outputs": [
    {
     "name": "stdout",
     "output_type": "stream",
     "text": [
      "<xarray.Dataset>\n",
      "Dimensions:  (time: 365, lat: 181, lon: 360)\n",
      "Coordinates:\n",
      "  * time     (time) datetime64[ns] 2017-01-01T18:00:00 ... 2017-12-31T18:00:00\n",
      "  * lat      (lat) float32 -90.0 -89.0 -88.0 -87.0 -86.0 ... 87.0 88.0 89.0 90.0\n",
      "  * lon      (lon) float32 0.0 1.0 2.0 3.0 4.0 ... 355.0 356.0 357.0 358.0 359.0\n",
      "Data variables:\n",
      "    kot      (time, lat, lon) float32 dask.array<chunksize=(1, 181, 360), meta=np.ndarray>\n",
      "Attributes:\n",
      "    comment:  kot\n",
      "    storage:  99\n",
      "    title:    \n",
      "    undef:    -9999.0\n",
      "    pdef:     None\n"
     ]
    }
   ],
   "source": [
    "print(d_igpp)"
   ]
  },
  {
   "cell_type": "code",
   "execution_count": 5,
   "id": "47a69e84",
   "metadata": {},
   "outputs": [
    {
     "name": "stdout",
     "output_type": "stream",
     "text": [
      "<xarray.Dataset>\n",
      "Dimensions:  (time: 32, lat: 181, lon: 360)\n",
      "Coordinates:\n",
      "  * time     (time) datetime64[ns] 2017-11-23 2017-11-24 ... 2017-12-24\n",
      "  * lat      (lat) float32 -90.0 -89.0 -88.0 -87.0 -86.0 ... 87.0 88.0 89.0 90.0\n",
      "  * lon      (lon) float32 0.0 1.0 2.0 3.0 4.0 ... 355.0 356.0 357.0 358.0 359.0\n",
      "Data variables:\n",
      "    kot      (time, lat, lon) float32 dask.array<chunksize=(32, 181, 360), meta=np.ndarray>\n",
      "Attributes:\n",
      "    comment:  kot\n",
      "    storage:  99\n",
      "    title:    \n",
      "    undef:    -9999.0\n",
      "    pdef:     None\n"
     ]
    }
   ],
   "source": [
    "print(ic1_igpp)"
   ]
  },
  {
   "cell_type": "code",
   "execution_count": 7,
   "id": "47a4d8eb",
   "metadata": {},
   "outputs": [
    {
     "data": {
      "text/plain": [
       "<matplotlib.collections.QuadMesh at 0x7f266c7dcf40>"
      ]
     },
     "execution_count": 7,
     "metadata": {},
     "output_type": "execute_result"
    },
    {
     "data": {
      "image/png": "[encoded data removed]",
      "text/plain": [
       "<Figure size 432x288 with 2 Axes>"
      ]
     },
     "metadata": {
      "needs_background": "light"
     },
     "output_type": "display_data"
    }
   ],
   "source": [
    "(d_igpp.kot[338,91:116,35:100]).plot()"
   ]
  },
  {
   "cell_type": "code",
   "execution_count": 8,
   "id": "f39b61a2",
   "metadata": {},
   "outputs": [
    {
     "data": {
      "text/plain": [
       "<matplotlib.collections.QuadMesh at 0x7f2667eb17c0>"
      ]
     },
     "execution_count": 8,
     "metadata": {},
     "output_type": "execute_result"
    },
    {
     "data": {
      "image/png": "[encoded data removed]",
      "text/plain": [
       "<Figure size 432x288 with 2 Axes>"
      ]
     },
     "metadata": {
      "needs_background": "light"
     },
     "output_type": "display_data"
    }
   ],
   "source": [
    "(d_kgpp.kot[338,91:116,35:100]).plot()"
   ]
  },
  {
   "cell_type": "code",
   "execution_count": 10,
   "id": "2dce444b",
   "metadata": {},
   "outputs": [],
   "source": [
    "d_kot=d_kgpp.kot\n",
    "ic1_kot=ic1_kgpp.kot*100000\n",
    "ic2_kot=ic2_kgpp.kot*100000"
   ]
  },
  {
   "cell_type": "code",
   "execution_count": 12,
   "id": "0809b6d6",
   "metadata": {},
   "outputs": [
    {
     "data": {
      "text/plain": [
       "<matplotlib.collections.QuadMesh at 0x7f2667d23be0>"
      ]
     },
     "execution_count": 12,
     "metadata": {},
     "output_type": "execute_result"
    },
    {
     "data": {
      "image/png": "[encoded data removed]",
      "text/plain": [
       "<Figure size 432x288 with 2 Axes>"
      ]
     },
     "metadata": {
      "needs_background": "light"
     },
     "output_type": "display_data"
    }
   ],
   "source": [
    "(d_kot[343,91:116,35:100]).plot()"
   ]
  },
  {
   "cell_type": "code",
   "execution_count": 10,
   "id": "8705f376",
   "metadata": {},
   "outputs": [
    {
     "data": {
      "text/plain": [
       "<matplotlib.collections.QuadMesh at 0x7f21ddc0d670>"
      ]
     },
     "execution_count": 10,
     "metadata": {},
     "output_type": "execute_result"
    },
    {
     "data": {
      "image/png": "[encoded data removed]",
      "text/plain": [
       "<Figure size 432x288 with 2 Axes>"
      ]
     },
     "metadata": {
      "needs_background": "light"
     },
     "output_type": "display_data"
    }
   ],
   "source": [
    "(ic2_igpp.kot[6,91:116,35:100]).plot()"
   ]
  },
  {
   "cell_type": "code",
   "execution_count": 11,
   "id": "6593b41f",
   "metadata": {},
   "outputs": [
    {
     "data": {
      "text/plain": [
       "<matplotlib.collections.QuadMesh at 0x7f21ddb49a90>"
      ]
     },
     "execution_count": 11,
     "metadata": {},
     "output_type": "execute_result"
    },
    {
     "data": {
      "image/png": "[encoded data removed]",
      "text/plain": [
       "<Figure size 432x288 with 2 Axes>"
      ]
     },
     "metadata": {
      "needs_background": "light"
     },
     "output_type": "display_data"
    }
   ],
   "source": [
    "(ic1_igpp.kot[7,91:116,35:100]).plot()"
   ]
  },
  {
   "cell_type": "code",
   "execution_count": 12,
   "id": "a3e6c8d8",
   "metadata": {},
   "outputs": [
    {
     "data": {
      "text/plain": [
       "<matplotlib.collections.QuadMesh at 0x7f21dda7b4f0>"
      ]
     },
     "execution_count": 12,
     "metadata": {},
     "output_type": "execute_result"
    },
    {
     "data": {
      "image/png": "[encoded data removed]",
      "text/plain": [
       "<Figure size 432x288 with 2 Axes>"
      ]
     },
     "metadata": {
      "needs_background": "light"
     },
     "output_type": "display_data"
    }
   ],
   "source": [
    "(ic1_kot[7,91:116,35:100]).plot()"
   ]
  },
  {
   "cell_type": "code",
   "execution_count": 13,
   "id": "e52669fa",
   "metadata": {},
   "outputs": [
    {
     "data": {
      "text/plain": [
       "<matplotlib.collections.QuadMesh at 0x7f21dd9aea00>"
      ]
     },
     "execution_count": 13,
     "metadata": {},
     "output_type": "execute_result"
    },
    {
     "data": {
      "image/png": "[encoded data removed]",
      "text/plain": [
       "<Figure size 432x288 with 2 Axes>"
      ]
     },
     "metadata": {
      "needs_background": "light"
     },
     "output_type": "display_data"
    }
   ],
   "source": [
    "(ic2_kot[0,91:116,35:100]).plot()"
   ]
  },
  {
   "cell_type": "code",
   "execution_count": 30,
   "id": "86b5d5df",
   "metadata": {},
   "outputs": [],
   "source": [
    "tc_igpp=d_igpp.kot[331:338,91:116,35:80]\n",
    "tc_kgpp=d_kot[331:338,91:116,35:80]"
   ]
  },
  {
   "cell_type": "code",
   "execution_count": 15,
   "id": "7f928a85",
   "metadata": {},
   "outputs": [
    {
     "data": {
      "text/plain": [
       "(array([1.1018e+04, 1.9700e+02, 8.0000e+01, 3.2000e+01, 2.2000e+01,\n",
       "        9.0000e+00, 6.0000e+00, 4.0000e+00, 5.0000e+00, 2.0000e+00]),\n",
       " array([ 0.      ,  9.390093, 18.780186, 28.17028 , 37.56037 , 46.950466,\n",
       "        56.34056 , 65.73065 , 75.12074 , 84.51084 , 93.90093 ],\n",
       "       dtype=float32),\n",
       " <BarContainer object of 10 artists>)"
      ]
     },
     "execution_count": 15,
     "metadata": {},
     "output_type": "execute_result"
    },
    {
     "data": {
      "image/png": "[encoded data removed]",
      "text/plain": [
       "<Figure size 432x288 with 1 Axes>"
      ]
     },
     "metadata": {
      "needs_background": "light"
     },
     "output_type": "display_data"
    }
   ],
   "source": [
    "tc_igpp.plot()"
   ]
  },
  {
   "cell_type": "code",
   "execution_count": 16,
   "id": "11f66840",
   "metadata": {},
   "outputs": [
    {
     "data": {
      "text/plain": [
       "(array([1.1348e+04, 1.9000e+01, 4.0000e+00, 1.0000e+00, 0.0000e+00,\n",
       "        0.0000e+00, 0.0000e+00, 1.0000e+00, 1.0000e+00, 1.0000e+00]),\n",
       " array([  0.      ,  56.399208, 112.798416, 169.19762 , 225.59683 ,\n",
       "        281.99603 , 338.39523 , 394.79443 , 451.19366 , 507.59286 ,\n",
       "        563.99207 ], dtype=float32),\n",
       " <BarContainer object of 10 artists>)"
      ]
     },
     "execution_count": 16,
     "metadata": {},
     "output_type": "execute_result"
    },
    {
     "data": {
      "image/png": "[encoded data removed]",
      "text/plain": [
       "<Figure size 432x288 with 1 Axes>"
      ]
     },
     "metadata": {
      "needs_background": "light"
     },
     "output_type": "display_data"
    }
   ],
   "source": [
    "tc_kgpp.plot() "
   ]
  },
  {
   "cell_type": "code",
   "execution_count": 29,
   "id": "d536abd0",
   "metadata": {},
   "outputs": [],
   "source": [
    "igpp_nearic=(ic2_igpp.kot[0:7,91:116,35:80])\n",
    "igpp_faric=(ic1_igpp.kot[7:14,91:116,35:80])\n",
    "\n",
    "kgpp_nearic=(ic2_kot[0:7,91:116,35:80])\n",
    "kgpp_faric=(ic1_kot[7:14,91:116,35:80])"
   ]
  },
  {
   "cell_type": "code",
   "execution_count": 18,
   "id": "223fb068",
   "metadata": {},
   "outputs": [
    {
     "data": {
      "text/plain": [
       "(7, 25, 65)"
      ]
     },
     "execution_count": 18,
     "metadata": {},
     "output_type": "execute_result"
    }
   ],
   "source": [
    "kgpp_nearic.shape"
   ]
  },
  {
   "cell_type": "code",
   "execution_count": 19,
   "id": "7a681a7e",
   "metadata": {},
   "outputs": [
    {
     "data": {
      "text/plain": [
       "(7, 25, 65)"
      ]
     },
     "execution_count": 19,
     "metadata": {},
     "output_type": "execute_result"
    }
   ],
   "source": [
    "kgpp_faric.shape"
   ]
  },
  {
   "cell_type": "code",
   "execution_count": 20,
   "id": "35169b7d",
   "metadata": {},
   "outputs": [
    {
     "data": {
      "text/plain": [
       "(7, 25, 65)"
      ]
     },
     "execution_count": 20,
     "metadata": {},
     "output_type": "execute_result"
    }
   ],
   "source": [
    "tc_kgpp.shape"
   ]
  },
  {
   "cell_type": "code",
   "execution_count": 21,
   "id": "1b5cd8d0",
   "metadata": {},
   "outputs": [
    {
     "data": {
      "text/plain": [
       "(7, 25, 65)"
      ]
     },
     "execution_count": 21,
     "metadata": {},
     "output_type": "execute_result"
    }
   ],
   "source": [
    "igpp_faric.shape"
   ]
  },
  {
   "cell_type": "code",
   "execution_count": 31,
   "id": "1d1060b0",
   "metadata": {},
   "outputs": [],
   "source": [
    "igpp=tc_igpp.values.flatten('F')\n",
    "kgpp=tc_kgpp.values.flatten('F')\n",
    "igpp_far=igpp_faric.values.flatten('F')\n",
    "igpp_nr=igpp_nearic.values.flatten('F')\n",
    "kgpp_far=kgpp_faric.values.flatten('F')\n",
    "kgpp_nr=kgpp_nearic.values.flatten('F')"
   ]
  },
  {
   "cell_type": "code",
   "execution_count": 32,
   "id": "ab87d21f",
   "metadata": {},
   "outputs": [],
   "source": [
    "igpp0=tc_igpp.values.flatten('F')\n",
    "kgpp0=tc_kgpp.values.flatten('F')\n",
    "igpp_far0=igpp_faric.values.flatten('F')\n",
    "igpp_nr0=igpp_nearic.values.flatten('F')\n",
    "kgpp_far0=kgpp_faric.values.flatten('F')\n",
    "kgpp_nr0=kgpp_nearic.values.flatten('F')"
   ]
  },
  {
   "cell_type": "code",
   "execution_count": 33,
   "id": "889ceeba",
   "metadata": {},
   "outputs": [],
   "source": [
    "igpp=igpp.astype('float')\n",
    "igpp[igpp == 0] = 'nan'\n",
    "\n",
    "igpp_far=igpp_far.astype('float')\n",
    "igpp_far[igpp_far == 0]= 'nan'\n",
    "\n",
    "igpp_nr=igpp_nr.astype('float')\n",
    "igpp_nr[igpp_nr== 0]= 'nan'\n",
    "\n",
    "\n",
    "kgpp=kgpp.astype('float')\n",
    "kgpp[kgpp == 0] = 'nan'\n",
    "\n",
    "kgpp_far=kgpp_far.astype('float')\n",
    "kgpp_far[kgpp_far == 0] = 'nan'\n",
    "\n",
    "kgpp_nr=kgpp_nr.astype('float')\n",
    "kgpp_nr[kgpp_nr == 0] = 'nan'"
   ]
  },
  {
   "cell_type": "code",
   "execution_count": 53,
   "id": "04464f76",
   "metadata": {},
   "outputs": [
    {
     "name": "stdout",
     "output_type": "stream",
     "text": [
      "99th percentile of new_gpp :  36.72482185363767\n",
      "99th percentile of old_gpp :  29.733725833892798\n"
     ]
    }
   ],
   "source": [
    "print(\"97th percentile of new_gpp : \",\n",
    "       np.nanpercentile(igpp, 97))\n",
    "\n",
    "print(\"99th percentile of old_gpp : \",\n",
    "       np.nanpercentile(kgpp, 97))"
   ]
  },
  {
   "cell_type": "code",
   "execution_count": 52,
   "id": "3d96c158",
   "metadata": {},
   "outputs": [
    {
     "name": "stdout",
     "output_type": "stream",
     "text": [
      "99th percentile of new_gpp nearest initial condition:  10.079022369384766\n",
      "99th percentile of new_gpp far initial condition:  6.63763972282409\n"
     ]
    }
   ],
   "source": [
    "print(\"99th percentile of new_gpp nearest initial condition: \",\n",
    "       np.nanpercentile(igpp_nr, 97))\n",
    "print(\"99th percentile of new_gpp far initial condition: \",\n",
    "       np.nanpercentile(igpp_far, 97))"
   ]
  },
  {
   "cell_type": "code",
   "execution_count": 51,
   "id": "39461076",
   "metadata": {},
   "outputs": [
    {
     "name": "stdout",
     "output_type": "stream",
     "text": [
      "99th percentile of old_gpp nearest inital condition :  11.180382862221421\n",
      "99th percentile of old_gpp far inital condition :  9.128175144724072\n"
     ]
    }
   ],
   "source": [
    "print(\"99th percentile of old_gpp nearest inital condition : \",\n",
    "       np.nanpercentile(kgpp_nr, 97))\n",
    "print(\"99th percentile of old_gpp far inital condition : \",\n",
    "       np.nanpercentile(kgpp_far, 97))"
   ]
  },
  {
   "cell_type": "code",
   "execution_count": 37,
   "id": "f87e1775",
   "metadata": {},
   "outputs": [
    {
     "name": "stdout",
     "output_type": "stream",
     "text": [
      "99th percentile of new_gpp :  19.062889251709016\n",
      "99th percentile of new_gpp nearest initial condition:  10.365118026733406\n",
      "99th percentile of new_gpp far initial condition:  7.630465507507325\n",
      "99th percentile of old_gpp :  16.506877098083518\n",
      "99th percentile of old_gpp nearest inital condition :  11.393699096515785\n",
      "99th percentile of old_gpp far inital condition :  11.743644121452256\n"
     ]
    }
   ],
   "source": [
    "print(\"99th percentile of new_gpp : \",\n",
    "       np.percentile(igpp0, 99))\n",
    "print(\"99th percentile of new_gpp nearest initial condition: \",\n",
    "       np.percentile(igpp_nr0, 99))\n",
    "print(\"99th percentile of new_gpp far initial condition: \",\n",
    "       np.percentile(igpp_far0, 99))\n",
    "print(\"99th percentile of old_gpp : \",\n",
    "       np.percentile(kgpp0, 99))\n",
    "print(\"99th percentile of old_gpp nearest inital condition : \",\n",
    "       np.percentile(kgpp_nr0, 99))\n",
    "print(\"99th percentile of old_gpp far inital condition : \",\n",
    "       np.percentile(kgpp_far0, 99))\n"
   ]
  },
  {
   "cell_type": "code",
   "execution_count": null,
   "id": "286fcd67",
   "metadata": {},
   "outputs": [],
   "source": []
  }
 ],
 "metadata": {
  "kernelspec": {
   "display_name": "Python 3 (ipykernel)",
   "language": "python",
   "name": "python3"
  },
  "language_info": {
   "codemirror_mode": {
    "name": "ipython",
    "version": 3
   },
   "file_extension": ".py",
   "mimetype": "text/x-python",
   "name": "python",
   "nbconvert_exporter": "python",
   "pygments_lexer": "ipython3",
   "version": "3.9.7"
  }
 },
 "nbformat": 4,
 "nbformat_minor": 5
}
